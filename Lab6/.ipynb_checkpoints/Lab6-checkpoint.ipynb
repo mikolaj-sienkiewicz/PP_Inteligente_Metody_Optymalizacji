{
 "cells": [
  {
   "cell_type": "code",
   "execution_count": 1,
   "id": "4c879d4e",
   "metadata": {},
   "outputs": [],
   "source": [
    "#imports\n",
    "from scipy.spatial import distance_matrix\n",
    "from random import randrange\n",
    "import copy\n",
    "import matplotlib.pyplot as plt\n",
    "import imageio\n",
    "import imageio\n",
    "import random\n",
    "from time import time\n",
    "from tqdm import tqdm"
   ]
  },
  {
   "cell_type": "code",
   "execution_count": 2,
   "id": "3bf5cee2",
   "metadata": {},
   "outputs": [],
   "source": [
    "#loading datasets \n",
    "import numpy as np\n",
    "kroa={}\n",
    "krob={}\n",
    "np_kroa=[]\n",
    "np_krob=[]\n",
    "with open('kroa200.txt') as f:\n",
    "    lines = f.readlines()\n",
    "    for line in lines[6:-1]:\n",
    "        x=list(map(int,line.strip().split(' ')))\n",
    "        #print(x)\n",
    "        kroa[x[0]]=(x[1],x[2])\n",
    "        np_kroa.append((x[1],x[2]))\n",
    "np_kroa=np.array(np_kroa)\n",
    "with open('krob200.txt') as f:\n",
    "    lines = f.readlines()\n",
    "    for line in lines[6:-1]:\n",
    "        x=list(map(int,line.strip().split(' ')))\n",
    "        #print(x)\n",
    "        krob[x[0]]=(x[1],x[2])\n",
    "        np_krob.append((x[1],x[2]))\n",
    "\n",
    "np_kroa=np.array(np_kroa)\n",
    "np_krob=np.array(np_krob)\n",
    "\n",
    "#calculating distance matrix - https://docs.scipy.org/doc/scipy/reference/generated/scipy.spatial.distance_matrix.html\n",
    "dista=distance_matrix(np_kroa,np_kroa)\n",
    "distb=distance_matrix(np_krob,np_krob)"
   ]
  },
  {
   "cell_type": "code",
   "execution_count": 3,
   "id": "cb1a5cba",
   "metadata": {},
   "outputs": [],
   "source": [
    "#plotting functions\n",
    "def plotResult(np_dots, cycles):\n",
    "    plt.clf()\n",
    "    plt.plot(dataset[:,0][cycles[0][0]], dataset[:,1][cycles[0][0]], \"o\", markersize=12)\n",
    "    plt.plot(dataset[:,0][cycles[1][0]], dataset[:,1][cycles[1][0]], \"o\", markersize=12)\n",
    "    plt.plot(dataset[:,0][[*cycles[0],cycles[0][0]]], dataset[:,1][[*cycles[0],cycles[0][0]]], \"->\")\n",
    "    plt.plot(dataset[:,0][[*cycles[1],cycles[1][1]]], dataset[:,1][[*cycles[1],cycles[1][1]]], \"->\")\n",
    "    \n",
    "def plotPartResult(np_dots, cycles,i):\n",
    "    plt.plot(np_dots[:,0][cycles[0][0]], np_dots[:,1][cycles[0][0]], \"o\", markersize=12)\n",
    "    plt.plot(np_dots[:,0][cycles[1][0]], np_dots[:,1][cycles[1][0]], \"o\", markersize=12)\n",
    "    plt.plot(np_dots[:,0][cycles[0]], np_dots[:,1][cycles[0]], \"->\")\n",
    "    plt.plot(np_dots[:,0][cycles[1]], np_dots[:,1][cycles[1]], \"->\")\n",
    "    plt.plot(np_dots[:,0], np_dots[:,1], \".\")\n",
    "    plt.savefig(f'plots/{i}.png')\n",
    "    plt.show()    \n",
    "def calcDistance(currentCycle, dist):\n",
    "    distance = 0\n",
    "    for x,y in zip(currentCycle, [*currentCycle[1:], currentCycle[0]]):\n",
    "        distance += dist[x][y]\n",
    "    return distance "
   ]
  },
  {
   "cell_type": "code",
   "execution_count": 4,
   "id": "a2d063a8",
   "metadata": {},
   "outputs": [],
   "source": [
    "# 3rd variable - Generate neighbour solution\n",
    "#changes edges internally\n",
    "def change_edges(cycles, edge1, edge2, internally=False): # dummy internally\n",
    "    cI= 0 if len(np.where(cycles[0] == edge1)[0])!=0 else 1 \n",
    "#     print(cycles[cI])\n",
    "    inA=np.where(cycles[cI] == edge1)[0][0]\n",
    "    inB=np.where(cycles[cI] == edge2)[0][0]\n",
    "    inA += 1\n",
    "    inB += 1\n",
    "    cycle = cycles[cI]\n",
    "    cycle[inA: inB] = np.flip(cycle[inA: inB])\n",
    "    return cycles"
   ]
  },
  {
   "cell_type": "code",
   "execution_count": 5,
   "id": "ecac4e8a",
   "metadata": {},
   "outputs": [],
   "source": [
    "#changes vertex internally or externaly between cycles\n",
    "def change_vertices(cycles, a, b, internally=True):\n",
    "    if internally:\n",
    "#         print(len(np.where(cycles[0] == a)))\n",
    "#         print(np.where(cycles[0] == a))\n",
    "        cI= 0 if len(np.where(cycles[0] == a)[0])!=0 else 1 \n",
    "        inA=np.where(cycles[cI] == a)[0][0]\n",
    "        inB=np.where(cycles[cI] == b)[0][0]\n",
    "        tmp=cycles[cI][inA]\n",
    "        cycles[cI][inA]=b\n",
    "        cycles[cI][inB]=tmp\n",
    "        #print(cycles[0][inB], cycles[0][inA])\n",
    "    else:\n",
    "        cI= 0 if len(np.where(cycles[0] == a)[0])!=0 else 1 \n",
    "        cI2 = 1-cI\n",
    "        inA=np.where(cycles[cI] == a)[0][0]\n",
    "        inB=np.where(cycles[cI2] == b)[0][0]\n",
    "        tmp=cycles[cI][inA]\n",
    "        cycles[cI][inA]=b\n",
    "        cycles[cI2][inB]=tmp\n",
    "        #pass\n",
    "    #print(cycles)\n",
    "    return cycles\n",
    "    #if aIndex in cycles[0]\n",
    "    #raise NotImplementedError"
   ]
  },
  {
   "cell_type": "code",
   "execution_count": 6,
   "id": "55165557",
   "metadata": {},
   "outputs": [],
   "source": [
    "# 1st variable - Start cycle - with random assignments\n",
    "def start_cycle_random():\n",
    "    cycles={}\n",
    "    cycles[0]=np.random.choice(200,100,replace=False)\n",
    "    cycles[1]=np.array([i for i in np.arange(0,200,1) if i not in cycles[0]])\n",
    "    np.random.shuffle(cycles[1])\n",
    "    return cycles"
   ]
  },
  {
   "cell_type": "code",
   "execution_count": 7,
   "id": "6597af9e",
   "metadata": {},
   "outputs": [],
   "source": [
    "# 1st variable - Start cycle - with nearest neighbour method\n",
    "def start_cycle_heuristic(dataset_choice):\n",
    "    results=[]\n",
    "    min_result=np.inf\n",
    "    max_result=0\n",
    "    if dataset_choice==\"kroa\":\n",
    "        dataset=np_kroa\n",
    "        dic=kroa\n",
    "        dist=copy.deepcopy(dista)\n",
    "        dist_stable=copy.deepcopy(dista)\n",
    "    else:\n",
    "        dataset=np_krob\n",
    "        dic=krob\n",
    "        dist=copy.deepcopy(distb)\n",
    "        dist_stable=copy.deepcopy(distb)\n",
    "\n",
    "\n",
    "    #zmiana dystansu przekątnej na nieskonczonosc\n",
    "    np.fill_diagonal(dist, np.inf)\n",
    "\n",
    "    cycles={}\n",
    "    cycles[0]=[randrange(200)]\n",
    "    cycles[1]=[(np.argsort(dist[cycles[0][0]])[-2])]\n",
    "\n",
    "    for b in range(2):\n",
    "        dist[:,int(cycles[b][0])]=np.inf\n",
    "\n",
    "    chosenCycle=1\n",
    "    for i in range(0,198):\n",
    "        chosenCycle = int((chosenCycle + 1)%2)\n",
    "        candidates=[]\n",
    "        for z,index in enumerate(cycles[chosenCycle]):\n",
    "            candidates.append((np.argmin(dist[index]),np.min(dist[index]),z))\n",
    "        candidates=np.array(candidates)\n",
    "        x=np.argmin(candidates[:,1])\n",
    "        cycles[chosenCycle]=np.insert(cycles[chosenCycle],int(candidates[x,2]),int(candidates[x,0]))\n",
    "        dist[:,int(candidates[x,0])]=np.inf\n",
    "    \n",
    "    #print(f\"cycle[0]: {calcDistance(cycles[0], dist_stable)}\")\n",
    "    #print(f\"cycle[1]: {calcDistance(cycles[1], dist_stable)}\")\n",
    "    \n",
    "    #SAVING RESULTS \n",
    "    results.append(calcDistance(cycles[0],dist_stable)+calcDistance(cycles[1],dist_stable))\n",
    "    if results[-1]>max_result:\n",
    "        max_result=results[-1]\n",
    "    if results[-1]<min_result:\n",
    "        min_result=results[-1]\n",
    "#         plt.clf()\n",
    "#         plt.plot(dataset[:,0][cycles[0][0]], dataset[:,1][cycles[0][0]], \"o\", markersize=12)\n",
    "#         plt.plot(dataset[:,0][cycles[1][0]], dataset[:,1][cycles[1][0]], \"o\", markersize=12)\n",
    "#         plt.plot(dataset[:,0][cycles[0]], dataset[:,1][cycles[0]], \"->\")\n",
    "#         plt.plot(dataset[:,0][cycles[1]], dataset[:,1][cycles[1]], \"->\")\n",
    "#         plt.savefig(f'best_NN_{dataset_choice}.png')\n",
    "    return cycles"
   ]
  },
  {
   "cell_type": "code",
   "execution_count": 8,
   "id": "78948e27",
   "metadata": {},
   "outputs": [],
   "source": [
    "# 2nd variable - Find more optimal solution\n",
    "# switch parameter defines how u find neighbour solutions (is it change_vertices or change_edges func)\n",
    "def greedy_search(dist, np_dots, init_random = False, switch=\"change_edges\", cycles=None):\n",
    "    #specify cycles initialization.\n",
    "    if cycles is None:\n",
    "        if init_random:\n",
    "            cycles = start_cycle_random()\n",
    "        else:\n",
    "            cycles = start_cycle_heuristic()\n",
    "    #print(cycles)\n",
    "    \n",
    "    if switch == \"change_vertices\":\n",
    "        internal_change = change_vertices\n",
    "    elif switch == \"change_edges\":\n",
    "        internal_change = change_edges\n",
    "    else:\n",
    "        print(f\"Unknow mode {switch}. Select change_vertices or change_edges\")\n",
    "        return\n",
    "    \n",
    "    \n",
    "    \n",
    "    bestDistance = 0\n",
    "    #print(cycles[0])\n",
    "    bestDistance += calcDistance(cycles[0], dist) \n",
    "    bestDistance += calcDistance(cycles[1], dist) \n",
    "    #print(f\"Initial distance: {bestDistance}\")\n",
    "    \n",
    "    #plotPartResult(np_dots, cycles)\n",
    "    \n",
    "    \n",
    "    done = False\n",
    "    while not done:\n",
    "        done = True\n",
    "        #-------------calculating possible moves\n",
    "        possible_moves = []\n",
    "        \n",
    "        mesh = np.array(np.meshgrid(cycles[0], cycles[1]))\n",
    "        combinations = mesh.T.reshape(-1, 2)\n",
    "        for x in combinations:\n",
    "            possible_moves.append([\"external\", x])\n",
    "\n",
    "        mesh = np.array(np.meshgrid(cycles[0], cycles[0]))\n",
    "        mesh = np.concatenate((mesh,np.array(np.meshgrid(cycles[1], cycles[1]))),axis=0)\n",
    "        combinations = mesh.T.reshape(-1, 2)\n",
    "        for x in combinations:\n",
    "            possible_moves.append([\"internal\", x])\n",
    "        \n",
    "        possible_moves = np.array(possible_moves)\n",
    "        i = np.random.choice(range(len(possible_moves)),len(possible_moves),replace=False)\n",
    "        possible_moves = possible_moves[i]\n",
    "        \n",
    "\n",
    "        for move, edges in possible_moves:\n",
    "#             print(move, edges)\n",
    "            cyclesCopy = copy.deepcopy(cycles)\n",
    "            edge1 = edges[0]\n",
    "            edge2 = edges[1]\n",
    "            \n",
    "#             print(edge1, edge2)\n",
    "            if move == \"internal\":\n",
    "                cyclesCopy = internal_change(cyclesCopy, edge1, edge2, internally=True)\n",
    "            else:\n",
    "                cyclesCopy = change_vertices(cyclesCopy, edge1, edge2, False)\n",
    "#             plotPartResult(np_dots, cycles)\n",
    "            currentDistance = 0\n",
    "            currentDistance += calcDistance(cyclesCopy[0], dist)\n",
    "            currentDistance += calcDistance(cyclesCopy[1], dist)\n",
    "            if currentDistance < bestDistance:\n",
    "                #print(f\"New best distance: {currentDistance}, changed {edge1} with {edge2} on {move}\")\n",
    "                cycles = cyclesCopy\n",
    "                bestDistance = currentDistance\n",
    "                done = False\n",
    "                break\n",
    "    \n",
    "#     plotPartResult(np_dots, cycles)\n",
    "#     plt.show()\n",
    "    return cycles, bestDistance\n",
    "    "
   ]
  },
  {
   "cell_type": "markdown",
   "id": "6688fae8",
   "metadata": {},
   "source": [
    "### 1000 times Greedy"
   ]
  },
  {
   "cell_type": "code",
   "execution_count": 12,
   "id": "17a5fdfb",
   "metadata": {},
   "outputs": [
    {
     "name": "stderr",
     "output_type": "stream",
     "text": [
      "  0%|          | 0/10 [00:00<?, ?it/s]/home/mikolaj/.local/lib/python3.6/site-packages/ipykernel_launcher.py:48: VisibleDeprecationWarning: Creating an ndarray from ragged nested sequences (which is a list-or-tuple of lists-or-tuples-or ndarrays with different lengths or shapes) is deprecated. If you meant to do this, you must specify 'dtype=object' when creating the ndarray\n",
      "100%|██████████| 10/10 [14:29<00:00, 86.96s/it]\n"
     ]
    },
    {
     "ename": "OSError",
     "evalue": "[Errno 36] File name too long: '1000Gredy[[1357 1905]\\n [2650  802]\\n [1774  107]\\n [1307  964]\\n [3806  746]\\n [2687 1353]\\n [  43 1957]\\n [3092 1668]\\n [ 185 1542]\\n [ 834  629]\\n [  40  462]\\n [1183 1391]\\n [2048 1628]\\n [1097  643]\\n [1838 1732]\\n [ 234 1118]\\n [3314 1881]\\n [ 737 1285]\\n [ 779  777]\\n [2312 1949]\\n [2576  189]\\n [3078 1541]\\n [2781  478]\\n [ 705 1812]\\n [3409 1917]\\n [ 323 1714]\\n [1660 1556]\\n [3729 1188]\\n [ 693 1383]\\n [2361  640]\\n [2433 1538]\\n [ 554 1825]\\n [ 913  317]\\n [3586 1909]\\n [2636  727]\\n [1000  457]\\n [ 482 1337]\\n [3704 1082]\\n [3635 1174]\\n [1362 1526]\\n [2049  417]\\n [2552 1909]\\n [3939  640]\\n [ 219  898]\\n [ 812  351]\\n [ 901 1552]\\n [2513 1572]\\n [ 242  584]\\n [ 826 1226]\\n [3278  799]\\n [  86 1065]\\n [  14  454]\\n [1327 1893]\\n [2773 1286]\\n [2469 1838]\\n [3835  963]\\n [1031  428]\\n [3853 1712]\\n [1868  197]\\n [1544  863]\\n [ 457 1607]\\n [3174 1064]\\n [ 192 1004]\\n [2318 1925]\\n [2232 1374]\\n [ 396  828]\\n [2365 1649]\\n [2499  658]\\n [1410  307]\\n [2990  214]\\n [3646 1018]\\n [3394 1028]\\n [1779   90]\\n [1058  372]\\n [2933 1459]\\n [3099  173]\\n [2178  978]\\n [ 138 1610]\\n [2082 1753]\\n [2302 1127]\\n [ 805  272]\\n [  22 1617]\\n [3213 1085]\\n [  99  536]\\n [1533 1780]\\n [3564  676]\\n [  29    6]\\n [3808 1375]\\n [2221  291]\\n [3499 1885]\\n [3124  408]\\n [ 781  671]\\n [1027 1041]\\n [3249  378]\\n [3297  491]\\n [ 213  220]\\n [ 721  186]\\n [3736 1542]\\n [ 868  731]\\n [ 960  303]\\n [1380  939]\\n [2848   96]\\n [3510 1671]\\n [ 457  334]\\n [3888  666]\\n [ 984  965]\\n [2721 1482]\\n [1286  525]\\n [2716 1432]\\n [ 738 1325]\\n [1251 1832]\\n [2728 1698]\\n [3815  169]\\n [3683 1533]\\n [1247 1945]\\n [ 123  862]\\n [1234 1946]\\n [ 252 1240]\\n [ 611  673]\\n [2576 1676]\\n [ 928 1700]\\n [  53  857]\\n [1807 1711]\\n [ 274 1420]\\n [2574  946]\\n [ 178   24]\\n [2678 1825]\\n [1795  962]\\n [3384 1498]\\n [3520 1079]\\n [1256   61]\\n [1424 1728]\\n [3913  192]\\n [3085 1528]\\n [2573 1969]\\n [ 463 1670]\\n [3875  598]\\n [ 298 1513]\\n [3479  821]\\n [2542  236]\\n [3955 1743]\\n [1323  280]\\n [3447 1830]\\n [2936  337]\\n [1621 1830]\\n [3373 1646]\\n [1393 1368]\\n [3874 1318]\\n [ 938  955]\\n [3022  474]\\n [2482 1183]\\n [3854  923]\\n [ 376  825]\\n [2519  135]\\n [2945 1622]\\n [ 953  268]\\n [2628 1479]\\n [2097  981]\\n [ 890 1846]\\n [2139 1806]\\n [2421 1007]\\n [2290 1810]\\n [1115 1052]\\n [2588  302]\\n [ 327  265]\\n [ 241  341]\\n [1917  687]\\n [2991  792]\\n [2573  599]\\n [  19  674]\\n [3911 1673]\\n [ 872 1559]\\n [2863  558]\\n [ 929 1766]\\n [ 839  620]\\n [3893  102]\\n [2178 1619]\\n [3822  899]\\n [ 378 1048]\\n [1178  100]\\n [2599  901]\\n [3416  143]\\n [2961 1605]\\n [ 611 1384]\\n [3113  885]\\n [2597 1830]\\n [2586 1286]\\n [ 161  906]\\n [1429  134]\\n [ 742 1025]\\n [1625 1651]\\n [1187  706]\\n [1787 1009]\\n [  22  987]\\n [3640   43]\\n [3756  882]\\n [ 776  392]\\n [1724 1642]\\n [ 198 1810]\\n [3950 1558]].png'",
     "output_type": "error",
     "traceback": [
      "\u001b[0;31m---------------------------------------------------------------------------\u001b[0m",
      "\u001b[0;31mOSError\u001b[0m                                   Traceback (most recent call last)",
      "\u001b[0;32m<ipython-input-12-37222f548c48>\u001b[0m in \u001b[0;36m<module>\u001b[0;34m\u001b[0m\n\u001b[1;32m     24\u001b[0m     \u001b[0mplt\u001b[0m\u001b[0;34m.\u001b[0m\u001b[0mplot\u001b[0m\u001b[0;34m(\u001b[0m\u001b[0mdataset\u001b[0m\u001b[0;34m[\u001b[0m\u001b[0;34m:\u001b[0m\u001b[0;34m,\u001b[0m\u001b[0;36m0\u001b[0m\u001b[0;34m]\u001b[0m\u001b[0;34m[\u001b[0m\u001b[0;34m[\u001b[0m\u001b[0;34m*\u001b[0m\u001b[0mcycles\u001b[0m\u001b[0;34m[\u001b[0m\u001b[0;36m0\u001b[0m\u001b[0;34m]\u001b[0m\u001b[0;34m,\u001b[0m\u001b[0mcycles\u001b[0m\u001b[0;34m[\u001b[0m\u001b[0;36m0\u001b[0m\u001b[0;34m]\u001b[0m\u001b[0;34m[\u001b[0m\u001b[0;36m0\u001b[0m\u001b[0;34m]\u001b[0m\u001b[0;34m]\u001b[0m\u001b[0;34m]\u001b[0m\u001b[0;34m,\u001b[0m \u001b[0mdataset\u001b[0m\u001b[0;34m[\u001b[0m\u001b[0;34m:\u001b[0m\u001b[0;34m,\u001b[0m\u001b[0;36m1\u001b[0m\u001b[0;34m]\u001b[0m\u001b[0;34m[\u001b[0m\u001b[0;34m[\u001b[0m\u001b[0;34m*\u001b[0m\u001b[0mcycles\u001b[0m\u001b[0;34m[\u001b[0m\u001b[0;36m0\u001b[0m\u001b[0;34m]\u001b[0m\u001b[0;34m,\u001b[0m\u001b[0mcycles\u001b[0m\u001b[0;34m[\u001b[0m\u001b[0;36m0\u001b[0m\u001b[0;34m]\u001b[0m\u001b[0;34m[\u001b[0m\u001b[0;36m0\u001b[0m\u001b[0;34m]\u001b[0m\u001b[0;34m]\u001b[0m\u001b[0;34m]\u001b[0m\u001b[0;34m,\u001b[0m \u001b[0;34m\"->\"\u001b[0m\u001b[0;34m)\u001b[0m\u001b[0;34m\u001b[0m\u001b[0;34m\u001b[0m\u001b[0m\n\u001b[1;32m     25\u001b[0m     \u001b[0mplt\u001b[0m\u001b[0;34m.\u001b[0m\u001b[0mplot\u001b[0m\u001b[0;34m(\u001b[0m\u001b[0mdataset\u001b[0m\u001b[0;34m[\u001b[0m\u001b[0;34m:\u001b[0m\u001b[0;34m,\u001b[0m\u001b[0;36m0\u001b[0m\u001b[0;34m]\u001b[0m\u001b[0;34m[\u001b[0m\u001b[0;34m[\u001b[0m\u001b[0;34m*\u001b[0m\u001b[0mcycles\u001b[0m\u001b[0;34m[\u001b[0m\u001b[0;36m1\u001b[0m\u001b[0;34m]\u001b[0m\u001b[0;34m,\u001b[0m\u001b[0mcycles\u001b[0m\u001b[0;34m[\u001b[0m\u001b[0;36m1\u001b[0m\u001b[0;34m]\u001b[0m\u001b[0;34m[\u001b[0m\u001b[0;36m1\u001b[0m\u001b[0;34m]\u001b[0m\u001b[0;34m]\u001b[0m\u001b[0;34m]\u001b[0m\u001b[0;34m,\u001b[0m \u001b[0mdataset\u001b[0m\u001b[0;34m[\u001b[0m\u001b[0;34m:\u001b[0m\u001b[0;34m,\u001b[0m\u001b[0;36m1\u001b[0m\u001b[0;34m]\u001b[0m\u001b[0;34m[\u001b[0m\u001b[0;34m[\u001b[0m\u001b[0;34m*\u001b[0m\u001b[0mcycles\u001b[0m\u001b[0;34m[\u001b[0m\u001b[0;36m1\u001b[0m\u001b[0;34m]\u001b[0m\u001b[0;34m,\u001b[0m\u001b[0mcycles\u001b[0m\u001b[0;34m[\u001b[0m\u001b[0;36m1\u001b[0m\u001b[0;34m]\u001b[0m\u001b[0;34m[\u001b[0m\u001b[0;36m1\u001b[0m\u001b[0;34m]\u001b[0m\u001b[0;34m]\u001b[0m\u001b[0;34m]\u001b[0m\u001b[0;34m,\u001b[0m \u001b[0;34m\"->\"\u001b[0m\u001b[0;34m)\u001b[0m\u001b[0;34m\u001b[0m\u001b[0;34m\u001b[0m\u001b[0m\n\u001b[0;32m---> 26\u001b[0;31m     \u001b[0mplt\u001b[0m\u001b[0;34m.\u001b[0m\u001b[0msavefig\u001b[0m\u001b[0;34m(\u001b[0m\u001b[0;34mf\"1000Gredy{dataset}.png\"\u001b[0m\u001b[0;34m)\u001b[0m\u001b[0;34m\u001b[0m\u001b[0;34m\u001b[0m\u001b[0m\n\u001b[0m\u001b[1;32m     27\u001b[0m     \u001b[0mplt\u001b[0m\u001b[0;34m.\u001b[0m\u001b[0mshow\u001b[0m\u001b[0;34m(\u001b[0m\u001b[0;34m)\u001b[0m\u001b[0;34m\u001b[0m\u001b[0;34m\u001b[0m\u001b[0m\n\u001b[1;32m     28\u001b[0m     \u001b[0;32mwith\u001b[0m \u001b[0mopen\u001b[0m\u001b[0;34m(\u001b[0m\u001b[0;34mf\"Greedy1000{dataset_choice}.txt\"\u001b[0m\u001b[0;34m,\u001b[0m \u001b[0;34m\"w\"\u001b[0m\u001b[0;34m)\u001b[0m \u001b[0;32mas\u001b[0m \u001b[0mf\u001b[0m\u001b[0;34m:\u001b[0m\u001b[0;34m\u001b[0m\u001b[0;34m\u001b[0m\u001b[0m\n",
      "\u001b[0;32m~/.local/lib/python3.6/site-packages/matplotlib/pyplot.py\u001b[0m in \u001b[0;36msavefig\u001b[0;34m(*args, **kwargs)\u001b[0m\n\u001b[1;32m    857\u001b[0m \u001b[0;32mdef\u001b[0m \u001b[0msavefig\u001b[0m\u001b[0;34m(\u001b[0m\u001b[0;34m*\u001b[0m\u001b[0margs\u001b[0m\u001b[0;34m,\u001b[0m \u001b[0;34m**\u001b[0m\u001b[0mkwargs\u001b[0m\u001b[0;34m)\u001b[0m\u001b[0;34m:\u001b[0m\u001b[0;34m\u001b[0m\u001b[0;34m\u001b[0m\u001b[0m\n\u001b[1;32m    858\u001b[0m     \u001b[0mfig\u001b[0m \u001b[0;34m=\u001b[0m \u001b[0mgcf\u001b[0m\u001b[0;34m(\u001b[0m\u001b[0;34m)\u001b[0m\u001b[0;34m\u001b[0m\u001b[0;34m\u001b[0m\u001b[0m\n\u001b[0;32m--> 859\u001b[0;31m     \u001b[0mres\u001b[0m \u001b[0;34m=\u001b[0m \u001b[0mfig\u001b[0m\u001b[0;34m.\u001b[0m\u001b[0msavefig\u001b[0m\u001b[0;34m(\u001b[0m\u001b[0;34m*\u001b[0m\u001b[0margs\u001b[0m\u001b[0;34m,\u001b[0m \u001b[0;34m**\u001b[0m\u001b[0mkwargs\u001b[0m\u001b[0;34m)\u001b[0m\u001b[0;34m\u001b[0m\u001b[0;34m\u001b[0m\u001b[0m\n\u001b[0m\u001b[1;32m    860\u001b[0m     \u001b[0mfig\u001b[0m\u001b[0;34m.\u001b[0m\u001b[0mcanvas\u001b[0m\u001b[0;34m.\u001b[0m\u001b[0mdraw_idle\u001b[0m\u001b[0;34m(\u001b[0m\u001b[0;34m)\u001b[0m   \u001b[0;31m# need this if 'transparent=True' to reset colors\u001b[0m\u001b[0;34m\u001b[0m\u001b[0;34m\u001b[0m\u001b[0m\n\u001b[1;32m    861\u001b[0m     \u001b[0;32mreturn\u001b[0m \u001b[0mres\u001b[0m\u001b[0;34m\u001b[0m\u001b[0;34m\u001b[0m\u001b[0m\n",
      "\u001b[0;32m~/.local/lib/python3.6/site-packages/matplotlib/figure.py\u001b[0m in \u001b[0;36msavefig\u001b[0;34m(self, fname, transparent, **kwargs)\u001b[0m\n\u001b[1;32m   2309\u001b[0m                 \u001b[0mpatch\u001b[0m\u001b[0;34m.\u001b[0m\u001b[0mset_edgecolor\u001b[0m\u001b[0;34m(\u001b[0m\u001b[0;34m'none'\u001b[0m\u001b[0;34m)\u001b[0m\u001b[0;34m\u001b[0m\u001b[0;34m\u001b[0m\u001b[0m\n\u001b[1;32m   2310\u001b[0m \u001b[0;34m\u001b[0m\u001b[0m\n\u001b[0;32m-> 2311\u001b[0;31m         \u001b[0mself\u001b[0m\u001b[0;34m.\u001b[0m\u001b[0mcanvas\u001b[0m\u001b[0;34m.\u001b[0m\u001b[0mprint_figure\u001b[0m\u001b[0;34m(\u001b[0m\u001b[0mfname\u001b[0m\u001b[0;34m,\u001b[0m \u001b[0;34m**\u001b[0m\u001b[0mkwargs\u001b[0m\u001b[0;34m)\u001b[0m\u001b[0;34m\u001b[0m\u001b[0;34m\u001b[0m\u001b[0m\n\u001b[0m\u001b[1;32m   2312\u001b[0m \u001b[0;34m\u001b[0m\u001b[0m\n\u001b[1;32m   2313\u001b[0m         \u001b[0;32mif\u001b[0m \u001b[0mtransparent\u001b[0m\u001b[0;34m:\u001b[0m\u001b[0;34m\u001b[0m\u001b[0;34m\u001b[0m\u001b[0m\n",
      "\u001b[0;32m~/.local/lib/python3.6/site-packages/matplotlib/backend_bases.py\u001b[0m in \u001b[0;36mprint_figure\u001b[0;34m(self, filename, dpi, facecolor, edgecolor, orientation, format, bbox_inches, pad_inches, bbox_extra_artists, backend, **kwargs)\u001b[0m\n\u001b[1;32m   2215\u001b[0m                     \u001b[0morientation\u001b[0m\u001b[0;34m=\u001b[0m\u001b[0morientation\u001b[0m\u001b[0;34m,\u001b[0m\u001b[0;34m\u001b[0m\u001b[0;34m\u001b[0m\u001b[0m\n\u001b[1;32m   2216\u001b[0m                     \u001b[0mbbox_inches_restore\u001b[0m\u001b[0;34m=\u001b[0m\u001b[0m_bbox_inches_restore\u001b[0m\u001b[0;34m,\u001b[0m\u001b[0;34m\u001b[0m\u001b[0;34m\u001b[0m\u001b[0m\n\u001b[0;32m-> 2217\u001b[0;31m                     **kwargs)\n\u001b[0m\u001b[1;32m   2218\u001b[0m             \u001b[0;32mfinally\u001b[0m\u001b[0;34m:\u001b[0m\u001b[0;34m\u001b[0m\u001b[0;34m\u001b[0m\u001b[0m\n\u001b[1;32m   2219\u001b[0m                 \u001b[0;32mif\u001b[0m \u001b[0mbbox_inches\u001b[0m \u001b[0;32mand\u001b[0m \u001b[0mrestore_bbox\u001b[0m\u001b[0;34m:\u001b[0m\u001b[0;34m\u001b[0m\u001b[0;34m\u001b[0m\u001b[0m\n",
      "\u001b[0;32m~/.local/lib/python3.6/site-packages/matplotlib/backend_bases.py\u001b[0m in \u001b[0;36mwrapper\u001b[0;34m(*args, **kwargs)\u001b[0m\n\u001b[1;32m   1637\u001b[0m             \u001b[0mkwargs\u001b[0m\u001b[0;34m.\u001b[0m\u001b[0mpop\u001b[0m\u001b[0;34m(\u001b[0m\u001b[0marg\u001b[0m\u001b[0;34m)\u001b[0m\u001b[0;34m\u001b[0m\u001b[0;34m\u001b[0m\u001b[0m\n\u001b[1;32m   1638\u001b[0m \u001b[0;34m\u001b[0m\u001b[0m\n\u001b[0;32m-> 1639\u001b[0;31m         \u001b[0;32mreturn\u001b[0m \u001b[0mfunc\u001b[0m\u001b[0;34m(\u001b[0m\u001b[0;34m*\u001b[0m\u001b[0margs\u001b[0m\u001b[0;34m,\u001b[0m \u001b[0;34m**\u001b[0m\u001b[0mkwargs\u001b[0m\u001b[0;34m)\u001b[0m\u001b[0;34m\u001b[0m\u001b[0;34m\u001b[0m\u001b[0m\n\u001b[0m\u001b[1;32m   1640\u001b[0m \u001b[0;34m\u001b[0m\u001b[0m\n\u001b[1;32m   1641\u001b[0m     \u001b[0;32mreturn\u001b[0m \u001b[0mwrapper\u001b[0m\u001b[0;34m\u001b[0m\u001b[0;34m\u001b[0m\u001b[0m\n",
      "\u001b[0;32m~/.local/lib/python3.6/site-packages/matplotlib/backends/backend_agg.py\u001b[0m in \u001b[0;36mprint_png\u001b[0;34m(self, filename_or_obj, metadata, pil_kwargs, *args)\u001b[0m\n\u001b[1;32m    510\u001b[0m         mpl.image.imsave(\n\u001b[1;32m    511\u001b[0m             \u001b[0mfilename_or_obj\u001b[0m\u001b[0;34m,\u001b[0m \u001b[0mself\u001b[0m\u001b[0;34m.\u001b[0m\u001b[0mbuffer_rgba\u001b[0m\u001b[0;34m(\u001b[0m\u001b[0;34m)\u001b[0m\u001b[0;34m,\u001b[0m \u001b[0mformat\u001b[0m\u001b[0;34m=\u001b[0m\u001b[0;34m\"png\"\u001b[0m\u001b[0;34m,\u001b[0m \u001b[0morigin\u001b[0m\u001b[0;34m=\u001b[0m\u001b[0;34m\"upper\"\u001b[0m\u001b[0;34m,\u001b[0m\u001b[0;34m\u001b[0m\u001b[0;34m\u001b[0m\u001b[0m\n\u001b[0;32m--> 512\u001b[0;31m             dpi=self.figure.dpi, metadata=metadata, pil_kwargs=pil_kwargs)\n\u001b[0m\u001b[1;32m    513\u001b[0m \u001b[0;34m\u001b[0m\u001b[0m\n\u001b[1;32m    514\u001b[0m     \u001b[0;32mdef\u001b[0m \u001b[0mprint_to_buffer\u001b[0m\u001b[0;34m(\u001b[0m\u001b[0mself\u001b[0m\u001b[0;34m)\u001b[0m\u001b[0;34m:\u001b[0m\u001b[0;34m\u001b[0m\u001b[0;34m\u001b[0m\u001b[0m\n",
      "\u001b[0;32m~/.local/lib/python3.6/site-packages/matplotlib/image.py\u001b[0m in \u001b[0;36mimsave\u001b[0;34m(fname, arr, vmin, vmax, cmap, format, origin, dpi, metadata, pil_kwargs)\u001b[0m\n\u001b[1;32m   1609\u001b[0m         \u001b[0mpil_kwargs\u001b[0m\u001b[0;34m.\u001b[0m\u001b[0msetdefault\u001b[0m\u001b[0;34m(\u001b[0m\u001b[0;34m\"format\"\u001b[0m\u001b[0;34m,\u001b[0m \u001b[0mformat\u001b[0m\u001b[0;34m)\u001b[0m\u001b[0;34m\u001b[0m\u001b[0;34m\u001b[0m\u001b[0m\n\u001b[1;32m   1610\u001b[0m         \u001b[0mpil_kwargs\u001b[0m\u001b[0;34m.\u001b[0m\u001b[0msetdefault\u001b[0m\u001b[0;34m(\u001b[0m\u001b[0;34m\"dpi\"\u001b[0m\u001b[0;34m,\u001b[0m \u001b[0;34m(\u001b[0m\u001b[0mdpi\u001b[0m\u001b[0;34m,\u001b[0m \u001b[0mdpi\u001b[0m\u001b[0;34m)\u001b[0m\u001b[0;34m)\u001b[0m\u001b[0;34m\u001b[0m\u001b[0;34m\u001b[0m\u001b[0m\n\u001b[0;32m-> 1611\u001b[0;31m         \u001b[0mimage\u001b[0m\u001b[0;34m.\u001b[0m\u001b[0msave\u001b[0m\u001b[0;34m(\u001b[0m\u001b[0mfname\u001b[0m\u001b[0;34m,\u001b[0m \u001b[0;34m**\u001b[0m\u001b[0mpil_kwargs\u001b[0m\u001b[0;34m)\u001b[0m\u001b[0;34m\u001b[0m\u001b[0;34m\u001b[0m\u001b[0m\n\u001b[0m\u001b[1;32m   1612\u001b[0m \u001b[0;34m\u001b[0m\u001b[0m\n\u001b[1;32m   1613\u001b[0m \u001b[0;34m\u001b[0m\u001b[0m\n",
      "\u001b[0;32m/usr/local/lib/python3.6/dist-packages/PIL/Image.py\u001b[0m in \u001b[0;36msave\u001b[0;34m(self, fp, format, **params)\u001b[0m\n\u001b[1;32m   2153\u001b[0m                 \u001b[0mfp\u001b[0m \u001b[0;34m=\u001b[0m \u001b[0mbuiltins\u001b[0m\u001b[0;34m.\u001b[0m\u001b[0mopen\u001b[0m\u001b[0;34m(\u001b[0m\u001b[0mfilename\u001b[0m\u001b[0;34m,\u001b[0m \u001b[0;34m\"r+b\"\u001b[0m\u001b[0;34m)\u001b[0m\u001b[0;34m\u001b[0m\u001b[0;34m\u001b[0m\u001b[0m\n\u001b[1;32m   2154\u001b[0m             \u001b[0;32melse\u001b[0m\u001b[0;34m:\u001b[0m\u001b[0;34m\u001b[0m\u001b[0;34m\u001b[0m\u001b[0m\n\u001b[0;32m-> 2155\u001b[0;31m                 \u001b[0mfp\u001b[0m \u001b[0;34m=\u001b[0m \u001b[0mbuiltins\u001b[0m\u001b[0;34m.\u001b[0m\u001b[0mopen\u001b[0m\u001b[0;34m(\u001b[0m\u001b[0mfilename\u001b[0m\u001b[0;34m,\u001b[0m \u001b[0;34m\"w+b\"\u001b[0m\u001b[0;34m)\u001b[0m\u001b[0;34m\u001b[0m\u001b[0;34m\u001b[0m\u001b[0m\n\u001b[0m\u001b[1;32m   2156\u001b[0m \u001b[0;34m\u001b[0m\u001b[0m\n\u001b[1;32m   2157\u001b[0m         \u001b[0;32mtry\u001b[0m\u001b[0;34m:\u001b[0m\u001b[0;34m\u001b[0m\u001b[0;34m\u001b[0m\u001b[0m\n",
      "\u001b[0;31mOSError\u001b[0m: [Errno 36] File name too long: '1000Gredy[[1357 1905]\\n [2650  802]\\n [1774  107]\\n [1307  964]\\n [3806  746]\\n [2687 1353]\\n [  43 1957]\\n [3092 1668]\\n [ 185 1542]\\n [ 834  629]\\n [  40  462]\\n [1183 1391]\\n [2048 1628]\\n [1097  643]\\n [1838 1732]\\n [ 234 1118]\\n [3314 1881]\\n [ 737 1285]\\n [ 779  777]\\n [2312 1949]\\n [2576  189]\\n [3078 1541]\\n [2781  478]\\n [ 705 1812]\\n [3409 1917]\\n [ 323 1714]\\n [1660 1556]\\n [3729 1188]\\n [ 693 1383]\\n [2361  640]\\n [2433 1538]\\n [ 554 1825]\\n [ 913  317]\\n [3586 1909]\\n [2636  727]\\n [1000  457]\\n [ 482 1337]\\n [3704 1082]\\n [3635 1174]\\n [1362 1526]\\n [2049  417]\\n [2552 1909]\\n [3939  640]\\n [ 219  898]\\n [ 812  351]\\n [ 901 1552]\\n [2513 1572]\\n [ 242  584]\\n [ 826 1226]\\n [3278  799]\\n [  86 1065]\\n [  14  454]\\n [1327 1893]\\n [2773 1286]\\n [2469 1838]\\n [3835  963]\\n [1031  428]\\n [3853 1712]\\n [1868  197]\\n [1544  863]\\n [ 457 1607]\\n [3174 1064]\\n [ 192 1004]\\n [2318 1925]\\n [2232 1374]\\n [ 396  828]\\n [2365 1649]\\n [2499  658]\\n [1410  307]\\n [2990  214]\\n [3646 1018]\\n [3394 1028]\\n [1779   90]\\n [1058  372]\\n [2933 1459]\\n [3099  173]\\n [2178  978]\\n [ 138 1610]\\n [2082 1753]\\n [2302 1127]\\n [ 805  272]\\n [  22 1617]\\n [3213 1085]\\n [  99  536]\\n [1533 1780]\\n [3564  676]\\n [  29    6]\\n [3808 1375]\\n [2221  291]\\n [3499 1885]\\n [3124  408]\\n [ 781  671]\\n [1027 1041]\\n [3249  378]\\n [3297  491]\\n [ 213  220]\\n [ 721  186]\\n [3736 1542]\\n [ 868  731]\\n [ 960  303]\\n [1380  939]\\n [2848   96]\\n [3510 1671]\\n [ 457  334]\\n [3888  666]\\n [ 984  965]\\n [2721 1482]\\n [1286  525]\\n [2716 1432]\\n [ 738 1325]\\n [1251 1832]\\n [2728 1698]\\n [3815  169]\\n [3683 1533]\\n [1247 1945]\\n [ 123  862]\\n [1234 1946]\\n [ 252 1240]\\n [ 611  673]\\n [2576 1676]\\n [ 928 1700]\\n [  53  857]\\n [1807 1711]\\n [ 274 1420]\\n [2574  946]\\n [ 178   24]\\n [2678 1825]\\n [1795  962]\\n [3384 1498]\\n [3520 1079]\\n [1256   61]\\n [1424 1728]\\n [3913  192]\\n [3085 1528]\\n [2573 1969]\\n [ 463 1670]\\n [3875  598]\\n [ 298 1513]\\n [3479  821]\\n [2542  236]\\n [3955 1743]\\n [1323  280]\\n [3447 1830]\\n [2936  337]\\n [1621 1830]\\n [3373 1646]\\n [1393 1368]\\n [3874 1318]\\n [ 938  955]\\n [3022  474]\\n [2482 1183]\\n [3854  923]\\n [ 376  825]\\n [2519  135]\\n [2945 1622]\\n [ 953  268]\\n [2628 1479]\\n [2097  981]\\n [ 890 1846]\\n [2139 1806]\\n [2421 1007]\\n [2290 1810]\\n [1115 1052]\\n [2588  302]\\n [ 327  265]\\n [ 241  341]\\n [1917  687]\\n [2991  792]\\n [2573  599]\\n [  19  674]\\n [3911 1673]\\n [ 872 1559]\\n [2863  558]\\n [ 929 1766]\\n [ 839  620]\\n [3893  102]\\n [2178 1619]\\n [3822  899]\\n [ 378 1048]\\n [1178  100]\\n [2599  901]\\n [3416  143]\\n [2961 1605]\\n [ 611 1384]\\n [3113  885]\\n [2597 1830]\\n [2586 1286]\\n [ 161  906]\\n [1429  134]\\n [ 742 1025]\\n [1625 1651]\\n [1187  706]\\n [1787 1009]\\n [  22  987]\\n [3640   43]\\n [3756  882]\\n [ 776  392]\\n [1724 1642]\\n [ 198 1810]\\n [3950 1558]].png'"
     ]
    },
    {
     "data": {
      "image/png": "[encoded data removed]",
      "text/plain": [
       "<Figure size 432x288 with 1 Axes>"
      ]
     },
     "metadata": {
      "needs_background": "light"
     },
     "output_type": "display_data"
    }
   ],
   "source": [
    "cyclesTable = {}\n",
    "distanceTable = {}\n",
    "for dataset_choice in [\"kroa\",\"krob\"]:\n",
    "    if dataset_choice==\"kroa\":\n",
    "        dataset=np_kroa\n",
    "        dic=kroa\n",
    "        dist=copy.deepcopy(dista)\n",
    "        dist_stable=copy.deepcopy(dista)\n",
    "    else:\n",
    "        dataset=np_krob\n",
    "        dic=krob\n",
    "        dist=copy.deepcopy(distb)\n",
    "        dist_stable=copy.deepcopy(distb)    \n",
    "    cyclesTable[dataset_choice]=[]\n",
    "    distanceTable[dataset_choice]=[]\n",
    "    for iteration in tqdm(range(10)):\n",
    "        cycles,bestDist=greedy_search(dist, dataset, init_random = True, switch=\"change_edges\")\n",
    "        cyclesTable[dataset_choice].append(cycles)\n",
    "        distanceTable[dataset_choice].append(bestDist)\n",
    "    cycles = cyclesTable[dataset_choice][np.argmin(distanceTable[dataset_choice])]\n",
    "    plt.clf()\n",
    "    plt.plot(dataset[:,0][cycles[0][0]], dataset[:,1][cycles[0][0]], \"o\", markersize=12)\n",
    "    plt.plot(dataset[:,0][cycles[1][0]], dataset[:,1][cycles[1][0]], \"o\", markersize=12)                \n",
    "    plt.plot(dataset[:,0][[*cycles[0],cycles[0][0]]], dataset[:,1][[*cycles[0],cycles[0][0]]], \"->\")\n",
    "    plt.plot(dataset[:,0][[*cycles[1],cycles[1][1]]], dataset[:,1][[*cycles[1],cycles[1][1]]], \"->\")\n",
    "    plt.savefig(f\"1000Gredy{dataset_choice}.png\")\n",
    "    plt.show()\n",
    "    with open(f\"Greedy1000{dataset_choice}.txt\", \"w\") as f:\n",
    "        f.write(f\"min:{np.min(distanceTable[dataset_choice])}, max:{np.max(distanceTable[dataset_choice])}, mean:{np.mean(distanceTable[dataset_choice])}\")"
   ]
  },
  {
   "cell_type": "code",
   "execution_count": 73,
   "id": "9bda0a27",
   "metadata": {},
   "outputs": [],
   "source": [
    "def edgeSim(cycles1,cycles2):\n",
    "    cycles1merged=list(np.concatenate([np.array(cycles1[0]),np.array([cycles1[0][0],201]),np.array(cycles1[1]),np.array([cycles1[1][0]])]))\n",
    "    cycles2merged=list(np.concatenate([np.array(cycles2[0]),np.array([cycles2[0][0],202]),np.array(cycles2[1]),np.array([cycles2[1][0]])]))\n",
    "    simcountr=0\n",
    "    #print(cycles1merged)\n",
    "    for i in range (len(cycles1merged)-1):\n",
    "        #print(np.where(cycles2merged==cycles1merged[i])[0])\n",
    "        if i==100 or i==101:\n",
    "            #print(cycles1merged[i])\n",
    "            continue\n",
    "        if cycles2merged.index(cycles1merged[i])+1==cycles2merged.index(cycles1merged[i+1]):\n",
    "        #if cycles1merged[i+1]==cycles2merged[np.where(cycles2merged==cycles1merged[i])[0][0]+1]:\n",
    "            simcountr+=1\n",
    "    return simcountr\n",
    "    #cycles2merged=cycles2[0]+[202]+cycles2[1]\n",
    "    #print(cycles1merged,cycles2merged)\n",
    "#     for i in cycles1[0]:\n",
    "        \n",
    "#     cycles1[0]"
   ]
  },
  {
   "cell_type": "code",
   "execution_count": 74,
   "id": "4811feb7",
   "metadata": {},
   "outputs": [
    {
     "data": {
      "text/plain": [
       "79"
      ]
     },
     "execution_count": 74,
     "metadata": {},
     "output_type": "execute_result"
    }
   ],
   "source": [
    "edgeSim(cyclesTable[\"kroa\"][0],cyclesTable[\"kroa\"][1])"
   ]
  },
  {
   "cell_type": "code",
   "execution_count": 78,
   "id": "2daf125f",
   "metadata": {},
   "outputs": [],
   "source": [
    "def vertexSim(cycles1,cycles2):\n",
    "    z2z=0\n",
    "    for v in cycles1[0]:\n",
    "        if v in cycles2[0]:\n",
    "            z2z+=1\n",
    "    z2o=100-z2z\n",
    "    if z2o>z2z:\n",
    "        return 2*z2o\n",
    "    else:\n",
    "        return 2*z2z"
   ]
  },
  {
   "cell_type": "code",
   "execution_count": 79,
   "id": "bdfb8653",
   "metadata": {},
   "outputs": [
    {
     "data": {
      "text/plain": [
       "110"
      ]
     },
     "execution_count": 79,
     "metadata": {},
     "output_type": "execute_result"
    }
   ],
   "source": [
    "vertexSim(cyclesTable[\"kroa\"][0],cyclesTable[\"kroa\"][1])"
   ]
  },
  {
   "cell_type": "code",
   "execution_count": 92,
   "id": "4f557160",
   "metadata": {},
   "outputs": [],
   "source": [
    "def simWithBest(cyclesTable,distanceTable):\n",
    "    bestCycles=cyclesTable[np.argmin(distanceTable)]\n",
    "    vertSimBest=[]\n",
    "    edgeSimBest=[]\n",
    "    for currCycle,currDistance in tqdm(zip(cyclesTable,distanceTable)):\n",
    "#         if i==np.argmin(distanceTable):\n",
    "#             continue\n",
    "        vertSimBest.append((currDistance,vertexSim(currCycle,bestCycles)))\n",
    "        edgeSimBest.append((currDistance,edgeSim(currCycle,bestCycles)))\n",
    "\n",
    "    return vertSimBest,edgeSimBest"
   ]
  },
  {
   "cell_type": "code",
   "execution_count": 93,
   "id": "6a7accaa",
   "metadata": {},
   "outputs": [
    {
     "name": "stderr",
     "output_type": "stream",
     "text": [
      "10it [00:00, 159.27it/s]\n"
     ]
    },
    {
     "data": {
      "text/plain": [
       "([(39381.085006167385, 100),\n",
       "  (40283.174571688796, 102),\n",
       "  (39226.32448512006, 108),\n",
       "  (38837.585568114315, 116),\n",
       "  (39118.44231016768, 104),\n",
       "  (38122.50682388405, 102),\n",
       "  (38297.25380060471, 114),\n",
       "  (36665.56587327646, 200),\n",
       "  (37597.39575136626, 102),\n",
       "  (37929.32165853802, 106)],\n",
       " [(39381.085006167385, 66),\n",
       "  (40283.174571688796, 70),\n",
       "  (39226.32448512006, 47),\n",
       "  (38837.585568114315, 65),\n",
       "  (39118.44231016768, 35),\n",
       "  (38122.50682388405, 37),\n",
       "  (38297.25380060471, 43),\n",
       "  (36665.56587327646, 198),\n",
       "  (37597.39575136626, 57),\n",
       "  (37929.32165853802, 55)])"
      ]
     },
     "execution_count": 93,
     "metadata": {},
     "output_type": "execute_result"
    }
   ],
   "source": [
    "simWithBest(cyclesTable[\"kroa\"],distanceTable[\"kroa\"])"
   ]
  },
  {
   "cell_type": "code",
   "execution_count": 90,
   "id": "fb959d13",
   "metadata": {},
   "outputs": [],
   "source": [
    "def simAverage(cyclesTable,distanceTable):\n",
    "    averageVertSim=[]\n",
    "    averageEdgeSim=[]\n",
    "    for firstCycle,firstDistance in tqdm(zip(cyclesTable,distanceTable)):\n",
    "        vSim=[]\n",
    "        eSim=[]\n",
    "        for secondCycle in cyclesTable:\n",
    "            vSim.append(vertexSim(firstCycle,secondCycle))\n",
    "            eSim.append(edgeSim(firstCycle,secondCycle))\n",
    "        averageVertSim.append((firstDistance,np.mean(vSim)))\n",
    "        averageEdgeSim.append((firstDistance,np.mean(eSim)))\n",
    "        \n",
    "    return averageVertSim,averageEdgeSim"
   ]
  },
  {
   "cell_type": "code",
   "execution_count": 95,
   "id": "eb8219cd",
   "metadata": {},
   "outputs": [
    {
     "name": "stderr",
     "output_type": "stream",
     "text": [
      "10it [00:00, 20.98it/s]\n"
     ]
    }
   ],
   "source": [
    "averageVertSim,averageEdgeSim=simAverage(cyclesTable[\"kroa\"],distanceTable[\"kroa\"])"
   ]
  },
  {
   "cell_type": "code",
   "execution_count": 97,
   "id": "2a32902c",
   "metadata": {},
   "outputs": [],
   "source": [
    "def plotSim(sim):\n",
    "    print(sim)\n",
    "    distances,similarity=sim\n",
    "    print(distances)"
   ]
  },
  {
   "cell_type": "code",
   "execution_count": 98,
   "id": "d3784b69",
   "metadata": {},
   "outputs": [
    {
     "name": "stdout",
     "output_type": "stream",
     "text": [
      "[(39381.085006167385, 115.8), (40283.174571688796, 118.2), (39226.32448512006, 119.0), (38837.585568114315, 119.2), (39118.44231016768, 115.8), (38122.50682388405, 114.2), (38297.25380060471, 115.8), (36665.56587327646, 115.4), (37597.39575136626, 115.8), (37929.32165853802, 118.8)]\n"
     ]
    },
    {
     "ename": "ValueError",
     "evalue": "too many values to unpack (expected 2)",
     "output_type": "error",
     "traceback": [
      "\u001b[0;31m---------------------------------------------------------------------------\u001b[0m",
      "\u001b[0;31mValueError\u001b[0m                                Traceback (most recent call last)",
      "\u001b[0;32m<ipython-input-98-1e7808a9469f>\u001b[0m in \u001b[0;36m<module>\u001b[0;34m\u001b[0m\n\u001b[0;32m----> 1\u001b[0;31m \u001b[0mplotSim\u001b[0m\u001b[0;34m(\u001b[0m\u001b[0maverageVertSim\u001b[0m\u001b[0;34m)\u001b[0m\u001b[0;34m\u001b[0m\u001b[0;34m\u001b[0m\u001b[0m\n\u001b[0m",
      "\u001b[0;32m<ipython-input-97-7c4bb830fb55>\u001b[0m in \u001b[0;36mplotSim\u001b[0;34m(sim)\u001b[0m\n\u001b[1;32m      1\u001b[0m \u001b[0;32mdef\u001b[0m \u001b[0mplotSim\u001b[0m\u001b[0;34m(\u001b[0m\u001b[0msim\u001b[0m\u001b[0;34m)\u001b[0m\u001b[0;34m:\u001b[0m\u001b[0;34m\u001b[0m\u001b[0;34m\u001b[0m\u001b[0m\n\u001b[1;32m      2\u001b[0m     \u001b[0mprint\u001b[0m\u001b[0;34m(\u001b[0m\u001b[0msim\u001b[0m\u001b[0;34m)\u001b[0m\u001b[0;34m\u001b[0m\u001b[0;34m\u001b[0m\u001b[0m\n\u001b[0;32m----> 3\u001b[0;31m     \u001b[0mdistances\u001b[0m\u001b[0;34m,\u001b[0m\u001b[0msimilarity\u001b[0m\u001b[0;34m=\u001b[0m\u001b[0msim\u001b[0m\u001b[0;34m\u001b[0m\u001b[0;34m\u001b[0m\u001b[0m\n\u001b[0m\u001b[1;32m      4\u001b[0m     \u001b[0mprint\u001b[0m\u001b[0;34m(\u001b[0m\u001b[0mdistances\u001b[0m\u001b[0;34m)\u001b[0m\u001b[0;34m\u001b[0m\u001b[0;34m\u001b[0m\u001b[0m\n",
      "\u001b[0;31mValueError\u001b[0m: too many values to unpack (expected 2)"
     ]
    }
   ],
   "source": [
    "plotSim(averageVertSim)"
   ]
  },
  {
   "cell_type": "code",
   "execution_count": null,
   "id": "f32246d3",
   "metadata": {},
   "outputs": [],
   "source": []
  }
 ],
 "metadata": {
  "kernelspec": {
   "display_name": "Python 3",
   "language": "python",
   "name": "python3"
  },
  "language_info": {
   "codemirror_mode": {
    "name": "ipython",
    "version": 3
   },
   "file_extension": ".py",
   "mimetype": "text/x-python",
   "name": "python",
   "nbconvert_exporter": "python",
   "pygments_lexer": "ipython3",
   "version": "3.6.9"
  }
 },
 "nbformat": 4,
 "nbformat_minor": 5
}
