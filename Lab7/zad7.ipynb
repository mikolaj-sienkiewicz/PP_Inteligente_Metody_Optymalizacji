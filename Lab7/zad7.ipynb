{
 "cells": [
  {
   "cell_type": "code",
   "execution_count": 15,
   "metadata": {},
   "outputs": [],
   "source": [
    "#imports\n",
    "from scipy.spatial import distance_matrix\n",
    "from random import randrange\n",
    "import copy\n",
    "import matplotlib.pyplot as plt\n",
    "import imageio\n",
    "import imageio\n",
    "import random\n",
    "from time import time\n",
    "from tqdm import tqdm\n",
    "import pandas as pd\n",
    "\n",
    "import itertools\n",
    "from scipy.spatial.distance import pdist\n"
   ]
  },
  {
   "cell_type": "markdown",
   "metadata": {},
   "source": [
    "Staramy się poprawić zaimplementowane wcześniej algorytmy. Należy zaproponować dowolną\n",
    "modyfikację zaimplementowanych wcześniej algorytmów lub zupełnie nową metodę, która pozwoli\n",
    "poprawić średni wynik i najlepszy wynik uzyskany we wcześniejszych eksperymentach (na obu\n",
    "instancjach) w tym samym czasie. Nowy algorytm należy dokładnie opisać. Można wykorzystać np.\n",
    "takie mechanizmy jak:\n",
    "- generowanie lepszych rozwiązań startowych,\n",
    "- dalsze poprawa efektywności lokalnego przeszukiwania,\n",
    "- globalna pamięć ocen ruchów,\n",
    "- nowe mechanizmy ruchów kandydackich,\n",
    "- inne operatory sąsiedztwa, perturbacji, rekombinacji,\n",
    "- jednoczesne wykorzystanie różnych operatorów,\n",
    "- wykorzystanie mechanizmów maszynowego uczenia,"
   ]
  },
  {
   "cell_type": "code",
   "execution_count": 197,
   "metadata": {},
   "outputs": [],
   "source": [
    "#loading datasets \n",
    "import numpy as np\n",
    "kroa={}\n",
    "krob={}\n",
    "np_kroa=[]\n",
    "np_krob=[]\n",
    "with open('kroa100.txt') as f:\n",
    "    lines = f.readlines()\n",
    "    for line in lines[6:-1]:\n",
    "        x=list(map(int,line.strip().split(' ')))\n",
    "        #print(x)\n",
    "        kroa[x[0]]=(x[1],x[2])\n",
    "        np_kroa.append((x[1],x[2]))\n",
    "np_kroa=np.array(np_kroa)\n",
    "with open('krob100.txt') as f:\n",
    "    lines = f.readlines()\n",
    "    for line in lines[6:-1]:\n",
    "        x=list(map(int,line.strip().split(' ')))\n",
    "        #print(x)\n",
    "        krob[x[0]]=(x[1],x[2])\n",
    "        np_krob.append((x[1],x[2]))\n",
    "\n",
    "np_kroa=np.array(np_kroa)\n",
    "np_krob=np.array(np_krob)\n",
    "\n",
    "#calculating distance matrix - https://docs.scipy.org/doc/scipy/reference/generated/scipy.spatial.distance_matrix.html\n",
    "dista=distance_matrix(np_kroa,np_kroa)\n",
    "distb=distance_matrix(np_krob,np_krob)"
   ]
  },
  {
   "cell_type": "code",
   "execution_count": 5,
   "metadata": {},
   "outputs": [],
   "source": [
    "# 1st variable - Start cycle - with random assignments\n",
    "def start_cycle_random(dataset_choice=\"kroa\"):\n",
    "    cycles={}\n",
    "    cycles[0]=np.random.choice(100,50,replace=False)\n",
    "    cycles[1]=np.array([i for i in np.arange(0,100,1) if i not in cycles[0]])\n",
    "    np.random.shuffle(cycles[1])\n",
    "    return cycles\n"
   ]
  },
  {
   "cell_type": "code",
   "execution_count": 146,
   "metadata": {},
   "outputs": [],
   "source": [
    "# 3rd variable - Generate neighbour solution\n",
    "#changes edges internally\n",
    "def change_edges(cycles, edge1, edge2, internally=False): # dummy internally\n",
    "    cI= 0 if len(np.where(cycles[0] == edge1)[0])!=0 else 1 \n",
    "#     print(cycles[cI])\n",
    "    inA=np.where(cycles[cI] == edge1)[0][0]\n",
    "    inB=np.where(cycles[cI] == edge2)[0][0]\n",
    "    inA += 1\n",
    "    inB += 1\n",
    "    cycle = cycles[cI]\n",
    "    cycle[inA: inB] = np.flip(cycle[inA: inB])\n",
    "    return cycles"
   ]
  },
  {
   "cell_type": "code",
   "execution_count": 147,
   "metadata": {},
   "outputs": [],
   "source": [
    "# 3rd variable - Generate neighbour solution\n",
    "#changes vertex internally or externaly between cycles\n",
    "def change_vertices(cycles, a, b, internally=True):\n",
    "    if internally:\n",
    "#         print(len(np.where(cycles[0] == a)))\n",
    "#         print(np.where(cycles[0] == a))\n",
    "        cI= 0 if len(np.where(cycles[0] == a)[0])!=0 else 1 \n",
    "        inA=np.where(cycles[cI] == a)[0][0]\n",
    "        inB=np.where(cycles[cI] == b)[0][0]\n",
    "        tmp=cycles[cI][inA]\n",
    "        cycles[cI][inA]=b\n",
    "        cycles[cI][inB]=tmp\n",
    "        #print(cycles[0][inB], cycles[0][inA])\n",
    "    else:\n",
    "        cI= 0 if len(np.where(cycles[0] == a)[0])!=0 else 1 \n",
    "        cI2 = 1-cI\n",
    "        inA=np.where(cycles[cI] == a)[0][0]\n",
    "        inB=np.where(cycles[cI2] == b)[0][0]\n",
    "        tmp=cycles[cI][inA]\n",
    "        cycles[cI][inA]=b\n",
    "        cycles[cI2][inB]=tmp\n",
    "        #pass\n",
    "    #print(cycles)\n",
    "    return cycles\n",
    "    #if aIndex in cycles[0]\n",
    "    #raise NotImplementedError"
   ]
  },
  {
   "cell_type": "code",
   "execution_count": 7,
   "metadata": {},
   "outputs": [],
   "source": [
    "# 2nd variable - Find more optimal solution\n",
    "# switch parameter defines how u find neighbour solutions (is it change_vertices or change_edges func)\n",
    "def greedy_search(dist, np_dots, init_random = False, switch=\"change_edges\", cycles=None):\n",
    "    #specify cycles initialization.\n",
    "    if cycles is None:\n",
    "        if init_random:\n",
    "            cycles = start_cycle_random()\n",
    "        else:\n",
    "            cycles = start_cycle_heuristic()\n",
    "    #print(cycles)\n",
    "    \n",
    "    if switch == \"change_vertices\":\n",
    "        internal_change = change_vertices\n",
    "    elif switch == \"change_edges\":\n",
    "        internal_change = change_edges\n",
    "    else:\n",
    "        print(f\"Unknow mode {switch}. Select change_vertices or change_edges\")\n",
    "        return\n",
    "    \n",
    "    \n",
    "    \n",
    "    bestDistance = 0\n",
    "    #print(cycles[0])\n",
    "    bestDistance += calcDistance(cycles[0], dist) \n",
    "    bestDistance += calcDistance(cycles[1], dist) \n",
    "    #print(f\"Initial distance: {bestDistance}\")\n",
    "    \n",
    "    #plotPartResult(np_dots, cycles)\n",
    "    \n",
    "    \n",
    "    done = False\n",
    "    while not done:\n",
    "        done = True\n",
    "        #-------------calculating possible moves\n",
    "        possible_moves = []\n",
    "        \n",
    "        mesh = np.array(np.meshgrid(cycles[0], cycles[1]))\n",
    "        combinations = mesh.T.reshape(-1, 2)\n",
    "        for x in combinations:\n",
    "            possible_moves.append([\"external\", x])\n",
    "\n",
    "        mesh = np.array(np.meshgrid(cycles[0], cycles[0]))\n",
    "        mesh = np.concatenate((mesh,np.array(np.meshgrid(cycles[1], cycles[1]))),axis=0)\n",
    "        combinations = mesh.T.reshape(-1, 2)\n",
    "        for x in combinations:\n",
    "            possible_moves.append([\"internal\", x])\n",
    "        \n",
    "        possible_moves = np.array(possible_moves)\n",
    "        i = np.random.choice(range(len(possible_moves)),len(possible_moves),replace=False)\n",
    "        possible_moves = possible_moves[i]\n",
    "        \n",
    "\n",
    "        for move, edges in possible_moves:\n",
    "#             print(move, edges)\n",
    "            cyclesCopy = copy.deepcopy(cycles)\n",
    "            edge1 = edges[0]\n",
    "            edge2 = edges[1]\n",
    "            \n",
    "#             print(edge1, edge2)\n",
    "            if move == \"internal\":\n",
    "                cyclesCopy = internal_change(cyclesCopy, edge1, edge2, internally=True)\n",
    "            else:\n",
    "                cyclesCopy = change_vertices(cyclesCopy, edge1, edge2, False)\n",
    "#             plotPartResult(np_dots, cycles)\n",
    "            currentDistance = 0\n",
    "            currentDistance += calcDistance(cyclesCopy[0], dist)\n",
    "            currentDistance += calcDistance(cyclesCopy[1], dist)\n",
    "            if currentDistance < bestDistance:\n",
    "                #print(f\"New best distance: {currentDistance}, changed {edge1} with {edge2} on {move}\")\n",
    "                cycles = cyclesCopy\n",
    "                bestDistance = currentDistance\n",
    "                done = False\n",
    "                break\n",
    "    \n",
    "#     plotPartResult(np_dots, cycles)\n",
    "#     plt.show()\n",
    "    return cycles, bestDistance"
   ]
  },
  {
   "cell_type": "code",
   "execution_count": 215,
   "metadata": {},
   "outputs": [],
   "source": [
    "def plot(dataset, cycles):\n",
    "    plt.clf()\n",
    "#     plt.plot(dataset[:,0][cycles[0][0]], dataset[:,1][cycles[0][0]], \"o\", markersize=12)\n",
    "#     plt.plot(dataset[:,0][cycles[1][0]], dataset[:,1][cycles[1][0]], \"o\", markersize=12)                \n",
    "    plt.plot(dataset[:,0][[*cycles[0],cycles[0][0]]], dataset[:,1][[*cycles[0],cycles[0][0]]], \"->\")\n",
    "    plt.plot(dataset[:,0][[*cycles[1],cycles[1][0]]], dataset[:,1][[*cycles[1],cycles[1][0]]], \"->\")\n",
    "#     plt.savefig(f\"Genetic_LS-{DOLS}_{dataset_choice}.png\")\n",
    "    plt.show()"
   ]
  },
  {
   "cell_type": "code",
   "execution_count": null,
   "metadata": {},
   "outputs": [],
   "source": []
  },
  {
   "cell_type": "code",
   "execution_count": 151,
   "metadata": {},
   "outputs": [],
   "source": [
    "def calcDistance(currentCycle, dist):\n",
    "    distance = 0\n",
    "    for x,y in zip(currentCycle, [*currentCycle[1:], currentCycle[0]]):\n",
    "        distance += dist[x][y]\n",
    "    return distance "
   ]
  },
  {
   "cell_type": "code",
   "execution_count": 190,
   "metadata": {},
   "outputs": [],
   "source": [
    "def kMeans(data, k=2, maxIteration=200, epsilon=0.0001, randomCentroid=False):\n",
    "    \n",
    "    #select centroids\n",
    "    if randomCentroid:\n",
    "        minC = np.min(data)\n",
    "        maxC = np.max(data)\n",
    "        centroids = np.zeros( (k, data.shape[1]) )\n",
    "        for i in range(len(centroids)):\n",
    "            centroids[i] = np.random.uniform(low=minC, high=maxC, size=(data.shape[1],))\n",
    "    else:\n",
    "        Npoints = k\n",
    "        c = [list(x) for x in itertools.combinations(range(len(data)), Npoints )]\n",
    "        distances = []\n",
    "        for i in c:    \n",
    "            distances.append(np.mean(pdist(data[i,:]))) # pdist: a method of computing all pairwise Euclidean distances in a condensed way.\n",
    "\n",
    "        ind = distances.index(max(distances)) # finding the index of the max mean distance\n",
    "        rows = c[ind] # these are the points in question\n",
    "        centroids = data[rows]\n",
    "#     print(centroids)\n",
    "    \n",
    "    for epoch in range(maxIteration):        \n",
    "        #iterattion of k-means\n",
    "        clusterList = np.zeros(len(data))\n",
    "        for iRow, row in enumerate(data):\n",
    "            minDist = np.inf\n",
    "            cluster = 0\n",
    "            counter_0_Cluster = 0\n",
    "            counter_1_Cluster = 0\n",
    "            for i,centroid in enumerate(centroids):\n",
    "                dist = np.linalg.norm(row-centroid)\n",
    "                if dist < minDist:\n",
    "                    minDist = dist\n",
    "                    cluster = i\n",
    "            clusterList[iRow] = cluster\n",
    "        clusterList = np.array(clusterList)\n",
    "        # check for equal division\n",
    "        counter0 = np.where(clusterList==0)[0].shape[0]\n",
    "        counter1 = np.where(clusterList==1)[0].shape[0]\n",
    "        if counter0 > counter1:\n",
    "            howManyTake = (counter0 - counter1) / 2\n",
    "            distances = {}\n",
    "            for index in np.where(clusterList==0)[0]:\n",
    "                dist = np.linalg.norm(data[index]-centroids[1])\n",
    "                distances[index] = dist\n",
    "            \n",
    "            distances = [k for k, v in sorted(distances.items(), key=lambda item: item[1])]\n",
    "            for _, index in zip(range(int(howManyTake)), distances):\n",
    "                clusterList[index] = 1\n",
    "        elif counter0 < counter1:\n",
    "            howManyTake = (counter1 - counter0) / 2\n",
    "            distances = {}\n",
    "            for index in np.where(clusterList==1)[0]:\n",
    "                dist = np.linalg.norm(data[index]-centroids[0])\n",
    "                distances[index] = dist\n",
    "            distances = [k for k, v in sorted(distances.items(), key=lambda item: item[1])]\n",
    "            for _, index in zip(range(int(howManyTake)), distances):\n",
    "                clusterList[index] = 0\n",
    "            \n",
    "        #calc new centroids\n",
    "        \n",
    "        doBreak = True\n",
    "        for i in range(len(centroids)):\n",
    "            newValue  = np.mean(data[clusterList==i], axis=0)                   \n",
    "            if (clusterList==i).any():\n",
    "              #  print(f\"data[clusterList==i] {data[clusterList==i]}\")\n",
    "              #  print(f\"newValue: {newValue}\")\n",
    "                if (np.abs(newValue - centroids[i]) > epsilon).any():\n",
    "                    doBreak = False\n",
    "                centroids[i] = newValue\n",
    "        if doBreak:\n",
    "            print(\"Change smaller than epsilon: break\")\n",
    "            break\n",
    "#     print(f\"Performed {epoch} iteration of kMeans\")\n",
    "    cycles = {0: np.argwhere(clusterList==0)[:,0], 1: np.argwhere(clusterList==1)[:,0]}\n",
    "    return cycles"
   ]
  },
  {
   "cell_type": "code",
   "execution_count": 217,
   "metadata": {},
   "outputs": [],
   "source": [
    "def kMeansHeuristic(dataset, dist, np_dots):\n",
    "    cycles = kMeans(dataset)\n",
    "#     plot(dataset, cycles)\n",
    "    internal_change = change_edges\n",
    "    \n",
    "    bestDistance = 0\n",
    "    bestDistance += calcDistance(cycles[0], dist) \n",
    "    bestDistance += calcDistance(cycles[1], dist)\n",
    "    \n",
    "    done = False\n",
    "    while not done:\n",
    "        done = True\n",
    "        #-------------calculating possible moves\n",
    "        possible_moves = []\n",
    "        \n",
    "        mesh = np.array(np.meshgrid(cycles[0], cycles[1]))\n",
    "        combinations = mesh.T.reshape(-1, 2)\n",
    "        for x in combinations:\n",
    "            possible_moves.append([\"external\", x])\n",
    "\n",
    "        mesh = np.array(np.meshgrid(cycles[0], cycles[0]))\n",
    "        mesh = np.concatenate((mesh,np.array(np.meshgrid(cycles[1], cycles[1]))),axis=0)\n",
    "        combinations = mesh.T.reshape(-1, 2)\n",
    "        for x in combinations:\n",
    "            possible_moves.append([\"internal\", x])\n",
    "        \n",
    "        possible_moves = np.array(possible_moves)\n",
    "        i = np.random.choice(range(len(possible_moves)),len(possible_moves),replace=False)\n",
    "        possible_moves = possible_moves[i]\n",
    "        \n",
    "\n",
    "        for move, edges in possible_moves:\n",
    "#             print(move, edges)\n",
    "            cyclesCopy = copy.deepcopy(cycles)\n",
    "            edge1 = edges[0]\n",
    "            edge2 = edges[1]\n",
    "            \n",
    "#             print(edge1, edge2)\n",
    "            if move == \"internal\":\n",
    "                cyclesCopy = internal_change(cyclesCopy, edge1, edge2, internally=True)\n",
    "            else:\n",
    "                cyclesCopy = change_vertices(cyclesCopy, edge1, edge2, False)\n",
    "#             plotPartResult(np_dots, cycles)\n",
    "            currentDistance = 0\n",
    "            currentDistance += calcDistance(cyclesCopy[0], dist)\n",
    "            currentDistance += calcDistance(cyclesCopy[1], dist)\n",
    "            if currentDistance < bestDistance:\n",
    "                #print(f\"New best distance: {currentDistance}, changed {edge1} with {edge2} on {move}\")\n",
    "                cycles = cyclesCopy\n",
    "                bestDistance = currentDistance\n",
    "                done = False\n",
    "                break\n",
    "    \n",
    "#     plotPartResult(np_dots, cycles)\n",
    "#     plt.show()\n",
    "    return cycles, bestDistance"
   ]
  },
  {
   "cell_type": "code",
   "execution_count": 226,
   "metadata": {},
   "outputs": [
    {
     "name": "stderr",
     "output_type": "stream",
     "text": [
      "  0%|          | 0/50 [00:00<?, ?it/s]/home/i/.local/lib/python3.6/site-packages/ipykernel_launcher.py:27: VisibleDeprecationWarning: Creating an ndarray from ragged nested sequences (which is a list-or-tuple of lists-or-tuples-or ndarrays with different lengths or shapes) is deprecated. If you meant to do this, you must specify 'dtype=object' when creating the ndarray\n",
      "  2%|▏         | 1/50 [00:10<08:41, 10.64s/it]"
     ]
    },
    {
     "name": "stdout",
     "output_type": "stream",
     "text": [
      "newBestDistance 25390.48524770619\n"
     ]
    },
    {
     "name": "stderr",
     "output_type": "stream",
     "text": [
      "\r",
      "  4%|▍         | 2/50 [00:21<08:48, 11.00s/it]"
     ]
    },
    {
     "name": "stdout",
     "output_type": "stream",
     "text": [
      "newBestDistance 25332.214418596566\n"
     ]
    },
    {
     "name": "stderr",
     "output_type": "stream",
     "text": [
      "\r",
      "  6%|▌         | 3/50 [00:35<09:39, 12.32s/it]"
     ]
    },
    {
     "name": "stdout",
     "output_type": "stream",
     "text": [
      "newBestDistance 24518.26954623305\n"
     ]
    },
    {
     "name": "stderr",
     "output_type": "stream",
     "text": [
      " 10%|█         | 5/50 [01:01<09:40, 12.89s/it]"
     ]
    },
    {
     "name": "stdout",
     "output_type": "stream",
     "text": [
      "newBestDistance 23265.045611836504\n"
     ]
    },
    {
     "name": "stderr",
     "output_type": "stream",
     "text": [
      "100%|██████████| 50/50 [09:23<00:00, 11.28s/it]"
     ]
    },
    {
     "name": "stdout",
     "output_type": "stream",
     "text": [
      "newBestDistance 22320.036811269616\n",
      "krob100\n",
      "24537(22320-26170)\n"
     ]
    },
    {
     "name": "stderr",
     "output_type": "stream",
     "text": [
      "\n"
     ]
    },
    {
     "data": {
      "image/png": "[encoded data removed]",
      "text/plain": [
       "<Figure size 432x288 with 1 Axes>"
      ]
     },
     "metadata": {
      "needs_background": "light"
     },
     "output_type": "display_data"
    },
    {
     "name": "stdout",
     "output_type": "stream",
     "text": [
      "distance: 22320.036811269616\n"
     ]
    }
   ],
   "source": [
    "dist = distb\n",
    "dataset = np_krob\n",
    "bestCycles = None\n",
    "bestDistance = np.inf\n",
    "distanceTable = []\n",
    "for x in tqdm(range(50)):\n",
    "    cycles, distance = kMeansHeuristic(dataset, dist, dataset)\n",
    "    distanceTable.append(distance)\n",
    "    if distance < bestDistance:\n",
    "        print(f\"newBestDistance {distance}\")\n",
    "        bestDistance = distance \n",
    "        bestCycles = cycles      \n",
    "\n",
    "print(\"krob100\")        \n",
    "print(f\"{int(np.mean(distanceTable))}({int(np.min(distanceTable))}-{int(np.max(distanceTable))})\")\n",
    "plot(dataset, bestCycles)\n",
    "print(f\"distance: {bestDistance}\")"
   ]
  },
  {
   "cell_type": "code",
   "execution_count": 227,
   "metadata": {},
   "outputs": [
    {
     "name": "stderr",
     "output_type": "stream",
     "text": [
      "  0%|          | 0/50 [00:00<?, ?it/s]/home/i/.local/lib/python3.6/site-packages/ipykernel_launcher.py:27: VisibleDeprecationWarning: Creating an ndarray from ragged nested sequences (which is a list-or-tuple of lists-or-tuples-or ndarrays with different lengths or shapes) is deprecated. If you meant to do this, you must specify 'dtype=object' when creating the ndarray\n",
      "  2%|▏         | 1/50 [00:12<10:04, 12.34s/it]"
     ]
    },
    {
     "name": "stdout",
     "output_type": "stream",
     "text": [
      "newBestDistance 21853.20760013614\n"
     ]
    },
    {
     "name": "stderr",
     "output_type": "stream",
     "text": [
      " 60%|██████    | 30/50 [05:27<03:33, 10.68s/it]"
     ]
    },
    {
     "name": "stdout",
     "output_type": "stream",
     "text": [
      "newBestDistance 21830.99140788301\n"
     ]
    },
    {
     "name": "stderr",
     "output_type": "stream",
     "text": [
      "100%|██████████| 50/50 [09:08<00:00, 10.96s/it]"
     ]
    },
    {
     "name": "stdout",
     "output_type": "stream",
     "text": [
      "kroa100\n",
      "23158(21830-24838)\n"
     ]
    },
    {
     "name": "stderr",
     "output_type": "stream",
     "text": [
      "\n"
     ]
    },
    {
     "data": {
      "image/png": "[encoded data removed]",
      "text/plain": [
       "<Figure size 432x288 with 1 Axes>"
      ]
     },
     "metadata": {
      "needs_background": "light"
     },
     "output_type": "display_data"
    },
    {
     "name": "stdout",
     "output_type": "stream",
     "text": [
      "distance: 21830.99140788301\n"
     ]
    }
   ],
   "source": [
    "dist = dista\n",
    "dataset = np_kroa\n",
    "bestCycles = None\n",
    "bestDistance = np.inf\n",
    "distanceTable = []\n",
    "for x in tqdm(range(50)):\n",
    "    cycles, distance = kMeansHeuristic(dataset, dist, dataset)\n",
    "    distanceTable.append(distance)\n",
    "    if distance < bestDistance:\n",
    "        print(f\"newBestDistance {distance}\")\n",
    "        bestDistance = distance \n",
    "        bestCycles = cycles      \n",
    "\n",
    "print(\"kroa100\")        \n",
    "print(f\"{int(np.mean(distanceTable))}({int(np.min(distanceTable))}-{int(np.max(distanceTable))})\")\n",
    "plot(dataset, bestCycles)\n",
    "print(f\"distance: {bestDistance}\")"
   ]
  },
  {
   "cell_type": "code",
   "execution_count": null,
   "metadata": {},
   "outputs": [],
   "source": []
  },
  {
   "cell_type": "code",
   "execution_count": 228,
   "metadata": {},
   "outputs": [],
   "source": [
    "kroa={}\n",
    "krob={}\n",
    "np_kroa=[]\n",
    "np_krob=[]\n",
    "with open('kroa200.txt') as f:\n",
    "    lines = f.readlines()\n",
    "    for line in lines[6:-1]:\n",
    "        x=list(map(int,line.strip().split(' ')))\n",
    "        #print(x)\n",
    "        kroa[x[0]]=(x[1],x[2])\n",
    "        np_kroa.append((x[1],x[2]))\n",
    "np_kroa=np.array(np_kroa)\n",
    "with open('krob200.txt') as f:\n",
    "    lines = f.readlines()\n",
    "    for line in lines[6:-1]:\n",
    "        x=list(map(int,line.strip().split(' ')))\n",
    "        #print(x)\n",
    "        krob[x[0]]=(x[1],x[2])\n",
    "        np_krob.append((x[1],x[2]))\n",
    "\n",
    "np_kroa=np.array(np_kroa)\n",
    "np_krob=np.array(np_krob)\n",
    "\n",
    "#calculating distance matrix - https://docs.scipy.org/doc/scipy/reference/generated/scipy.spatial.distance_matrix.html\n",
    "dista=distance_matrix(np_kroa,np_kroa)\n",
    "distb=distance_matrix(np_krob,np_krob)"
   ]
  },
  {
   "cell_type": "code",
   "execution_count": 229,
   "metadata": {},
   "outputs": [
    {
     "name": "stderr",
     "output_type": "stream",
     "text": [
      "  0%|          | 0/50 [00:00<?, ?it/s]/home/i/.local/lib/python3.6/site-packages/ipykernel_launcher.py:27: VisibleDeprecationWarning: Creating an ndarray from ragged nested sequences (which is a list-or-tuple of lists-or-tuples-or ndarrays with different lengths or shapes) is deprecated. If you meant to do this, you must specify 'dtype=object' when creating the ndarray\n",
      "  2%|▏         | 1/50 [02:17<1:51:55, 137.06s/it]"
     ]
    },
    {
     "name": "stdout",
     "output_type": "stream",
     "text": [
      "newBestDistance 34011.502905127505\n"
     ]
    },
    {
     "name": "stderr",
     "output_type": "stream",
     "text": [
      "  8%|▊         | 4/50 [08:59<1:43:30, 135.01s/it]"
     ]
    },
    {
     "name": "stdout",
     "output_type": "stream",
     "text": [
      "newBestDistance 33532.94315582453\n"
     ]
    },
    {
     "name": "stderr",
     "output_type": "stream",
     "text": [
      "\r",
      " 10%|█         | 5/50 [11:02<1:38:09, 130.87s/it]"
     ]
    },
    {
     "name": "stdout",
     "output_type": "stream",
     "text": [
      "newBestDistance 33174.84982709347\n"
     ]
    },
    {
     "name": "stderr",
     "output_type": "stream",
     "text": [
      "\r",
      " 12%|█▏        | 6/50 [13:00<1:32:45, 126.50s/it]"
     ]
    },
    {
     "name": "stdout",
     "output_type": "stream",
     "text": [
      "newBestDistance 32624.7272615198\n"
     ]
    },
    {
     "name": "stderr",
     "output_type": "stream",
     "text": [
      "\r",
      " 14%|█▍        | 7/50 [14:48<1:26:12, 120.29s/it]"
     ]
    },
    {
     "name": "stdout",
     "output_type": "stream",
     "text": [
      "newBestDistance 31950.38186450034\n"
     ]
    },
    {
     "name": "stderr",
     "output_type": "stream",
     "text": [
      " 60%|██████    | 30/50 [1:09:04<46:43, 140.17s/it]"
     ]
    },
    {
     "name": "stdout",
     "output_type": "stream",
     "text": [
      "newBestDistance 31608.324550557976\n"
     ]
    },
    {
     "name": "stderr",
     "output_type": "stream",
     "text": [
      " 94%|█████████▍| 47/50 [1:48:06<06:48, 136.13s/it]"
     ]
    },
    {
     "name": "stdout",
     "output_type": "stream",
     "text": [
      "newBestDistance 31384.082505115253\n"
     ]
    },
    {
     "name": "stderr",
     "output_type": "stream",
     "text": [
      "100%|██████████| 50/50 [1:55:20<00:00, 138.42s/it]\n"
     ]
    },
    {
     "name": "stdout",
     "output_type": "stream",
     "text": [
      "kroa200\n",
      "33108(31384-34608)\n"
     ]
    },
    {
     "data": {
      "image/png": "[encoded data removed]",
      "text/plain": [
       "<Figure size 432x288 with 1 Axes>"
      ]
     },
     "metadata": {
      "needs_background": "light"
     },
     "output_type": "display_data"
    },
    {
     "name": "stdout",
     "output_type": "stream",
     "text": [
      "distance: 31384.082505115253\n"
     ]
    }
   ],
   "source": [
    "dist = dista\n",
    "dataset = np_kroa\n",
    "bestCycles = None\n",
    "bestDistance = np.inf\n",
    "distanceTable = []\n",
    "for x in tqdm(range(50)):\n",
    "    cycles, distance = kMeansHeuristic(dataset, dist, dataset)\n",
    "    distanceTable.append(distance)\n",
    "    if distance < bestDistance:\n",
    "        print(f\"newBestDistance {distance}\")\n",
    "        bestDistance = distance \n",
    "        bestCycles = cycles      \n",
    "\n",
    "print(\"kroa200\")        \n",
    "print(f\"{int(np.mean(distanceTable))}({int(np.min(distanceTable))}-{int(np.max(distanceTable))})\")\n",
    "plot(dataset, bestCycles)\n",
    "print(f\"distance: {bestDistance}\")"
   ]
  },
  {
   "cell_type": "code",
   "execution_count": 230,
   "metadata": {},
   "outputs": [
    {
     "name": "stderr",
     "output_type": "stream",
     "text": [
      "  0%|          | 0/50 [00:00<?, ?it/s]/home/i/.local/lib/python3.6/site-packages/ipykernel_launcher.py:27: VisibleDeprecationWarning: Creating an ndarray from ragged nested sequences (which is a list-or-tuple of lists-or-tuples-or ndarrays with different lengths or shapes) is deprecated. If you meant to do this, you must specify 'dtype=object' when creating the ndarray\n",
      "  2%|▏         | 1/50 [02:46<2:15:51, 166.37s/it]"
     ]
    },
    {
     "name": "stdout",
     "output_type": "stream",
     "text": [
      "newBestDistance 33255.20908075371\n"
     ]
    },
    {
     "name": "stderr",
     "output_type": "stream",
     "text": [
      "  8%|▊         | 4/50 [09:50<1:50:39, 144.34s/it]"
     ]
    },
    {
     "name": "stdout",
     "output_type": "stream",
     "text": [
      "newBestDistance 32971.75456814347\n"
     ]
    },
    {
     "name": "stderr",
     "output_type": "stream",
     "text": [
      " 26%|██▌       | 13/50 [30:56<1:24:03, 136.32s/it]"
     ]
    },
    {
     "name": "stdout",
     "output_type": "stream",
     "text": [
      "newBestDistance 32123.388520247285\n"
     ]
    },
    {
     "name": "stderr",
     "output_type": "stream",
     "text": [
      "100%|██████████| 50/50 [1:38:04<00:00, 117.68s/it]"
     ]
    },
    {
     "name": "stdout",
     "output_type": "stream",
     "text": [
      "krob200\n",
      "33386(32123-34573)\n"
     ]
    },
    {
     "name": "stderr",
     "output_type": "stream",
     "text": [
      "\n"
     ]
    },
    {
     "data": {
      "image/png": "[encoded data removed]",
      "text/plain": [
       "<Figure size 432x288 with 1 Axes>"
      ]
     },
     "metadata": {
      "needs_background": "light"
     },
     "output_type": "display_data"
    },
    {
     "name": "stdout",
     "output_type": "stream",
     "text": [
      "distance: 32123.388520247285\n"
     ]
    }
   ],
   "source": [
    "dist = distb\n",
    "dataset = np_krob\n",
    "bestCycles = None\n",
    "bestDistance = np.inf\n",
    "distanceTable = []\n",
    "for x in tqdm(range(50)):\n",
    "    cycles, distance = kMeansHeuristic(dataset, dist, dataset)\n",
    "    distanceTable.append(distance)\n",
    "    if distance < bestDistance:\n",
    "        print(f\"newBestDistance {distance}\")\n",
    "        bestDistance = distance \n",
    "        bestCycles = cycles      \n",
    "\n",
    "print(\"krob200\")        \n",
    "print(f\"{int(np.mean(distanceTable))}({int(np.min(distanceTable))}-{int(np.max(distanceTable))})\")\n",
    "plot(dataset, bestCycles)\n",
    "print(f\"distance: {bestDistance}\")"
   ]
  },
  {
   "cell_type": "code",
   "execution_count": null,
   "metadata": {},
   "outputs": [],
   "source": []
  }
 ],
 "metadata": {
  "kernelspec": {
   "display_name": "Python 3",
   "language": "python",
   "name": "python3"
  },
  "language_info": {
   "codemirror_mode": {
    "name": "ipython",
    "version": 3
   },
   "file_extension": ".py",
   "mimetype": "text/x-python",
   "name": "python",
   "nbconvert_exporter": "python",
   "pygments_lexer": "ipython3",
   "version": "3.6.9"
  }
 },
 "nbformat": 4,
 "nbformat_minor": 2
}
