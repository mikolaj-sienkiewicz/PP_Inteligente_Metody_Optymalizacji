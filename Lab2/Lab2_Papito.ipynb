{
 "cells": [
  {
   "cell_type": "code",
   "execution_count": 1,
   "metadata": {},
   "outputs": [],
   "source": [
    "#imports\n",
    "from scipy.spatial import distance_matrix\n",
    "from random import randrange\n",
    "import copy\n",
    "import matplotlib.pyplot as plt\n",
    "import imageio"
   ]
  },
  {
   "cell_type": "code",
   "execution_count": 2,
   "metadata": {},
   "outputs": [],
   "source": [
    "#loading datasets \n",
    "import numpy as np\n",
    "kroa={}\n",
    "krob={}\n",
    "np_kroa=[]\n",
    "np_krob=[]\n",
    "with open('kroa100.txt') as f:\n",
    "    lines = f.readlines()\n",
    "    for line in lines[6:-1]:\n",
    "        x=list(map(int,line.strip().split(' ')))\n",
    "        #print(x)\n",
    "        kroa[x[0]]=(x[1],x[2])\n",
    "        np_kroa.append((x[1],x[2]))\n",
    "np_kroa=np.array(np_kroa)\n",
    "with open('krob100.txt') as f:\n",
    "    lines = f.readlines()\n",
    "    for line in lines[6:-1]:\n",
    "        x=list(map(int,line.strip().split(' ')))\n",
    "        #print(x)\n",
    "        krob[x[0]]=(x[1],x[2])\n",
    "        np_krob.append((x[1],x[2]))\n",
    "\n",
    "np_kroa=np.array(np_kroa)\n",
    "np_krob=np.array(np_krob)\n",
    "\n",
    "#calculating distance matrix - https://docs.scipy.org/doc/scipy/reference/generated/scipy.spatial.distance_matrix.html\n",
    "dista=distance_matrix(np_kroa,np_kroa)\n",
    "distb=distance_matrix(np_krob,np_krob)"
   ]
  },
  {
   "cell_type": "code",
   "execution_count": 3,
   "metadata": {},
   "outputs": [],
   "source": [
    "#plotting functions\n",
    "def plotResult(np_dots, cycles):\n",
    "    plt.plot(np_dots[:,0][cycles[0][0]], np_dots[:,1][cycles[0][0]], \"o\", markersize=12)\n",
    "    plt.plot(np_dots[:,0][cycles[1][0]], np_dots[:,1][cycles[1][0]], \"o\", markersize=12)\n",
    "    plt.plot(np_dots[:,0][cycles[0]], np_dots[:,1][cycles[0]], \"->\")\n",
    "    plt.plot(np_dots[:,0][cycles[1]], np_dots[:,1][cycles[1]], \"->\")\n",
    "    plt.show()\n",
    "    \n",
    "def plotPartResult(np_dots, cycles,i):\n",
    "    plt.plot(np_dots[:,0][cycles[0][0]], np_dots[:,1][cycles[0][0]], \"o\", markersize=12)\n",
    "    plt.plot(np_dots[:,0][cycles[1][0]], np_dots[:,1][cycles[1][0]], \"o\", markersize=12)\n",
    "    plt.plot(np_dots[:,0][cycles[0]], np_dots[:,1][cycles[0]], \"->\")\n",
    "    plt.plot(np_dots[:,0][cycles[1]], np_dots[:,1][cycles[1]], \"->\")\n",
    "    plt.plot(np_dots[:,0], np_dots[:,1], \".\")\n",
    "    plt.savefig(f'plots/{i}.png')\n",
    "    plt.show()    \n",
    "def calcDistance(currentCycle, dist):\n",
    "    distance = 0\n",
    "    for x,y in zip(currentCycle, [*currentCycle[1:], currentCycle[0]]):\n",
    "        distance += dist[x][y]\n",
    "    return distance "
   ]
  },
  {
   "cell_type": "code",
   "execution_count": null,
   "metadata": {},
   "outputs": [],
   "source": []
  },
  {
   "cell_type": "code",
   "execution_count": 4,
   "metadata": {},
   "outputs": [],
   "source": [
    "# 1st variable - Start cycle - with random assignments\n",
    "def start_cycle_random(dataset_choice=\"kroa\"):\n",
    "    if dataset_choice==\"kroa\":\n",
    "        dataset=np_kroa\n",
    "        dic=kroa\n",
    "        dist=copy.deepcopy(dista)\n",
    "        dist_stable=copy.deepcopy(dista)\n",
    "    else:\n",
    "        dataset=np_krob\n",
    "        dic=krob\n",
    "        dist=copy.deepcopy(distb)\n",
    "        dist_stable=copy.deepcopy(distb)\n",
    "    candidates=np.arange(0,100,1)\n",
    "    #print(candidates)\n",
    "    cycles={}\n",
    "    cycles[0]=[randrange(100)]\n",
    "    candidates=np.delete(candidates, cycles[0][0])\n",
    "    cycles[1]=[(np.argsort(dist[cycles[0][0]])[-2])]\n",
    "    candidates=np.delete(candidates, cycles[1][0])\n",
    "    chosenCycle=1\n",
    "    for i in range(0,98):\n",
    "        chosenCycle = int((chosenCycle + 1)%2)\n",
    "        chosenElementIndex = np.random.randint(len(candidates))\n",
    "        #print(chosenElementIndex,len(candidates),candidates[chosenElementIndex])\n",
    "        #cycles[chosenCycle]=np.insert(cycles[chosenCycle],candidates[chosenElementIndex])\n",
    "        cycles[chosenCycle]=np.concatenate((cycles[chosenCycle], [candidates[chosenElementIndex]]), axis=0)\n",
    "        candidates=np.delete(candidates, chosenElementIndex)\n",
    "    return cycles\n"
   ]
  },
  {
   "cell_type": "code",
   "execution_count": 5,
   "metadata": {},
   "outputs": [],
   "source": [
    "# 1st variable - Start cycle - with nearest neighbour method\n",
    "def starty_cycle_heuristic(dataset_choice=\"kroa\"):\n",
    "    results=[]\n",
    "    min_result=np.inf\n",
    "    max_result=0\n",
    "    if dataset_choice==\"kroa\":\n",
    "        dataset=np_kroa\n",
    "        dic=kroa\n",
    "        dist=copy.deepcopy(dista)\n",
    "        dist_stable=copy.deepcopy(dista)\n",
    "    else:\n",
    "        dataset=np_krob\n",
    "        dic=krob\n",
    "        dist=copy.deepcopy(distb)\n",
    "        dist_stable=copy.deepcopy(distb)\n",
    "\n",
    "\n",
    "    #zmiana dystansu przekątnej na nieskonczonosc\n",
    "    np.fill_diagonal(dist, np.inf)\n",
    "\n",
    "    cycles={}\n",
    "    cycles[0]=[randrange(100)]\n",
    "    cycles[1]=[(np.argsort(dist[cycles[0][0]])[-2])]\n",
    "\n",
    "    for b in range(2):\n",
    "        dist[:,int(cycles[b][0])]=np.inf\n",
    "\n",
    "    chosenCycle=1\n",
    "    for i in range(0,98):\n",
    "        chosenCycle = int((chosenCycle + 1)%2)\n",
    "        candidates=[]\n",
    "        for z,index in enumerate(cycles[chosenCycle]):\n",
    "            candidates.append((np.argmin(dist[index]),np.min(dist[index]),z))\n",
    "        candidates=np.array(candidates)\n",
    "        x=np.argmin(candidates[:,1])\n",
    "        cycles[chosenCycle]=np.insert(cycles[chosenCycle],int(candidates[x,2]),int(candidates[x,0]))\n",
    "        dist[:,int(candidates[x,0])]=np.inf\n",
    "    \n",
    "    print(f\"cycle[0]: {calcDistance(cycles[0], dist_stable)}\")\n",
    "    print(f\"cycle[1]: {calcDistance(cycles[1], dist_stable)}\")\n",
    "    \n",
    "    #SAVING RESULTS \n",
    "    results.append(calcDistance(cycles[0],dist_stable)+calcDistance(cycles[1],dist_stable))\n",
    "    if results[-1]>max_result:\n",
    "        max_result=results[-1]\n",
    "    if results[-1]<min_result:\n",
    "        min_result=results[-1]\n",
    "        plt.clf()\n",
    "        plt.plot(dataset[:,0][cycles[0][0]], dataset[:,1][cycles[0][0]], \"o\", markersize=12)\n",
    "        plt.plot(dataset[:,0][cycles[1][0]], dataset[:,1][cycles[1][0]], \"o\", markersize=12)\n",
    "        plt.plot(dataset[:,0][cycles[0]], dataset[:,1][cycles[0]], \"->\")\n",
    "        plt.plot(dataset[:,0][cycles[1]], dataset[:,1][cycles[1]], \"->\")\n",
    "        plt.savefig(f'best_NN_{dataset_choice}.png')\n",
    "    return cycles"
   ]
  },
  {
   "cell_type": "code",
   "execution_count": 72,
   "metadata": {},
   "outputs": [],
   "source": [
    "# 2nd variable - Find more optimal solution\n",
    "# switch parameter defines how u find neighbour solutions (is it change_vertices or change_edges func)\n",
    "def greedy_search(cycleA, cycleB, switch):\n",
    "    raise NotImplementedError"
   ]
  },
  {
   "cell_type": "code",
   "execution_count": 73,
   "metadata": {},
   "outputs": [],
   "source": [
    "# 2nd variable - Find more optimal solution\n",
    "def steep_search(cycleA, cycleB):\n",
    "    raise NotImplementedError"
   ]
  },
  {
   "cell_type": "code",
   "execution_count": 74,
   "metadata": {},
   "outputs": [],
   "source": [
    "# 3rd variable - Generate neighbour solution\n",
    "#changes vertex internally or externaly between cycles\n",
    "def change_vertices():\n",
    "    raise NotImplementedError"
   ]
  },
  {
   "cell_type": "code",
   "execution_count": 40,
   "metadata": {},
   "outputs": [],
   "source": [
    "# 3rd variable - Generate neighbour solution\n",
    "#changes edges internally\n",
    "def change_edges(cycle, edge1, edge2):\n",
    "    edge1 += 1\n",
    "    edge2 += 1\n",
    "    cycle[edge1: edge2] = np.flip(cycle[edge1: edge2])\n",
    "    return cycle"
   ]
  },
  {
   "cell_type": "code",
   "execution_count": 43,
   "metadata": {},
   "outputs": [],
   "source": [
    "x = np.array([0,1,2,3,4,5,6,7,8,9])"
   ]
  },
  {
   "cell_type": "code",
   "execution_count": 44,
   "metadata": {},
   "outputs": [
    {
     "data": {
      "text/plain": [
       "array([0, 1, 2, 6, 5, 4, 3, 7, 8, 9])"
      ]
     },
     "execution_count": 44,
     "metadata": {},
     "output_type": "execute_result"
    }
   ],
   "source": [
    "change_edges(x, 2, 6)"
   ]
  },
  {
   "cell_type": "code",
   "execution_count": null,
   "metadata": {},
   "outputs": [],
   "source": []
  },
  {
   "cell_type": "code",
   "execution_count": 76,
   "metadata": {},
   "outputs": [],
   "source": [
    "# algorytm losowego bładzenia który robi losowo wybrany ruch jako punkt odniesienia wzgledem rozwiazan steep search i greedy search\n",
    "def random_wandering():\n",
    "    raise NotImplementedError"
   ]
  },
  {
   "cell_type": "code",
   "execution_count": 77,
   "metadata": {},
   "outputs": [],
   "source": [
    "#MAIN - tu poskladac wyzej zaimplementowane funkcje w 8 roznych kombinacji algorytmow i sprawdzic ich czasy i wyplotowac skutecznosci\n",
    "\n"
   ]
  },
  {
   "cell_type": "code",
   "execution_count": 78,
   "metadata": {},
   "outputs": [
    {
     "data": {
      "text/plain": [
       "{0: array([76, 27, 95, 56, 55, 15, 53,  3, 70, 54, 29, 23, 99, 47, 26, 17, 12,\n",
       "        40, 84, 38, 77, 42, 98,  4,  2, 66,  6, 68, 33, 10, 21, 31,  1, 87,\n",
       "        78, 90, 92, 58, 19, 13, 73, 44, 75, 72,  7, 65, 93, 41, 50, 28]),\n",
       " 1: array([69, 64, 59,  9, 85, 74, 82, 36, 81, 22, 62, 14, 32, 48, 86, 63, 80,\n",
       "        67, 96, 20,  8, 37, 97, 94, 18, 61, 79, 30, 60, 52, 89,  0, 16, 49,\n",
       "        24, 34, 46, 91, 71, 43, 45, 83, 11, 25, 35, 57, 88, 51, 39,  5])}"
      ]
     },
     "execution_count": 78,
     "metadata": {},
     "output_type": "execute_result"
    }
   ],
   "source": [
    "start_cycle_random()"
   ]
  },
  {
   "cell_type": "code",
   "execution_count": 9,
   "metadata": {},
   "outputs": [
    {
     "name": "stdout",
     "output_type": "stream",
     "text": [
      "cycle[0]: 18111.064510714226\n",
      "cycle[1]: 15269.30408454291\n"
     ]
    },
    {
     "data": {
      "image/png": "[encoded data removed]",
      "text/plain": [
       "<Figure size 432x288 with 1 Axes>"
      ]
     },
     "metadata": {
      "needs_background": "light"
     },
     "output_type": "display_data"
    }
   ],
   "source": [
    "cycles = starty_cycle_heuristic()"
   ]
  },
  {
   "cell_type": "code",
   "execution_count": 8,
   "metadata": {},
   "outputs": [
    {
     "data": {
      "text/plain": [
       "{0: array([75, 81, 94, 12, 51, 29,  1, 43, 49, 53, 39, 63, 34, 85, 26, 42, 40,\n",
       "        47, 99, 70, 13,  2, 45, 28, 33, 82, 54, 11, 19, 56,  6,  8, 86, 50,\n",
       "        92, 27, 57, 60, 24, 80, 68, 72, 67, 84, 38, 95, 77,  4, 36, 32]),\n",
       " 1: array([93, 69, 21, 15, 87, 83, 58, 16, 14, 61, 76, 59, 22, 97, 44, 90, 46,\n",
       "        31, 10, 73, 20, 71,  9, 89, 48,  5, 62, 66,  0, 91,  7, 41, 88, 30,\n",
       "        79, 55, 65, 25, 64,  3, 96, 74, 18, 52, 78, 17, 23, 37, 35, 98])}"
      ]
     },
     "execution_count": 8,
     "metadata": {},
     "output_type": "execute_result"
    }
   ],
   "source": []
  },
  {
   "cell_type": "code",
   "execution_count": null,
   "metadata": {},
   "outputs": [],
   "source": []
  }
 ],
 "metadata": {
  "kernelspec": {
   "display_name": "Python 3",
   "language": "python",
   "name": "python3"
  },
  "language_info": {
   "codemirror_mode": {
    "name": "ipython",
    "version": 3
   },
   "file_extension": ".py",
   "mimetype": "text/x-python",
   "name": "python",
   "nbconvert_exporter": "python",
   "pygments_lexer": "ipython3",
   "version": "3.6.9"
  }
 },
 "nbformat": 4,
 "nbformat_minor": 2
}
