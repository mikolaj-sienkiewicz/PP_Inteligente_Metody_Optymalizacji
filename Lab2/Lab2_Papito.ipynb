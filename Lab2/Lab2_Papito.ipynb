{
 "cells": [
  {
   "cell_type": "code",
   "execution_count": 51,
   "metadata": {},
   "outputs": [],
   "source": [
    "#imports\n",
    "from scipy.spatial import distance_matrix\n",
    "from random import randrange\n",
    "import copy\n",
    "import matplotlib.pyplot as plt\n",
    "import imageio\n",
    "import random\n",
    "from time import time\n",
    "from tqdm import tqdm"
   ]
  },
  {
   "cell_type": "code",
   "execution_count": 52,
   "metadata": {},
   "outputs": [],
   "source": [
    "#loading datasets \n",
    "import numpy as np\n",
    "kroa={}\n",
    "krob={}\n",
    "np_kroa=[]\n",
    "np_krob=[]\n",
    "with open('kroa100.txt') as f:\n",
    "    lines = f.readlines()\n",
    "    for line in lines[6:-1]:\n",
    "        x=list(map(int,line.strip().split(' ')))\n",
    "        #print(x)\n",
    "        kroa[x[0]]=(x[1],x[2])\n",
    "        np_kroa.append((x[1],x[2]))\n",
    "np_kroa=np.array(np_kroa)\n",
    "with open('krob100.txt') as f:\n",
    "    lines = f.readlines()\n",
    "    for line in lines[6:-1]:\n",
    "        x=list(map(int,line.strip().split(' ')))\n",
    "        #print(x)\n",
    "        krob[x[0]]=(x[1],x[2])\n",
    "        np_krob.append((x[1],x[2]))\n",
    "\n",
    "np_kroa=np.array(np_kroa)\n",
    "np_krob=np.array(np_krob)\n",
    "\n",
    "#calculating distance matrix - https://docs.scipy.org/doc/scipy/reference/generated/scipy.spatial.distance_matrix.html\n",
    "dista=distance_matrix(np_kroa,np_kroa)\n",
    "distb=distance_matrix(np_krob,np_krob)"
   ]
  },
  {
   "cell_type": "code",
   "execution_count": 53,
   "metadata": {},
   "outputs": [],
   "source": [
    "#plotting functions\n",
    "def plotResult(np_dots, cycles):\n",
    "    plt.plot(np_dots[:,0][cycles[0][0]], np_dots[:,1][cycles[0][0]], \"o\", markersize=12)\n",
    "    plt.plot(np_dots[:,0][cycles[1][0]], np_dots[:,1][cycles[1][0]], \"o\", markersize=12)\n",
    "    plt.plot(np_dots[:,0][cycles[0]], np_dots[:,1][cycles[0]], \"->\")\n",
    "    plt.plot(np_dots[:,0][cycles[1]], np_dots[:,1][cycles[1]], \"->\")\n",
    "    plt.show()\n",
    "    \n",
    "def plotPartResult(np_dots, cycles,i=0):\n",
    "    plt.plot(np_dots[:,0][cycles[0][0]], np_dots[:,1][cycles[0][0]], \"o\", markersize=12)\n",
    "    plt.plot(np_dots[:,0][cycles[1][0]], np_dots[:,1][cycles[1][0]], \"o\", markersize=12)\n",
    "    plt.plot(np_dots[:,0][cycles[0]], np_dots[:,1][cycles[0]], \"->\")\n",
    "    plt.plot(np_dots[:,0][cycles[1]], np_dots[:,1][cycles[1]], \"->\")\n",
    "    plt.plot(np_dots[:,0], np_dots[:,1], \".\")\n",
    "    #plt.savefig(f'plots/{i}.png')\n",
    "    plt.show()    \n",
    "    \n",
    "def calcDistance(currentCycle, dist):\n",
    "    distance = 0\n",
    "    for x,y in zip(currentCycle, [*currentCycle[1:], currentCycle[0]]):\n",
    "        distance += dist[x][y]\n",
    "    return distance "
   ]
  },
  {
   "cell_type": "code",
   "execution_count": null,
   "metadata": {},
   "outputs": [],
   "source": []
  },
  {
   "cell_type": "code",
   "execution_count": 54,
   "metadata": {},
   "outputs": [],
   "source": [
    "# 1st variable - Start cycle - with random assignments\n",
    "def start_cycle_random(dataset_choice=\"kroa\"):\n",
    "    if dataset_choice==\"kroa\":\n",
    "        dataset=np_kroa\n",
    "        dic=kroa\n",
    "        dist=copy.deepcopy(dista)\n",
    "        dist_stable=copy.deepcopy(dista)\n",
    "    else:\n",
    "        dataset=np_krob\n",
    "        dic=krob\n",
    "        dist=copy.deepcopy(distb)\n",
    "        dist_stable=copy.deepcopy(distb)\n",
    "    candidates=np.arange(0,100,1)\n",
    "    #print(candidates)\n",
    "    cycles={}\n",
    "    cycles[0]=[randrange(100)]\n",
    "    candidates=np.delete(candidates, cycles[0][0])\n",
    "    cycles[1]=[(np.argsort(dist[cycles[0][0]])[-2])]\n",
    "    candidates=np.delete(candidates, cycles[1][0])\n",
    "    chosenCycle=1\n",
    "    for i in range(0,98):\n",
    "        chosenCycle = int((chosenCycle + 1)%2)\n",
    "        chosenElementIndex = np.random.randint(len(candidates))\n",
    "        #print(chosenElementIndex,len(candidates),candidates[chosenElementIndex])\n",
    "        #cycles[chosenCycle]=np.insert(cycles[chosenCycle],candidates[chosenElementIndex])\n",
    "        cycles[chosenCycle]=np.concatenate((cycles[chosenCycle], [candidates[chosenElementIndex]]), axis=0)\n",
    "        candidates=np.delete(candidates, chosenElementIndex)\n",
    "    return cycles\n"
   ]
  },
  {
   "cell_type": "code",
   "execution_count": 40,
   "metadata": {},
   "outputs": [],
   "source": [
    "# 1st variable - Start cycle - with nearest neighbour method\n",
    "def starty_cycle_heuristic(dataset_choice=\"kroa\"):\n",
    "    results=[]\n",
    "    min_result=np.inf\n",
    "    max_result=0\n",
    "    if dataset_choice==\"kroa\":\n",
    "        dataset=np_kroa\n",
    "        dic=kroa\n",
    "        dist=copy.deepcopy(dista)\n",
    "        dist_stable=copy.deepcopy(dista)\n",
    "    else:\n",
    "        dataset=np_krob\n",
    "        dic=krob\n",
    "        dist=copy.deepcopy(distb)\n",
    "        dist_stable=copy.deepcopy(distb)\n",
    "\n",
    "\n",
    "    #zmiana dystansu przekątnej na nieskonczonosc\n",
    "    np.fill_diagonal(dist, np.inf)\n",
    "\n",
    "    cycles={}\n",
    "    cycles[0]=[randrange(100)]\n",
    "    cycles[1]=[(np.argsort(dist[cycles[0][0]])[-2])]\n",
    "\n",
    "    for b in range(2):\n",
    "        dist[:,int(cycles[b][0])]=np.inf\n",
    "\n",
    "    chosenCycle=1\n",
    "    for i in range(0,98):\n",
    "        chosenCycle = int((chosenCycle + 1)%2)\n",
    "        candidates=[]\n",
    "        for z,index in enumerate(cycles[chosenCycle]):\n",
    "            candidates.append((np.argmin(dist[index]),np.min(dist[index]),z))\n",
    "        candidates=np.array(candidates)\n",
    "        x=np.argmin(candidates[:,1])\n",
    "        cycles[chosenCycle]=np.insert(cycles[chosenCycle],int(candidates[x,2]),int(candidates[x,0]))\n",
    "        dist[:,int(candidates[x,0])]=np.inf\n",
    "    \n",
    "#     print(f\"cycle[0]: {calcDistance(cycles[0], dist_stable)}\")\n",
    "#     print(f\"cycle[1]: {calcDistance(cycles[1], dist_stable)}\")\n",
    "    \n",
    "    #SAVING RESULTS \n",
    "    results.append(calcDistance(cycles[0],dist_stable)+calcDistance(cycles[1],dist_stable))\n",
    "    if results[-1]>max_result:\n",
    "        max_result=results[-1]\n",
    "    if results[-1]<min_result:\n",
    "        min_result=results[-1]\n",
    "        plt.clf()\n",
    "        plt.plot(dataset[:,0][cycles[0][0]], dataset[:,1][cycles[0][0]], \"o\", markersize=12)\n",
    "        plt.plot(dataset[:,0][cycles[1][0]], dataset[:,1][cycles[1][0]], \"o\", markersize=12)\n",
    "        plt.plot(dataset[:,0][cycles[0]], dataset[:,1][cycles[0]], \"->\")\n",
    "        plt.plot(dataset[:,0][cycles[1]], dataset[:,1][cycles[1]], \"->\")\n",
    "        plt.savefig(f'best_NN_{dataset_choice}.png')\n",
    "    return cycles"
   ]
  },
  {
   "cell_type": "code",
   "execution_count": 180,
   "metadata": {},
   "outputs": [],
   "source": [
    "# 2nd variable - Find more optimal solution\n",
    "# switch parameter defines how u find neighbour solutions (is it change_vertices or change_edges func)\n",
    "def greedy_search(dist, np_dots, init_random = False, switch=\"change_edges\"):\n",
    "    #specify cycles initialization.\n",
    "    if init_random:\n",
    "        cycles = start_cycle_random()\n",
    "    else:\n",
    "        cycles = starty_cycle_heuristic()\n",
    "        \n",
    "    print(cycles)\n",
    "    \n",
    "    if switch == \"change_vertices\":\n",
    "        internal_change = change_vertices\n",
    "    elif switch == \"change_edges\":\n",
    "        internal_change = change_edges\n",
    "    else:\n",
    "        print(f\"Unknow mode {switch}. Select change_vertices or change_edges\")\n",
    "        return\n",
    "    \n",
    "    \n",
    "    \n",
    "    bestDistance = 0\n",
    "    bestDistance += calcDistance(cycles[0], dist) \n",
    "    bestDistance += calcDistance(cycles[1], dist) \n",
    "    print(f\"Initial distance: {bestDistance}\")\n",
    "    \n",
    "    plotPartResult(np_dots, cycles)\n",
    "    \n",
    "    \n",
    "    done = False\n",
    "    while not done:\n",
    "        done = True\n",
    "        #-------------calculating possible moves\n",
    "        possible_moves = []\n",
    "        \n",
    "        mesh = np.array(np.meshgrid(cycles[0], cycles[1]))\n",
    "        combinations = mesh.T.reshape(-1, 2)\n",
    "        for x in combinations:\n",
    "            possible_moves.append([\"external\", x])\n",
    "\n",
    "        mesh = np.array(np.meshgrid(cycles[0], cycles[0]))\n",
    "        mesh = np.concatenate((mesh,np.array(np.meshgrid(cycles[1], cycles[1]))),axis=0)\n",
    "        combinations = mesh.T.reshape(-1, 2)\n",
    "        for x in combinations:\n",
    "            possible_moves.append([\"internal\", x])\n",
    "        \n",
    "        possible_moves = np.array(possible_moves)\n",
    "        i = np.random.choice(range(len(possible_moves)),len(possible_moves),replace=False)\n",
    "        possible_moves = possible_moves[i]\n",
    "        \n",
    "\n",
    "        for move, edges in possible_moves:\n",
    "#             print(move, edges)\n",
    "            cyclesCopy = copy.deepcopy(cycles)\n",
    "            edge1 = edges[0]\n",
    "            edge2 = edges[1]\n",
    "            \n",
    "#             print(edge1, edge2)\n",
    "            if move == \"internal\":\n",
    "                cyclesCopy = internal_change(cyclesCopy, edge1, edge2, internal=True)\n",
    "            else:\n",
    "                cyclesCopy = change_vertices(cyclesCopy, edge1, edge2, False)\n",
    "#             plotPartResult(np_dots, cycles)\n",
    "            currentDistance = 0\n",
    "            currentDistance += calcDistance(cyclesCopy[0], dist)\n",
    "            currentDistance += calcDistance(cyclesCopy[1], dist)\n",
    "            if currentDistance < bestDistance:\n",
    "                print(f\"New best distance: {currentDistance}, changed {edge1} with {edge2} on {move}\")\n",
    "                cycles = cyclesCopy\n",
    "                bestDistance = currentDistance\n",
    "                done = False\n",
    "                break\n",
    "    \n",
    "    plotPartResult(np_dots, cycles)\n",
    "    plt.show()\n",
    "    return cycles\n",
    "    "
   ]
  },
  {
   "cell_type": "code",
   "execution_count": 8,
   "metadata": {},
   "outputs": [],
   "source": [
    "# 2nd variable - Find more optimal solution\n",
    "def steep_search(cycleA, cycleB):\n",
    "    raise NotImplementedError"
   ]
  },
  {
   "cell_type": "code",
   "execution_count": 111,
   "metadata": {},
   "outputs": [],
   "source": [
    "# 3rd variable - Generate neighbour solution\n",
    "#changes vertex internally or externaly between cycles\n",
    "def change_vertices(cycles, a, b, internally=True):\n",
    "    if internally:\n",
    "#         print(len(np.where(cycles[0] == a)))\n",
    "#         print(np.where(cycles[0] == a))\n",
    "        cI= 0 if len(np.where(cycles[0] == a)[0])!=0 else 1 \n",
    "        inA=np.where(cycles[cI] == a)[0][0]\n",
    "        inB=np.where(cycles[cI] == b)[0][0]\n",
    "        tmp=cycles[cI][inA]\n",
    "        cycles[cI][inA]=b\n",
    "        cycles[cI][inB]=tmp\n",
    "        #print(cycles[0][inB], cycles[0][inA])\n",
    "    else:\n",
    "        cI= 0 if len(np.where(cycles[0] == a)[0])!=0 else 1 \n",
    "        cI2 = 1-cI\n",
    "        inA=np.where(cycles[cI] == a)[0][0]\n",
    "        inB=np.where(cycles[cI2] == b)[0][0]\n",
    "        tmp=cycles[cI][inA]\n",
    "        cycles[cI][inA]=b\n",
    "        cycles[cI2][inB]=tmp\n",
    "        #pass\n",
    "    #print(cycles)\n",
    "    return cycles\n",
    "    #if aIndex in cycles[0]\n",
    "    #raise NotImplementedError"
   ]
  },
  {
   "cell_type": "code",
   "execution_count": 179,
   "metadata": {},
   "outputs": [],
   "source": [
    "# 3rd variable - Generate neighbour solution\n",
    "#changes edges internally\n",
    "def change_edges(cycles, edge1, edge2, internal=False): # dummy internal\n",
    "    cI= 0 if len(np.where(cycles[0] == edge1)[0])!=0 else 1 \n",
    "#     print(cycles[cI])\n",
    "    inA=np.where(cycles[cI] == edge1)[0][0]\n",
    "    inB=np.where(cycles[cI] == edge2)[0][0]\n",
    "    inA += 1\n",
    "    inB += 1\n",
    "    cycle = cycles[cI]\n",
    "    cycle[inA: inB] = np.flip(cycle[inA: inB])\n",
    "    return cycles"
   ]
  },
  {
   "cell_type": "code",
   "execution_count": 46,
   "metadata": {},
   "outputs": [],
   "source": [
    "# algorytm losowego bładzenia który robi losowo wybrany ruch jako punkt odniesienia wzgledem rozwiazan steep search i greedy search\n",
    "def random_wandering(dist, np_dots, duration, init_random = False, switch=\"change_edges\"):\n",
    "    #specify cycles initialization.\n",
    "    if init_random:\n",
    "        cycles = start_cycle_random()\n",
    "    else:\n",
    "        cycles = starty_cycle_heuristic()\n",
    "    \n",
    "    if switch == \"change_vertices\":\n",
    "        internal_change = change_vertices\n",
    "    elif switch == \"change_edges\":\n",
    "        internal_change = change_edges\n",
    "    else:\n",
    "        print(f\"Unknow mode {switch}. Select change_vertices or change_edges\")\n",
    "        return\n",
    "    \n",
    "    bestDistance = 0\n",
    "    bestDistance += calcDistance(cycles[0], dist) \n",
    "    bestDistance += calcDistance(cycles[1], dist) \n",
    "#     print(f\"Initial distance: {bestDistance}\")\n",
    "    \n",
    "#     plotPartResult(np_dots, cycles)\n",
    "    \n",
    "    startTime = time()\n",
    "    done = False\n",
    "    while not done:\n",
    "        done = True\n",
    "        while True:\n",
    "            if random.random() > 0.5:\n",
    "                cycle = 0\n",
    "            else:\n",
    "                cycle = 1\n",
    "\n",
    "            if random.random() > 0.5:\n",
    "                edge1 = random.randint(0, 49)\n",
    "                edge2 = random.randint(edge1, 49)\n",
    "#                 print(edge1, edge2)\n",
    "                internal_change(cycles[cycle], edge1, edge2)\n",
    "            else:\n",
    "    #             change_vertices()\n",
    "                pass\n",
    "#             plotPartResult(np_dots, cycles)\n",
    "#             currentDistance = 0\n",
    "#             currentDistance += calcDistance(cycles[0], dist)\n",
    "#             currentDistance += calcDistance(cycles[1], dist)\n",
    "            if time() - startTime > duration:\n",
    "                break\n",
    "                done = False\n",
    "    \n",
    "#     plotPartResult(np_dots, cycles)\n",
    "#     plt.show()\n",
    "    \n",
    "    currentDistance = 0\n",
    "    currentDistance += calcDistance(cycles[0], dist)\n",
    "    currentDistance += calcDistance(cycles[1], dist)\n",
    "    return currentDistance"
   ]
  },
  {
   "cell_type": "code",
   "execution_count": 182,
   "metadata": {},
   "outputs": [
    {
     "name": "stderr",
     "output_type": "stream",
     "text": [
      "\n",
      "\n",
      "\n",
      "\n",
      "\n",
      "\n",
      "  0%|          | 0/100 [00:00<?, ?it/s]\u001b[A\u001b[A\u001b[A\u001b[A\u001b[A\u001b[A"
     ]
    },
    {
     "name": "stdout",
     "output_type": "stream",
     "text": [
      "{0: array([ 1, 43, 49, 53, 39, 63, 34, 76, 44, 22, 59, 61, 85, 26, 42, 40, 47,\n",
      "       99, 70, 13,  2, 45, 28, 33, 82, 54, 11, 19, 56,  6,  8, 86, 50, 92,\n",
      "       66, 27, 57, 60, 24, 80, 68, 72, 67, 51, 94, 12, 36, 95, 38, 84]), 1: array([98, 35, 37, 23, 17, 78, 83, 58, 16, 14, 81, 75, 32,  4, 77, 29, 97,\n",
      "       90, 46, 31, 10, 73, 20, 71,  9, 89, 48,  5, 62,  0, 91,  7, 41, 88,\n",
      "       30, 79, 55, 65, 25, 64,  3, 96, 74, 18, 52, 87, 15, 93, 21, 69])}\n",
      "Initial distance: 34304.59376614494\n"
     ]
    },
    {
     "data": {
      "image/png": "[encoded data removed]",
      "text/plain": [
       "<Figure size 432x288 with 1 Axes>"
      ]
     },
     "metadata": {
      "needs_background": "light"
     },
     "output_type": "display_data"
    },
    {
     "name": "stderr",
     "output_type": "stream",
     "text": [
      "/home/i/.local/lib/python3.6/site-packages/ipykernel_launcher.py:47: VisibleDeprecationWarning: Creating an ndarray from ragged nested sequences (which is a list-or-tuple of lists-or-tuples-or ndarrays with different lengths or shapes) is deprecated. If you meant to do this, you must specify 'dtype=object' when creating the ndarray\n"
     ]
    },
    {
     "name": "stdout",
     "output_type": "stream",
     "text": [
      "New best distance: 34262.924747621015, changed 34 with 61 on internal\n",
      "New best distance: 34013.42199050877, changed 67 with 84 on internal\n",
      "New best distance: 33397.62593592841, changed 63 with 76 on internal\n",
      "New best distance: 33331.8452049779, changed 14 with 10 on internal\n",
      "New best distance: 33001.90998200767, changed 40 with 70 on internal\n",
      "New best distance: 32744.462788220546, changed 92 with 27 on internal\n",
      "New best distance: 32490.199366135366, changed 15 with 69 on internal\n",
      "New best distance: 32006.315061802034, changed 63 with 50 on internal\n",
      "New best distance: 31645.45426839569, changed 95 with 51 on internal\n",
      "New best distance: 31614.159343862273, changed 95 with 77 on external\n",
      "New best distance: 31224.575832698363, changed 36 with 81 on external\n",
      "New best distance: 31222.410689405267, changed 55 with 3 on internal\n",
      "New best distance: 31222.041830454124, changed 14 with 36 on internal\n",
      "New best distance: 31218.846639094096, changed 14 with 97 on internal\n",
      "New best distance: 30888.220861558013, changed 49 with 81 on internal\n"
     ]
    },
    {
     "name": "stderr",
     "output_type": "stream",
     "text": [
      "\r",
      "  0%|          | 0/100 [00:01<?, ?it/s]"
     ]
    },
    {
     "name": "stdout",
     "output_type": "stream",
     "text": [
      "New best distance: 30844.6186987903, changed 55 with 96 on internal\n",
      "New best distance: 30548.649614223432, changed 78 with 93 on internal\n",
      "New best distance: 30024.10231160441, changed 76 with 90 on external\n"
     ]
    },
    {
     "name": "stderr",
     "output_type": "stream",
     "text": [
      "\n"
     ]
    },
    {
     "ename": "KeyboardInterrupt",
     "evalue": "",
     "output_type": "error",
     "traceback": [
      "\u001b[0;31m---------------------------------------------------------------------------\u001b[0m",
      "\u001b[0;31mKeyboardInterrupt\u001b[0m                         Traceback (most recent call last)",
      "\u001b[0;32m<ipython-input-182-31b7a730389a>\u001b[0m in \u001b[0;36m<module>\u001b[0;34m\u001b[0m\n\u001b[1;32m      6\u001b[0m \u001b[0;32mfor\u001b[0m \u001b[0m_\u001b[0m \u001b[0;32min\u001b[0m \u001b[0mtqdm\u001b[0m\u001b[0;34m(\u001b[0m\u001b[0mrange\u001b[0m\u001b[0;34m(\u001b[0m\u001b[0;36m100\u001b[0m\u001b[0;34m)\u001b[0m\u001b[0;34m)\u001b[0m\u001b[0;34m:\u001b[0m\u001b[0;34m\u001b[0m\u001b[0;34m\u001b[0m\u001b[0m\n\u001b[1;32m      7\u001b[0m     \u001b[0mstartTime\u001b[0m \u001b[0;34m=\u001b[0m \u001b[0mtime\u001b[0m\u001b[0;34m(\u001b[0m\u001b[0;34m)\u001b[0m\u001b[0;34m\u001b[0m\u001b[0;34m\u001b[0m\u001b[0m\n\u001b[0;32m----> 8\u001b[0;31m     \u001b[0mdistanceTable\u001b[0m\u001b[0;34m.\u001b[0m\u001b[0mappend\u001b[0m\u001b[0;34m(\u001b[0m\u001b[0mgreedy_search\u001b[0m\u001b[0;34m(\u001b[0m\u001b[0mdista\u001b[0m\u001b[0;34m,\u001b[0m \u001b[0mnp_kroa\u001b[0m\u001b[0;34m)\u001b[0m\u001b[0;34m)\u001b[0m\u001b[0;34m\u001b[0m\u001b[0;34m\u001b[0m\u001b[0m\n\u001b[0m\u001b[1;32m      9\u001b[0m     \u001b[0mtimeTable\u001b[0m\u001b[0;34m.\u001b[0m\u001b[0mappend\u001b[0m\u001b[0;34m(\u001b[0m\u001b[0mtime\u001b[0m\u001b[0;34m(\u001b[0m\u001b[0;34m)\u001b[0m \u001b[0;34m-\u001b[0m \u001b[0mstartTime\u001b[0m\u001b[0;34m)\u001b[0m\u001b[0;34m\u001b[0m\u001b[0;34m\u001b[0m\u001b[0m\n\u001b[1;32m     10\u001b[0m \u001b[0mprint\u001b[0m\u001b[0;34m(\u001b[0m\u001b[0;34mf\"greedy_search; time:{np.mean(timeTable)}, min:{np.min(distanceTable)}, max:{np.max(distanceTable)}, mean:{np.mean(distanceTable)}\"\u001b[0m\u001b[0;34m)\u001b[0m\u001b[0;34m\u001b[0m\u001b[0;34m\u001b[0m\u001b[0m\n",
      "\u001b[0;32m<ipython-input-180-7aa04f001517>\u001b[0m in \u001b[0;36mgreedy_search\u001b[0;34m(dist, np_dots, init_random, switch)\u001b[0m\n\u001b[1;32m     58\u001b[0m \u001b[0;31m#             print(edge1, edge2)\u001b[0m\u001b[0;34m\u001b[0m\u001b[0;34m\u001b[0m\u001b[0;34m\u001b[0m\u001b[0m\n\u001b[1;32m     59\u001b[0m             \u001b[0;32mif\u001b[0m \u001b[0mmove\u001b[0m \u001b[0;34m==\u001b[0m \u001b[0;34m\"internal\"\u001b[0m\u001b[0;34m:\u001b[0m\u001b[0;34m\u001b[0m\u001b[0;34m\u001b[0m\u001b[0m\n\u001b[0;32m---> 60\u001b[0;31m                 \u001b[0mcyclesCopy\u001b[0m \u001b[0;34m=\u001b[0m \u001b[0minternal_change\u001b[0m\u001b[0;34m(\u001b[0m\u001b[0mcyclesCopy\u001b[0m\u001b[0;34m,\u001b[0m \u001b[0medge1\u001b[0m\u001b[0;34m,\u001b[0m \u001b[0medge2\u001b[0m\u001b[0;34m,\u001b[0m \u001b[0minternal\u001b[0m\u001b[0;34m=\u001b[0m\u001b[0;32mTrue\u001b[0m\u001b[0;34m)\u001b[0m\u001b[0;34m\u001b[0m\u001b[0;34m\u001b[0m\u001b[0m\n\u001b[0m\u001b[1;32m     61\u001b[0m             \u001b[0;32melse\u001b[0m\u001b[0;34m:\u001b[0m\u001b[0;34m\u001b[0m\u001b[0;34m\u001b[0m\u001b[0m\n\u001b[1;32m     62\u001b[0m                 \u001b[0mcyclesCopy\u001b[0m \u001b[0;34m=\u001b[0m \u001b[0mchange_vertices\u001b[0m\u001b[0;34m(\u001b[0m\u001b[0mcyclesCopy\u001b[0m\u001b[0;34m,\u001b[0m \u001b[0medge1\u001b[0m\u001b[0;34m,\u001b[0m \u001b[0medge2\u001b[0m\u001b[0;34m,\u001b[0m \u001b[0;32mFalse\u001b[0m\u001b[0;34m)\u001b[0m\u001b[0;34m\u001b[0m\u001b[0;34m\u001b[0m\u001b[0m\n",
      "\u001b[0;32m<ipython-input-179-f236346bad9b>\u001b[0m in \u001b[0;36mchange_edges\u001b[0;34m(cycles, edge1, edge2, internal)\u001b[0m\n\u001b[1;32m      9\u001b[0m     \u001b[0minB\u001b[0m \u001b[0;34m+=\u001b[0m \u001b[0;36m1\u001b[0m\u001b[0;34m\u001b[0m\u001b[0;34m\u001b[0m\u001b[0m\n\u001b[1;32m     10\u001b[0m     \u001b[0mcycle\u001b[0m \u001b[0;34m=\u001b[0m \u001b[0mcycles\u001b[0m\u001b[0;34m[\u001b[0m\u001b[0mcI\u001b[0m\u001b[0;34m]\u001b[0m\u001b[0;34m\u001b[0m\u001b[0;34m\u001b[0m\u001b[0m\n\u001b[0;32m---> 11\u001b[0;31m     \u001b[0mcycle\u001b[0m\u001b[0;34m[\u001b[0m\u001b[0minA\u001b[0m\u001b[0;34m:\u001b[0m \u001b[0minB\u001b[0m\u001b[0;34m]\u001b[0m \u001b[0;34m=\u001b[0m \u001b[0mnp\u001b[0m\u001b[0;34m.\u001b[0m\u001b[0mflip\u001b[0m\u001b[0;34m(\u001b[0m\u001b[0mcycle\u001b[0m\u001b[0;34m[\u001b[0m\u001b[0minA\u001b[0m\u001b[0;34m:\u001b[0m \u001b[0minB\u001b[0m\u001b[0;34m]\u001b[0m\u001b[0;34m)\u001b[0m\u001b[0;34m\u001b[0m\u001b[0;34m\u001b[0m\u001b[0m\n\u001b[0m\u001b[1;32m     12\u001b[0m     \u001b[0;32mreturn\u001b[0m \u001b[0mcycles\u001b[0m\u001b[0;34m\u001b[0m\u001b[0;34m\u001b[0m\u001b[0m\n",
      "\u001b[0;32m<__array_function__ internals>\u001b[0m in \u001b[0;36mflip\u001b[0;34m(*args, **kwargs)\u001b[0m\n",
      "\u001b[0;31mKeyboardInterrupt\u001b[0m: "
     ]
    }
   ],
   "source": [
    "#MAIN - tu poskladac wyzej zaimplementowane funkcje w 8 roznych kombinacji algorytmow i sprawdzic ich czasy i wyplotowac skutecznosci\n",
    "\n",
    "timeTable = []\n",
    "distanceTable = []\n",
    "bestDistance = 0\n",
    "for _ in tqdm(range(100)):\n",
    "    startTime = time()\n",
    "    distanceTable.append(greedy_search(dista, np_kroa))\n",
    "    timeTable.append(time() - startTime)\n",
    "print(f\"greedy_search; time:{np.mean(timeTable)}, min:{np.min(distanceTable)}, max:{np.max(distanceTable)}, mean:{np.mean(distanceTable)}\")\n"
   ]
  },
  {
   "cell_type": "code",
   "execution_count": 47,
   "metadata": {},
   "outputs": [
    {
     "name": "stderr",
     "output_type": "stream",
     "text": [
      "100%|██████████| 100/100 [01:59<00:00,  1.20s/it]"
     ]
    },
    {
     "name": "stdout",
     "output_type": "stream",
     "text": [
      "random_wandering; time:1.1957372832298279, min:100113.35297990218, max:145550.3294451778, mean:120324.36337005021\n"
     ]
    },
    {
     "name": "stderr",
     "output_type": "stream",
     "text": [
      "\n"
     ]
    },
    {
     "data": {
      "image/png": "[encoded data removed]",
      "text/plain": [
       "<Figure size 432x288 with 1 Axes>"
      ]
     },
     "metadata": {
      "needs_background": "light"
     },
     "output_type": "display_data"
    }
   ],
   "source": [
    "#MAIN - tu poskladac wyzej zaimplementowane funkcje w 8 roznych kombinacji algorytmow i sprawdzic ich czasy i wyplotowac skutecznosci\n",
    "\n",
    "timeTable = []\n",
    "distanceTable = []\n",
    "bestDistance = 0\n",
    "for _ in tqdm(range(100)):\n",
    "    startTime = time()\n",
    "    distanceTable.append(random_wandering(dista, np_kroa, 1))\n",
    "    timeTable.append(time() - startTime)\n",
    "print(f\"random_wandering; time:{np.mean(timeTable)}, min:{np.min(distanceTable)}, max:{np.max(distanceTable)}, mean:{np.mean(distanceTable)}\")\n"
   ]
  },
  {
   "cell_type": "code",
   "execution_count": null,
   "metadata": {},
   "outputs": [],
   "source": []
  },
  {
   "cell_type": "code",
   "execution_count": null,
   "metadata": {},
   "outputs": [],
   "source": []
  },
  {
   "cell_type": "code",
   "execution_count": null,
   "metadata": {},
   "outputs": [],
   "source": []
  },
  {
   "cell_type": "code",
   "execution_count": 48,
   "metadata": {},
   "outputs": [
    {
     "ename": "NameError",
     "evalue": "name 'mesh' is not defined",
     "output_type": "error",
     "traceback": [
      "\u001b[0;31m---------------------------------------------------------------------------\u001b[0m",
      "\u001b[0;31mNameError\u001b[0m                                 Traceback (most recent call last)",
      "\u001b[0;32m<ipython-input-48-7c2a5eddfba5>\u001b[0m in \u001b[0;36m<module>\u001b[0;34m\u001b[0m\n\u001b[0;32m----> 1\u001b[0;31m \u001b[0mcombinations\u001b[0m \u001b[0;34m=\u001b[0m \u001b[0mmesh\u001b[0m\u001b[0;34m.\u001b[0m\u001b[0mT\u001b[0m\u001b[0;34m.\u001b[0m\u001b[0mreshape\u001b[0m\u001b[0;34m(\u001b[0m\u001b[0;34m-\u001b[0m\u001b[0;36m1\u001b[0m\u001b[0;34m,\u001b[0m\u001b[0;36m2\u001b[0m\u001b[0;34m)\u001b[0m\u001b[0;34m\u001b[0m\u001b[0;34m\u001b[0m\u001b[0m\n\u001b[0m",
      "\u001b[0;31mNameError\u001b[0m: name 'mesh' is not defined"
     ]
    }
   ],
   "source": [
    "combinations = mesh.T.reshape(-1,2)"
   ]
  },
  {
   "cell_type": "code",
   "execution_count": 56,
   "metadata": {},
   "outputs": [
    {
     "data": {
      "image/png": "[encoded data removed]",
      "text/plain": [
       "<Figure size 432x288 with 1 Axes>"
      ]
     },
     "metadata": {
      "needs_background": "light"
     },
     "output_type": "display_data"
    }
   ],
   "source": [
    "cycles = starty_cycle_heuristic()"
   ]
  },
  {
   "cell_type": "code",
   "execution_count": 102,
   "metadata": {},
   "outputs": [],
   "source": [
    "mesh = np.array(np.meshgrid(cycles[0], cycles[1]))\n",
    "combinations = mesh.T.reshape(-1, 2)"
   ]
  },
  {
   "cell_type": "code",
   "execution_count": 88,
   "metadata": {},
   "outputs": [
    {
     "ename": "TypeError",
     "evalue": "shuffle() got an unexpected keyword argument 'axis'",
     "output_type": "error",
     "traceback": [
      "\u001b[0;31m---------------------------------------------------------------------------\u001b[0m",
      "\u001b[0;31mTypeError\u001b[0m                                 Traceback (most recent call last)",
      "\u001b[0;32m<ipython-input-88-0457eeff62b9>\u001b[0m in \u001b[0;36m<module>\u001b[0;34m\u001b[0m\n\u001b[0;32m----> 1\u001b[0;31m \u001b[0mrandom\u001b[0m\u001b[0;34m.\u001b[0m\u001b[0mshuffle\u001b[0m\u001b[0;34m(\u001b[0m\u001b[0mcombinations\u001b[0m\u001b[0;34m,\u001b[0m \u001b[0maxis\u001b[0m\u001b[0;34m=\u001b[0m\u001b[0;36m0\u001b[0m\u001b[0;34m)\u001b[0m\u001b[0;34m\u001b[0m\u001b[0;34m\u001b[0m\u001b[0m\n\u001b[0m",
      "\u001b[0;31mTypeError\u001b[0m: shuffle() got an unexpected keyword argument 'axis'"
     ]
    }
   ],
   "source": [
    "random.shuffle(combinations, axis=0)"
   ]
  },
  {
   "cell_type": "code",
   "execution_count": 167,
   "metadata": {},
   "outputs": [
    {
     "name": "stdout",
     "output_type": "stream",
     "text": [
      "4 9\n"
     ]
    },
    {
     "name": "stderr",
     "output_type": "stream",
     "text": [
      "/home/i/.local/lib/python3.6/site-packages/ipykernel_launcher.py:1: VisibleDeprecationWarning: Creating an ndarray from ragged nested sequences (which is a list-or-tuple of lists-or-tuples-or ndarrays with different lengths or shapes) is deprecated. If you meant to do this, you must specify 'dtype=object' when creating the ndarray\n",
      "  \"\"\"Entry point for launching an IPython kernel.\n"
     ]
    },
    {
     "data": {
      "text/plain": [
       "array([array([1, 2, 3, 4, 9, 8, 7, 6, 5]), array([20, 30, 40])],\n",
       "      dtype=object)"
      ]
     },
     "execution_count": 167,
     "metadata": {},
     "output_type": "execute_result"
    }
   ],
   "source": [
    "x = np.array([np.array([1,2,3,4,5,6,7,8,9]), np.array([20,30,40])])\n",
    "change_edges(x, 4, 9)"
   ]
  },
  {
   "cell_type": "code",
   "execution_count": 149,
   "metadata": {},
   "outputs": [
    {
     "data": {
      "text/plain": [
       "array([array([0, 1, 2, 3, 4, 5, 6, 7, 8, 9]), array([20, 30, 40])],\n",
       "      dtype=object)"
      ]
     },
     "execution_count": 149,
     "metadata": {},
     "output_type": "execute_result"
    }
   ],
   "source": [
    "change_edges(x, 2, 3)"
   ]
  },
  {
   "cell_type": "code",
   "execution_count": 148,
   "metadata": {},
   "outputs": [
    {
     "data": {
      "text/plain": [
       "array([array([0, 1, 2, 6, 5, 4, 3, 7, 8, 9]), array([20, 30, 40])],\n",
       "      dtype=object)"
      ]
     },
     "execution_count": 148,
     "metadata": {},
     "output_type": "execute_result"
    }
   ],
   "source": [
    "x"
   ]
  },
  {
   "cell_type": "code",
   "execution_count": 94,
   "metadata": {},
   "outputs": [
    {
     "ename": "TypeError",
     "evalue": "Population must be a sequence or set.  For dicts, use list(d).",
     "output_type": "error",
     "traceback": [
      "\u001b[0;31m---------------------------------------------------------------------------\u001b[0m",
      "\u001b[0;31mTypeError\u001b[0m                                 Traceback (most recent call last)",
      "\u001b[0;32m<ipython-input-94-c41f60af6b4f>\u001b[0m in \u001b[0;36m<module>\u001b[0;34m\u001b[0m\n\u001b[0;32m----> 1\u001b[0;31m \u001b[0mrandom\u001b[0m\u001b[0;34m.\u001b[0m\u001b[0msample\u001b[0m\u001b[0;34m(\u001b[0m\u001b[0mx\u001b[0m\u001b[0;34m,\u001b[0m\u001b[0;36m3\u001b[0m\u001b[0;34m)\u001b[0m\u001b[0;34m\u001b[0m\u001b[0;34m\u001b[0m\u001b[0m\n\u001b[0m",
      "\u001b[0;32m/usr/lib/python3.6/random.py\u001b[0m in \u001b[0;36msample\u001b[0;34m(self, population, k)\u001b[0m\n\u001b[1;32m    314\u001b[0m             \u001b[0mpopulation\u001b[0m \u001b[0;34m=\u001b[0m \u001b[0mtuple\u001b[0m\u001b[0;34m(\u001b[0m\u001b[0mpopulation\u001b[0m\u001b[0;34m)\u001b[0m\u001b[0;34m\u001b[0m\u001b[0;34m\u001b[0m\u001b[0m\n\u001b[1;32m    315\u001b[0m         \u001b[0;32mif\u001b[0m \u001b[0;32mnot\u001b[0m \u001b[0misinstance\u001b[0m\u001b[0;34m(\u001b[0m\u001b[0mpopulation\u001b[0m\u001b[0;34m,\u001b[0m \u001b[0m_Sequence\u001b[0m\u001b[0;34m)\u001b[0m\u001b[0;34m:\u001b[0m\u001b[0;34m\u001b[0m\u001b[0;34m\u001b[0m\u001b[0m\n\u001b[0;32m--> 316\u001b[0;31m             \u001b[0;32mraise\u001b[0m \u001b[0mTypeError\u001b[0m\u001b[0;34m(\u001b[0m\u001b[0;34m\"Population must be a sequence or set.  For dicts, use list(d).\"\u001b[0m\u001b[0;34m)\u001b[0m\u001b[0;34m\u001b[0m\u001b[0;34m\u001b[0m\u001b[0m\n\u001b[0m\u001b[1;32m    317\u001b[0m         \u001b[0mrandbelow\u001b[0m \u001b[0;34m=\u001b[0m \u001b[0mself\u001b[0m\u001b[0;34m.\u001b[0m\u001b[0m_randbelow\u001b[0m\u001b[0;34m\u001b[0m\u001b[0;34m\u001b[0m\u001b[0m\n\u001b[1;32m    318\u001b[0m         \u001b[0mn\u001b[0m \u001b[0;34m=\u001b[0m \u001b[0mlen\u001b[0m\u001b[0;34m(\u001b[0m\u001b[0mpopulation\u001b[0m\u001b[0;34m)\u001b[0m\u001b[0;34m\u001b[0m\u001b[0;34m\u001b[0m\u001b[0m\n",
      "\u001b[0;31mTypeError\u001b[0m: Population must be a sequence or set.  For dicts, use list(d)."
     ]
    }
   ],
   "source": [
    "random.sample(x,3)"
   ]
  },
  {
   "cell_type": "code",
   "execution_count": 108,
   "metadata": {},
   "outputs": [],
   "source": [
    "i = np.random.choice(range(len(x)),len(x),replace=False)"
   ]
  },
  {
   "cell_type": "code",
   "execution_count": 112,
   "metadata": {},
   "outputs": [],
   "source": [
    "mesh = np.array(np.meshgrid(cycles[0], cycles[1]))\n",
    "combinations = mesh.T.reshape(-1, 2)\n",
    "i = np.random.choice(range(len(combinations)),len(combinations),replace=False)\n",
    "combinations = combinations[i]\n",
    "possible_moves = {'external': [combinations]}\n",
    "\n",
    "mesh = np.array(np.meshgrid(cycles[0], cycles[0]))\n",
    "mesh = np.concatenate((mesh,np.array(np.meshgrid(cycles[1], cycles[1]))),axis=0)\n",
    "combinations = mesh.T.reshape(-1, 2)\n",
    "i = np.random.choice(range(len(combinations)),len(combinations),replace=False)\n",
    "combinations = combinations[i]\n",
    "possible_moves['internal'] = [combinations]"
   ]
  },
  {
   "cell_type": "code",
   "execution_count": 128,
   "metadata": {},
   "outputs": [
    {
     "name": "stderr",
     "output_type": "stream",
     "text": [
      "/home/i/.local/lib/python3.6/site-packages/ipykernel_launcher.py:18: VisibleDeprecationWarning: Creating an ndarray from ragged nested sequences (which is a list-or-tuple of lists-or-tuples-or ndarrays with different lengths or shapes) is deprecated. If you meant to do this, you must specify 'dtype=object' when creating the ndarray\n"
     ]
    }
   ],
   "source": [
    "mesh = np.array(np.meshgrid(cycles[0], cycles[1]))\n",
    "combinations = mesh.T.reshape(-1, 2)\n",
    "#         i = np.random.choice(range(len(combinations)),len(combinations),replace=False)\n",
    "#         combinations = combinations[i]\n",
    "#         possible_moves = {'external': [combinations]}\n",
    "possible_moves = []\n",
    "for x in combinations:\n",
    "    possible_moves.append([\"external\", x])\n",
    "\n",
    "mesh = np.array(np.meshgrid(cycles[0], cycles[0]))\n",
    "mesh = np.concatenate((mesh,np.array(np.meshgrid(cycles[1], cycles[1]))),axis=0)\n",
    "combinations = mesh.T.reshape(-1, 2)\n",
    "#         i = np.random.choice(range(len(combinations)),len(combinations),replace=False)\n",
    "#         combinations = combinations[i]\n",
    "for x in combinations:\n",
    "    possible_moves.append([\"internal\", x])\n",
    "\n",
    "possible_moves = np.array(possible_moves)\n",
    "i = np.random.choice(range(len(possible_moves)),len(possible_moves),replace=False)\n",
    "possible_moves = possible_moves[i]"
   ]
  },
  {
   "cell_type": "code",
   "execution_count": 131,
   "metadata": {},
   "outputs": [],
   "source": [
    "x,y = possible_moves[0]"
   ]
  },
  {
   "cell_type": "code",
   "execution_count": 132,
   "metadata": {},
   "outputs": [
    {
     "data": {
      "text/plain": [
       "'external'"
      ]
     },
     "execution_count": 132,
     "metadata": {},
     "output_type": "execute_result"
    }
   ],
   "source": [
    "x"
   ]
  },
  {
   "cell_type": "code",
   "execution_count": 133,
   "metadata": {},
   "outputs": [
    {
     "data": {
      "text/plain": [
       "array([78, 28])"
      ]
     },
     "execution_count": 133,
     "metadata": {},
     "output_type": "execute_result"
    }
   ],
   "source": [
    "y"
   ]
  },
  {
   "cell_type": "code",
   "execution_count": null,
   "metadata": {},
   "outputs": [],
   "source": []
  }
 ],
 "metadata": {
  "kernelspec": {
   "display_name": "Python 3",
   "language": "python",
   "name": "python3"
  },
  "language_info": {
   "codemirror_mode": {
    "name": "ipython",
    "version": 3
   },
   "file_extension": ".py",
   "mimetype": "text/x-python",
   "name": "python",
   "nbconvert_exporter": "python",
   "pygments_lexer": "ipython3",
   "version": "3.6.9"
  }
 },
 "nbformat": 4,
 "nbformat_minor": 2
}
