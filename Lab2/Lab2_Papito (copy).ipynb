{
 "cells": [
  {
   "cell_type": "code",
   "execution_count": 44,
   "metadata": {},
   "outputs": [],
   "source": [
    "#imports\n",
    "from scipy.spatial import distance_matrix\n",
    "from random import randrange\n",
    "import copy\n",
    "import matplotlib.pyplot as plt\n",
    "import imageio\n",
    "import random\n",
    "from time import time\n",
    "from tqdm import tqdm"
   ]
  },
  {
   "cell_type": "code",
   "execution_count": 3,
   "metadata": {},
   "outputs": [],
   "source": [
    "#loading datasets \n",
    "import numpy as np\n",
    "kroa={}\n",
    "krob={}\n",
    "np_kroa=[]\n",
    "np_krob=[]\n",
    "with open('kroa100.txt') as f:\n",
    "    lines = f.readlines()\n",
    "    for line in lines[6:-1]:\n",
    "        x=list(map(int,line.strip().split(' ')))\n",
    "        #print(x)\n",
    "        kroa[x[0]]=(x[1],x[2])\n",
    "        np_kroa.append((x[1],x[2]))\n",
    "np_kroa=np.array(np_kroa)\n",
    "with open('krob100.txt') as f:\n",
    "    lines = f.readlines()\n",
    "    for line in lines[6:-1]:\n",
    "        x=list(map(int,line.strip().split(' ')))\n",
    "        #print(x)\n",
    "        krob[x[0]]=(x[1],x[2])\n",
    "        np_krob.append((x[1],x[2]))\n",
    "\n",
    "np_kroa=np.array(np_kroa)\n",
    "np_krob=np.array(np_krob)\n",
    "\n",
    "#calculating distance matrix - https://docs.scipy.org/doc/scipy/reference/generated/scipy.spatial.distance_matrix.html\n",
    "dista=distance_matrix(np_kroa,np_kroa)\n",
    "distb=distance_matrix(np_krob,np_krob)"
   ]
  },
  {
   "cell_type": "code",
   "execution_count": 4,
   "metadata": {},
   "outputs": [],
   "source": [
    "#plotting functions\n",
    "def plotResult(np_dots, cycles):\n",
    "    plt.plot(np_dots[:,0][cycles[0][0]], np_dots[:,1][cycles[0][0]], \"o\", markersize=12)\n",
    "    plt.plot(np_dots[:,0][cycles[1][0]], np_dots[:,1][cycles[1][0]], \"o\", markersize=12)\n",
    "    plt.plot(np_dots[:,0][cycles[0]], np_dots[:,1][cycles[0]], \"->\")\n",
    "    plt.plot(np_dots[:,0][cycles[1]], np_dots[:,1][cycles[1]], \"->\")\n",
    "    plt.show()\n",
    "    \n",
    "def plotPartResult(np_dots, cycles,i=0):\n",
    "    plt.plot(np_dots[:,0][cycles[0][0]], np_dots[:,1][cycles[0][0]], \"o\", markersize=12)\n",
    "    plt.plot(np_dots[:,0][cycles[1][0]], np_dots[:,1][cycles[1][0]], \"o\", markersize=12)\n",
    "    plt.plot(np_dots[:,0][cycles[0]], np_dots[:,1][cycles[0]], \"->\")\n",
    "    plt.plot(np_dots[:,0][cycles[1]], np_dots[:,1][cycles[1]], \"->\")\n",
    "    plt.plot(np_dots[:,0], np_dots[:,1], \".\")\n",
    "    #plt.savefig(f'plots/{i}.png')\n",
    "    plt.show()    \n",
    "    \n",
    "def calcDistance(currentCycle, dist):\n",
    "    distance = 0\n",
    "    for x,y in zip(currentCycle, [*currentCycle[1:], currentCycle[0]]):\n",
    "        distance += dist[x][y]\n",
    "    return distance "
   ]
  },
  {
   "cell_type": "code",
   "execution_count": null,
   "metadata": {},
   "outputs": [],
   "source": []
  },
  {
   "cell_type": "code",
   "execution_count": 5,
   "metadata": {},
   "outputs": [],
   "source": [
    "# 1st variable - Start cycle - with random assignments\n",
    "def start_cycle_random(dataset_choice=\"kroa\"):\n",
    "    if dataset_choice==\"kroa\":\n",
    "        dataset=np_kroa\n",
    "        dic=kroa\n",
    "        dist=copy.deepcopy(dista)\n",
    "        dist_stable=copy.deepcopy(dista)\n",
    "    else:\n",
    "        dataset=np_krob\n",
    "        dic=krob\n",
    "        dist=copy.deepcopy(distb)\n",
    "        dist_stable=copy.deepcopy(distb)\n",
    "    candidates=np.arange(0,100,1)\n",
    "    #print(candidates)\n",
    "    cycles={}\n",
    "    cycles[0]=[randrange(100)]\n",
    "    candidates=np.delete(candidates, cycles[0][0])\n",
    "    cycles[1]=[(np.argsort(dist[cycles[0][0]])[-2])]\n",
    "    candidates=np.delete(candidates, cycles[1][0])\n",
    "    chosenCycle=1\n",
    "    for i in range(0,98):\n",
    "        chosenCycle = int((chosenCycle + 1)%2)\n",
    "        chosenElementIndex = np.random.randint(len(candidates))\n",
    "        #print(chosenElementIndex,len(candidates),candidates[chosenElementIndex])\n",
    "        #cycles[chosenCycle]=np.insert(cycles[chosenCycle],candidates[chosenElementIndex])\n",
    "        cycles[chosenCycle]=np.concatenate((cycles[chosenCycle], [candidates[chosenElementIndex]]), axis=0)\n",
    "        candidates=np.delete(candidates, chosenElementIndex)\n",
    "    return cycles\n"
   ]
  },
  {
   "cell_type": "code",
   "execution_count": 40,
   "metadata": {},
   "outputs": [],
   "source": [
    "# 1st variable - Start cycle - with nearest neighbour method\n",
    "def starty_cycle_heuristic(dataset_choice=\"kroa\"):\n",
    "    results=[]\n",
    "    min_result=np.inf\n",
    "    max_result=0\n",
    "    if dataset_choice==\"kroa\":\n",
    "        dataset=np_kroa\n",
    "        dic=kroa\n",
    "        dist=copy.deepcopy(dista)\n",
    "        dist_stable=copy.deepcopy(dista)\n",
    "    else:\n",
    "        dataset=np_krob\n",
    "        dic=krob\n",
    "        dist=copy.deepcopy(distb)\n",
    "        dist_stable=copy.deepcopy(distb)\n",
    "\n",
    "\n",
    "    #zmiana dystansu przekątnej na nieskonczonosc\n",
    "    np.fill_diagonal(dist, np.inf)\n",
    "\n",
    "    cycles={}\n",
    "    cycles[0]=[randrange(100)]\n",
    "    cycles[1]=[(np.argsort(dist[cycles[0][0]])[-2])]\n",
    "\n",
    "    for b in range(2):\n",
    "        dist[:,int(cycles[b][0])]=np.inf\n",
    "\n",
    "    chosenCycle=1\n",
    "    for i in range(0,98):\n",
    "        chosenCycle = int((chosenCycle + 1)%2)\n",
    "        candidates=[]\n",
    "        for z,index in enumerate(cycles[chosenCycle]):\n",
    "            candidates.append((np.argmin(dist[index]),np.min(dist[index]),z))\n",
    "        candidates=np.array(candidates)\n",
    "        x=np.argmin(candidates[:,1])\n",
    "        cycles[chosenCycle]=np.insert(cycles[chosenCycle],int(candidates[x,2]),int(candidates[x,0]))\n",
    "        dist[:,int(candidates[x,0])]=np.inf\n",
    "    \n",
    "#     print(f\"cycle[0]: {calcDistance(cycles[0], dist_stable)}\")\n",
    "#     print(f\"cycle[1]: {calcDistance(cycles[1], dist_stable)}\")\n",
    "    \n",
    "    #SAVING RESULTS \n",
    "    results.append(calcDistance(cycles[0],dist_stable)+calcDistance(cycles[1],dist_stable))\n",
    "    if results[-1]>max_result:\n",
    "        max_result=results[-1]\n",
    "    if results[-1]<min_result:\n",
    "        min_result=results[-1]\n",
    "        plt.clf()\n",
    "        plt.plot(dataset[:,0][cycles[0][0]], dataset[:,1][cycles[0][0]], \"o\", markersize=12)\n",
    "        plt.plot(dataset[:,0][cycles[1][0]], dataset[:,1][cycles[1][0]], \"o\", markersize=12)\n",
    "        plt.plot(dataset[:,0][cycles[0]], dataset[:,1][cycles[0]], \"->\")\n",
    "        plt.plot(dataset[:,0][cycles[1]], dataset[:,1][cycles[1]], \"->\")\n",
    "        plt.savefig(f'best_NN_{dataset_choice}.png')\n",
    "    return cycles"
   ]
  },
  {
   "cell_type": "code",
   "execution_count": 15,
   "metadata": {},
   "outputs": [],
   "source": [
    "# 2nd variable - Find more optimal solution\n",
    "# switch parameter defines how u find neighbour solutions (is it change_vertices or change_edges func)\n",
    "def greedy_search(dist, np_dots, init_random = False, switch=\"change_edges\"):\n",
    "    #specify cycles initialization.\n",
    "    if init_random:\n",
    "        cycles = start_cycle_random()\n",
    "    else:\n",
    "        cycles = starty_cycle_heuristic()\n",
    "    \n",
    "    if switch == \"change_vertices\":\n",
    "        internal_change = change_vertices\n",
    "    elif switch == \"change_edges\":\n",
    "        internal_change = change_edges\n",
    "    else:\n",
    "        print(f\"Unknow mode {switch}. Select change_vertices or change_edges\")\n",
    "        return\n",
    "    \n",
    "    bestDistance = 0\n",
    "    bestDistance += calcDistance(cycles[0], dist) \n",
    "    bestDistance += calcDistance(cycles[1], dist) \n",
    "    print(f\"Initial distance: {bestDistance}\")\n",
    "    \n",
    "    plotPartResult(np_dots, cycles)\n",
    "    \n",
    "    \n",
    "    done = False\n",
    "    while not done:\n",
    "        done = True\n",
    "        for _ in range(10000):\n",
    "            cyclesCopy = copy.deepcopy(cycles)\n",
    "            if random.random() > 0.5:\n",
    "                cycle = 0\n",
    "            else:\n",
    "                cycle = 1\n",
    "\n",
    "            if random.random() > 0.5:\n",
    "                edge1 = random.randint(0, 49)\n",
    "                edge2 = random.randint(edge1, 49)\n",
    "#                 print(edge1, edge2)\n",
    "                internal_change(cyclesCopy[cycle], edge1, edge2)\n",
    "            else:\n",
    "    #             change_vertices()\n",
    "                pass\n",
    "#             plotPartResult(np_dots, cycles)\n",
    "            currentDistance = 0\n",
    "            currentDistance += calcDistance(cyclesCopy[0], dist)\n",
    "            currentDistance += calcDistance(cyclesCopy[1], dist)\n",
    "            if currentDistance < bestDistance:\n",
    "                print(f\"New best distance: {currentDistance}\")\n",
    "                cycles = cyclesCopy\n",
    "                bestDistance = currentDistance\n",
    "                done = False\n",
    "    \n",
    "    plotPartResult(np_dots, cycles)\n",
    "    plt.show()\n",
    "    \n",
    "    "
   ]
  },
  {
   "cell_type": "code",
   "execution_count": 8,
   "metadata": {},
   "outputs": [],
   "source": [
    "# 2nd variable - Find more optimal solution\n",
    "def steep_search(cycleA, cycleB):\n",
    "    raise NotImplementedError"
   ]
  },
  {
   "cell_type": "code",
   "execution_count": 9,
   "metadata": {},
   "outputs": [],
   "source": [
    "# 3rd variable - Generate neighbour solution\n",
    "#changes vertex internally or externaly between cycles\n",
    "def change_vertices():\n",
    "    pass"
   ]
  },
  {
   "cell_type": "code",
   "execution_count": 10,
   "metadata": {},
   "outputs": [],
   "source": [
    "# 3rd variable - Generate neighbour solution\n",
    "#changes edges internally\n",
    "def change_edges(cycle, edge1, edge2):\n",
    "    edge1 += 1\n",
    "    edge2 += 1\n",
    "    cycle[edge1: edge2] = np.flip(cycle[edge1: edge2])\n",
    "    return cycle"
   ]
  },
  {
   "cell_type": "code",
   "execution_count": 46,
   "metadata": {},
   "outputs": [],
   "source": [
    "# algorytm losowego bładzenia który robi losowo wybrany ruch jako punkt odniesienia wzgledem rozwiazan steep search i greedy search\n",
    "def random_wandering(dist, np_dots, duration, init_random = False, switch=\"change_edges\"):\n",
    "    #specify cycles initialization.\n",
    "    if init_random:\n",
    "        cycles = start_cycle_random()\n",
    "    else:\n",
    "        cycles = starty_cycle_heuristic()\n",
    "    \n",
    "    if switch == \"change_vertices\":\n",
    "        internal_change = change_vertices\n",
    "    elif switch == \"change_edges\":\n",
    "        internal_change = change_edges\n",
    "    else:\n",
    "        print(f\"Unknow mode {switch}. Select change_vertices or change_edges\")\n",
    "        return\n",
    "    \n",
    "    bestDistance = 0\n",
    "    bestDistance += calcDistance(cycles[0], dist) \n",
    "    bestDistance += calcDistance(cycles[1], dist) \n",
    "#     print(f\"Initial distance: {bestDistance}\")\n",
    "    \n",
    "#     plotPartResult(np_dots, cycles)\n",
    "    \n",
    "    startTime = time()\n",
    "    done = False\n",
    "    while not done:\n",
    "        done = True\n",
    "        while True:\n",
    "            if random.random() > 0.5:\n",
    "                cycle = 0\n",
    "            else:\n",
    "                cycle = 1\n",
    "\n",
    "            if random.random() > 0.5:\n",
    "                edge1 = random.randint(0, 49)\n",
    "                edge2 = random.randint(edge1, 49)\n",
    "#                 print(edge1, edge2)\n",
    "                internal_change(cycles[cycle], edge1, edge2)\n",
    "            else:\n",
    "    #             change_vertices()\n",
    "                pass\n",
    "#             plotPartResult(np_dots, cycles)\n",
    "#             currentDistance = 0\n",
    "#             currentDistance += calcDistance(cycles[0], dist)\n",
    "#             currentDistance += calcDistance(cycles[1], dist)\n",
    "            if time() - startTime > duration:\n",
    "                break\n",
    "                done = False\n",
    "    \n",
    "#     plotPartResult(np_dots, cycles)\n",
    "#     plt.show()\n",
    "    \n",
    "    currentDistance = 0\n",
    "    currentDistance += calcDistance(cycles[0], dist)\n",
    "    currentDistance += calcDistance(cycles[1], dist)\n",
    "    return currentDistance"
   ]
  },
  {
   "cell_type": "code",
   "execution_count": 47,
   "metadata": {},
   "outputs": [
    {
     "name": "stderr",
     "output_type": "stream",
     "text": [
      "100%|██████████| 100/100 [01:59<00:00,  1.20s/it]"
     ]
    },
    {
     "name": "stdout",
     "output_type": "stream",
     "text": [
      "random_wandering; time:1.1957372832298279, min:100113.35297990218, max:145550.3294451778, mean:120324.36337005021\n"
     ]
    },
    {
     "name": "stderr",
     "output_type": "stream",
     "text": [
      "\n"
     ]
    },
    {
     "data": {
      "image/png": "[encoded data removed]",
      "text/plain": [
       "<Figure size 432x288 with 1 Axes>"
      ]
     },
     "metadata": {
      "needs_background": "light"
     },
     "output_type": "display_data"
    }
   ],
   "source": [
    "#MAIN - tu poskladac wyzej zaimplementowane funkcje w 8 roznych kombinacji algorytmow i sprawdzic ich czasy i wyplotowac skutecznosci\n",
    "\n",
    "timeTable = []\n",
    "distanceTable = []\n",
    "bestDistance = 0\n",
    "for _ in tqdm(range(100)):\n",
    "    startTime = time()\n",
    "    distanceTable.append(random_wandering(dista, np_kroa, 1))\n",
    "    timeTable.append(time() - startTime)\n",
    "print(f\"random_wandering; time:{np.mean(timeTable)}, min:{np.min(distanceTable)}, max:{np.max(distanceTable)}, mean:{np.mean(distanceTable)}\")\n"
   ]
  },
  {
   "cell_type": "code",
   "execution_count": null,
   "metadata": {},
   "outputs": [],
   "source": []
  },
  {
   "cell_type": "code",
   "execution_count": 48,
   "metadata": {},
   "outputs": [
    {
     "ename": "NameError",
     "evalue": "name 'mesh' is not defined",
     "output_type": "error",
     "traceback": [
      "\u001b[0;31m---------------------------------------------------------------------------\u001b[0m",
      "\u001b[0;31mNameError\u001b[0m                                 Traceback (most recent call last)",
      "\u001b[0;32m<ipython-input-48-7c2a5eddfba5>\u001b[0m in \u001b[0;36m<module>\u001b[0;34m\u001b[0m\n\u001b[0;32m----> 1\u001b[0;31m \u001b[0mcombinations\u001b[0m \u001b[0;34m=\u001b[0m \u001b[0mmesh\u001b[0m\u001b[0;34m.\u001b[0m\u001b[0mT\u001b[0m\u001b[0;34m.\u001b[0m\u001b[0mreshape\u001b[0m\u001b[0;34m(\u001b[0m\u001b[0;34m-\u001b[0m\u001b[0;36m1\u001b[0m\u001b[0;34m,\u001b[0m\u001b[0;36m2\u001b[0m\u001b[0;34m)\u001b[0m\u001b[0;34m\u001b[0m\u001b[0;34m\u001b[0m\u001b[0m\n\u001b[0m",
      "\u001b[0;31mNameError\u001b[0m: name 'mesh' is not defined"
     ]
    }
   ],
   "source": [
    "combinations = mesh.T.reshape(-1,2)"
   ]
  },
  {
   "cell_type": "code",
   "execution_count": null,
   "metadata": {},
   "outputs": [],
   "source": []
  },
  {
   "cell_type": "code",
   "execution_count": null,
   "metadata": {},
   "outputs": [],
   "source": []
  },
  {
   "cell_type": "code",
   "execution_count": null,
   "metadata": {},
   "outputs": [],
   "source": []
  },
  {
   "cell_type": "code",
   "execution_count": null,
   "metadata": {},
   "outputs": [],
   "source": []
  },
  {
   "cell_type": "code",
   "execution_count": null,
   "metadata": {},
   "outputs": [],
   "source": []
  }
 ],
 "metadata": {
  "kernelspec": {
   "display_name": "Python 3",
   "language": "python",
   "name": "python3"
  },
  "language_info": {
   "codemirror_mode": {
    "name": "ipython",
    "version": 3
   },
   "file_extension": ".py",
   "mimetype": "text/x-python",
   "name": "python",
   "nbconvert_exporter": "python",
   "pygments_lexer": "ipython3",
   "version": "3.6.9"
  }
 },
 "nbformat": 4,
 "nbformat_minor": 2
}
