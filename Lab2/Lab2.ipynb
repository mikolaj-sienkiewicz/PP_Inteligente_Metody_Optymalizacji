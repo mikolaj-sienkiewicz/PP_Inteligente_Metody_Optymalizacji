{
 "cells": [
  {
   "cell_type": "code",
   "execution_count": 75,
   "metadata": {},
   "outputs": [],
   "source": [
    "#imports\n",
    "from scipy.spatial import distance_matrix\n",
    "from random import randrange\n",
    "import copy\n",
    "import matplotlib.pyplot as plt\n",
    "import imageio\n",
    "import imageio\n",
    "import random\n",
    "from time import time\n",
    "from tqdm import tqdm"
   ]
  },
  {
   "cell_type": "code",
   "execution_count": 76,
   "metadata": {},
   "outputs": [],
   "source": [
    "#loading datasets \n",
    "import numpy as np\n",
    "kroa={}\n",
    "krob={}\n",
    "np_kroa=[]\n",
    "np_krob=[]\n",
    "with open('kroa100.txt') as f:\n",
    "    lines = f.readlines()\n",
    "    for line in lines[6:-1]:\n",
    "        x=list(map(int,line.strip().split(' ')))\n",
    "        #print(x)\n",
    "        kroa[x[0]]=(x[1],x[2])\n",
    "        np_kroa.append((x[1],x[2]))\n",
    "np_kroa=np.array(np_kroa)\n",
    "with open('krob100.txt') as f:\n",
    "    lines = f.readlines()\n",
    "    for line in lines[6:-1]:\n",
    "        x=list(map(int,line.strip().split(' ')))\n",
    "        #print(x)\n",
    "        krob[x[0]]=(x[1],x[2])\n",
    "        np_krob.append((x[1],x[2]))\n",
    "\n",
    "np_kroa=np.array(np_kroa)\n",
    "np_krob=np.array(np_krob)\n",
    "\n",
    "#calculating distance matrix - https://docs.scipy.org/doc/scipy/reference/generated/scipy.spatial.distance_matrix.html\n",
    "dista=distance_matrix(np_kroa,np_kroa)\n",
    "distb=distance_matrix(np_krob,np_krob)"
   ]
  },
  {
   "cell_type": "code",
   "execution_count": 77,
   "metadata": {},
   "outputs": [],
   "source": [
    "#plotting functions\n",
    "def plotResult(np_dots, cycles):\n",
    "    plt.plot(np_dots[:,0][cycles[0][0]], np_dots[:,1][cycles[0][0]], \"o\", markersize=12)\n",
    "    plt.plot(np_dots[:,0][cycles[1][0]], np_dots[:,1][cycles[1][0]], \"o\", markersize=12)\n",
    "    plt.plot(np_dots[:,0][cycles[0]], np_dots[:,1][cycles[0]], \"->\")\n",
    "    plt.plot(np_dots[:,0][cycles[1]], np_dots[:,1][cycles[1]], \"->\")\n",
    "    plt.show()\n",
    "    \n",
    "def plotPartResult(np_dots, cycles,i):\n",
    "    plt.plot(np_dots[:,0][cycles[0][0]], np_dots[:,1][cycles[0][0]], \"o\", markersize=12)\n",
    "    plt.plot(np_dots[:,0][cycles[1][0]], np_dots[:,1][cycles[1][0]], \"o\", markersize=12)\n",
    "    plt.plot(np_dots[:,0][cycles[0]], np_dots[:,1][cycles[0]], \"->\")\n",
    "    plt.plot(np_dots[:,0][cycles[1]], np_dots[:,1][cycles[1]], \"->\")\n",
    "    plt.plot(np_dots[:,0], np_dots[:,1], \".\")\n",
    "    plt.savefig(f'plots/{i}.png')\n",
    "    plt.show()    \n",
    "def calcDistance(currentCycle, dist):\n",
    "    distance = 0\n",
    "    for x,y in zip(currentCycle, [*currentCycle[1:], currentCycle[0]]):\n",
    "        distance += dist[x][y]\n",
    "    return distance "
   ]
  },
  {
   "cell_type": "code",
   "execution_count": 78,
   "metadata": {},
   "outputs": [],
   "source": [
    "# 1st variable - Start cycle - with random assignments\n",
    "def start_cycle_random(dataset_choice=\"kroa\"):\n",
    "#     if dataset_choice==\"kroa\":\n",
    "#         dataset=np_kroa\n",
    "#         dic=kroa\n",
    "#         dist=copy.deepcopy(dista)\n",
    "#         dist_stable=copy.deepcopy(dista)\n",
    "#     else:\n",
    "#         dataset=np_krob\n",
    "#         dic=krob\n",
    "#         dist=copy.deepcopy(distb)\n",
    "#         dist_stable=copy.deepcopy(distb)\n",
    "#     candidates=np.arange(0,100,1)\n",
    "#     #print(candidates)\n",
    "    cycles={}\n",
    "#     cycles[0]=[randrange(100)]\n",
    "#     print(len(candidates))\n",
    "#     candidates=np.delete(candidates, cycles[0][0])\n",
    "#     cycles[1]=[(np.argsort(dist[cycles[0][0]])[-2])]\n",
    "#     print(cycles[1],len(candidates))\n",
    "#     candidates=np.delete(candidates, cycles[1][0])\n",
    "#     chosenCycle=1\n",
    "#     for i in range(0,98):\n",
    "#         chosenCycle = int((chosenCycle + 1)%2)\n",
    "#         chosenElementIndex = np.random.randint(len(candidates))\n",
    "#         #print(chosenElementIndex,len(candidates),candidates[chosenElementIndex])\n",
    "#         #cycles[chosenCycle]=np.insert(cycles[chosenCycle],candidates[chosenElementIndex])\n",
    "#         cycles[chosenCycle]=np.concatenate((cycles[chosenCycle], [candidates[chosenElementIndex]]), axis=0)\n",
    "#         candidates=np.delete(candidates, chosenElementIndex)\n",
    "    cycles[0]=np.random.choice(100,50,replace=False)\n",
    "    cycles[1]=np.array([i for i in np.arange(0,100,1) if i not in cycles[0]])\n",
    "    np.random.shuffle(cycles[1])\n",
    "    return cycles\n"
   ]
  },
  {
   "cell_type": "code",
   "execution_count": 79,
   "metadata": {},
   "outputs": [],
   "source": [
    "# 1st variable - Start cycle - with nearest neighbour method\n",
    "def start_cycle_heuristic(dataset_choice=\"kroa\"):\n",
    "    results=[]\n",
    "    min_result=np.inf\n",
    "    max_result=0\n",
    "    if dataset_choice==\"kroa\":\n",
    "        dataset=np_kroa\n",
    "        dic=kroa\n",
    "        dist=copy.deepcopy(dista)\n",
    "        dist_stable=copy.deepcopy(dista)\n",
    "    else:\n",
    "        dataset=np_krob\n",
    "        dic=krob\n",
    "        dist=copy.deepcopy(distb)\n",
    "        dist_stable=copy.deepcopy(distb)\n",
    "\n",
    "\n",
    "    #zmiana dystansu przekątnej na nieskonczonosc\n",
    "    np.fill_diagonal(dist, np.inf)\n",
    "\n",
    "    cycles={}\n",
    "    cycles[0]=[randrange(100)]\n",
    "    cycles[1]=[(np.argsort(dist[cycles[0][0]])[-2])]\n",
    "\n",
    "    for b in range(2):\n",
    "        dist[:,int(cycles[b][0])]=np.inf\n",
    "\n",
    "    chosenCycle=1\n",
    "    for i in range(0,98):\n",
    "        chosenCycle = int((chosenCycle + 1)%2)\n",
    "        candidates=[]\n",
    "        for z,index in enumerate(cycles[chosenCycle]):\n",
    "            candidates.append((np.argmin(dist[index]),np.min(dist[index]),z))\n",
    "        candidates=np.array(candidates)\n",
    "        x=np.argmin(candidates[:,1])\n",
    "        cycles[chosenCycle]=np.insert(cycles[chosenCycle],int(candidates[x,2]),int(candidates[x,0]))\n",
    "        dist[:,int(candidates[x,0])]=np.inf\n",
    "    \n",
    "    #print(f\"cycle[0]: {calcDistance(cycles[0], dist_stable)}\")\n",
    "    #print(f\"cycle[1]: {calcDistance(cycles[1], dist_stable)}\")\n",
    "    \n",
    "    #SAVING RESULTS \n",
    "    results.append(calcDistance(cycles[0],dist_stable)+calcDistance(cycles[1],dist_stable))\n",
    "    if results[-1]>max_result:\n",
    "        max_result=results[-1]\n",
    "    if results[-1]<min_result:\n",
    "        min_result=results[-1]\n",
    "#         plt.clf()\n",
    "#         plt.plot(dataset[:,0][cycles[0][0]], dataset[:,1][cycles[0][0]], \"o\", markersize=12)\n",
    "#         plt.plot(dataset[:,0][cycles[1][0]], dataset[:,1][cycles[1][0]], \"o\", markersize=12)\n",
    "#         plt.plot(dataset[:,0][cycles[0]], dataset[:,1][cycles[0]], \"->\")\n",
    "#         plt.plot(dataset[:,0][cycles[1]], dataset[:,1][cycles[1]], \"->\")\n",
    "#         plt.savefig(f'best_NN_{dataset_choice}.png')\n",
    "    return cycles"
   ]
  },
  {
   "cell_type": "code",
   "execution_count": 80,
   "metadata": {},
   "outputs": [],
   "source": [
    "# 2nd variable - Find more optimal solution\n",
    "# switch parameter defines how u find neighbour solutions (is it change_vertices or change_edges func)\n",
    "def greedy_search(dist, np_dots, init_random = False, switch=\"change_edges\"):\n",
    "    #specify cycles initialization.\n",
    "    if init_random:\n",
    "        cycles = start_cycle_random()\n",
    "    else:\n",
    "        cycles = start_cycle_heuristic()\n",
    "        \n",
    "    #print(cycles)\n",
    "    \n",
    "    if switch == \"change_vertices\":\n",
    "        internal_change = change_vertices\n",
    "    elif switch == \"change_edges\":\n",
    "        internal_change = change_edges\n",
    "    else:\n",
    "        print(f\"Unknow mode {switch}. Select change_vertices or change_edges\")\n",
    "        return\n",
    "    \n",
    "    \n",
    "    \n",
    "    bestDistance = 0\n",
    "    bestDistance += calcDistance(cycles[0], dist) \n",
    "    bestDistance += calcDistance(cycles[1], dist) \n",
    "    #print(f\"Initial distance: {bestDistance}\")\n",
    "    \n",
    "    #plotPartResult(np_dots, cycles)\n",
    "    \n",
    "    \n",
    "    done = False\n",
    "    while not done:\n",
    "        done = True\n",
    "        #-------------calculating possible moves\n",
    "        possible_moves = []\n",
    "        \n",
    "        mesh = np.array(np.meshgrid(cycles[0], cycles[1]))\n",
    "        combinations = mesh.T.reshape(-1, 2)\n",
    "        for x in combinations:\n",
    "            possible_moves.append([\"external\", x])\n",
    "\n",
    "        mesh = np.array(np.meshgrid(cycles[0], cycles[0]))\n",
    "        mesh = np.concatenate((mesh,np.array(np.meshgrid(cycles[1], cycles[1]))),axis=0)\n",
    "        combinations = mesh.T.reshape(-1, 2)\n",
    "        for x in combinations:\n",
    "            possible_moves.append([\"internal\", x])\n",
    "        \n",
    "        possible_moves = np.array(possible_moves)\n",
    "        i = np.random.choice(range(len(possible_moves)),len(possible_moves),replace=False)\n",
    "        possible_moves = possible_moves[i]\n",
    "        \n",
    "\n",
    "        for move, edges in possible_moves:\n",
    "#             print(move, edges)\n",
    "            cyclesCopy = copy.deepcopy(cycles)\n",
    "            edge1 = edges[0]\n",
    "            edge2 = edges[1]\n",
    "            \n",
    "#             print(edge1, edge2)\n",
    "            if move == \"internal\":\n",
    "                cyclesCopy = internal_change(cyclesCopy, edge1, edge2, internally=True)\n",
    "            else:\n",
    "                cyclesCopy = change_vertices(cyclesCopy, edge1, edge2, False)\n",
    "#             plotPartResult(np_dots, cycles)\n",
    "            currentDistance = 0\n",
    "            currentDistance += calcDistance(cyclesCopy[0], dist)\n",
    "            currentDistance += calcDistance(cyclesCopy[1], dist)\n",
    "            if currentDistance < bestDistance:\n",
    "                #print(f\"New best distance: {currentDistance}, changed {edge1} with {edge2} on {move}\")\n",
    "                cycles = cyclesCopy\n",
    "                bestDistance = currentDistance\n",
    "                done = False\n",
    "                break\n",
    "    \n",
    "#     plotPartResult(np_dots, cycles)\n",
    "#     plt.show()\n",
    "    return cycles, bestDistance\n",
    "    "
   ]
  },
  {
   "cell_type": "code",
   "execution_count": 81,
   "metadata": {},
   "outputs": [],
   "source": [
    "# 2nd variable - Find more optimal solution\n",
    "def steep_search(dist, np_dots, init_random = False, switch=\"change_vertices\"):\n",
    "    #specify cycles initialization.\n",
    "    if init_random:\n",
    "        cycles = start_cycle_random()\n",
    "    else:\n",
    "        cycles = start_cycle_heuristic()\n",
    "    \n",
    "    if switch == \"change_vertices\":\n",
    "        internal_change = change_vertices\n",
    "    elif switch == \"change_edges\":\n",
    "        internal_change = change_edges\n",
    "    \n",
    "    bestDistance = 0\n",
    "    bestDistance += calcDistance(cycles[0], dist) \n",
    "    bestDistance += calcDistance(cycles[1], dist) \n",
    "    #print(\"START\",bestDistance)\n",
    "#     plotResult(np_dots, cycles)\n",
    "    finish=False\n",
    "    \n",
    "    \n",
    "    \n",
    "    while not finish:\n",
    "        \n",
    "        #-------------calculating possible moves\n",
    "        mesh = np.array(np.meshgrid(cycles[0], cycles[1]))\n",
    "        combinations = mesh.T.reshape(-1, 2)\n",
    "        #print(combinations)\n",
    "        possible_moves={'external': [combinations]}\n",
    "        #print(\"AAA\",cycles,possible_moves)\n",
    "        #print(possible_moves)\n",
    "        \n",
    "        mesh = np.array(np.meshgrid(cycles[0], cycles[0]))\n",
    "        mesh = np.concatenate((mesh,np.array(np.meshgrid(cycles[1], cycles[1]))),axis=0)\n",
    "        combinations = mesh.T.reshape(-1, 2)\n",
    "        possible_moves['internal']=[combinations]\n",
    "\n",
    "        #-------------------finished calculating possible moves\n",
    "        \n",
    "        currentbestDist=bestDistance\n",
    "        finish=True\n",
    "        for k,v in possible_moves.items():\n",
    "            for value in v[0]:\n",
    "                new_cycles=copy.deepcopy(cycles)\n",
    "                #print(\"BBBBB\",value)\n",
    "                #print(\"AAA\",value)\n",
    "                if k==\"internal\":# and switch==\"change_vertices\":\n",
    "                    #print(\"HAHA\",cycles,value[0],value[1])\n",
    "                    #print(value[0],value[1])\n",
    "                    new_cycles=internal_change(new_cycles,value[0],value[1],True)\n",
    "#                 elif k==\"internal\" and switch==\"edges\":\n",
    "#                     pass\n",
    "#                     new_cycles=change_edges(\"DO UZUPELNIENIA\")\n",
    "                elif k==\"external\":\n",
    "                    #print(value[0],value[1])\n",
    "                    #print(cycles)\n",
    "                    new_cycles=change_vertices(new_cycles,value[0],value[1],False)\n",
    "                currentDist=calcDistance(new_cycles[0], dist) \n",
    "                currentDist+=calcDistance(new_cycles[1], dist)\n",
    "                if currentbestDist>currentDist:\n",
    "                    supercycles=copy.deepcopy(new_cycles)\n",
    "                    currentbestDist=currentDist\n",
    "        if bestDistance!=currentbestDist:       \n",
    "            cycles=copy.deepcopy(supercycles)\n",
    "            bestDistance=currentbestDist\n",
    "            finish=False\n",
    "#     plotResult(np_dots, cycles)\n",
    "    return cycles,bestDistance\n",
    "    \n",
    "    \n"
   ]
  },
  {
   "cell_type": "code",
   "execution_count": 82,
   "metadata": {},
   "outputs": [],
   "source": [
    "#steep_search(dista,np_kroa,switch=\"change_edges\")"
   ]
  },
  {
   "cell_type": "code",
   "execution_count": 83,
   "metadata": {},
   "outputs": [],
   "source": [
    "# 3rd variable - Generate neighbour solution\n",
    "#changes vertex internally or externaly between cycles\n",
    "def change_vertices(cycles, a, b, internally=True):\n",
    "    if internally:\n",
    "#         print(len(np.where(cycles[0] == a)))\n",
    "#         print(np.where(cycles[0] == a))\n",
    "        cI= 0 if len(np.where(cycles[0] == a)[0])!=0 else 1 \n",
    "        inA=np.where(cycles[cI] == a)[0][0]\n",
    "        inB=np.where(cycles[cI] == b)[0][0]\n",
    "        tmp=cycles[cI][inA]\n",
    "        cycles[cI][inA]=b\n",
    "        cycles[cI][inB]=tmp\n",
    "        #print(cycles[0][inB], cycles[0][inA])\n",
    "    else:\n",
    "        cI= 0 if len(np.where(cycles[0] == a)[0])!=0 else 1 \n",
    "        cI2 = 1-cI\n",
    "        inA=np.where(cycles[cI] == a)[0][0]\n",
    "        inB=np.where(cycles[cI2] == b)[0][0]\n",
    "        tmp=cycles[cI][inA]\n",
    "        cycles[cI][inA]=b\n",
    "        cycles[cI2][inB]=tmp\n",
    "        #pass\n",
    "    #print(cycles)\n",
    "    return cycles\n",
    "    #if aIndex in cycles[0]\n",
    "    #raise NotImplementedError"
   ]
  },
  {
   "cell_type": "code",
   "execution_count": 84,
   "metadata": {},
   "outputs": [],
   "source": [
    "# 3rd variable - Generate neighbour solution\n",
    "#changes edges internally\n",
    "def change_edges(cycles, edge1, edge2, internally=False): # dummy internally\n",
    "    cI= 0 if len(np.where(cycles[0] == edge1)[0])!=0 else 1 \n",
    "#     print(cycles[cI])\n",
    "    inA=np.where(cycles[cI] == edge1)[0][0]\n",
    "    inB=np.where(cycles[cI] == edge2)[0][0]\n",
    "    inA += 1\n",
    "    inB += 1\n",
    "    cycle = cycles[cI]\n",
    "    cycle[inA: inB] = np.flip(cycle[inA: inB])\n",
    "    return cycles"
   ]
  },
  {
   "cell_type": "code",
   "execution_count": 85,
   "metadata": {},
   "outputs": [],
   "source": [
    "# algorytm losowego bładzenia który robi losowo wybrany ruch jako punkt odniesienia wzgledem rozwiazan steep search i greedy search\n",
    "def random_wandering(dist, np_dots, duration, init_random = False, switch=\"change_edges\"):\n",
    "    #specify cycles initialization.\n",
    "    if init_random:\n",
    "        cycles = start_cycle_random()\n",
    "    else:\n",
    "        cycles = start_cycle_heuristic()\n",
    "    \n",
    "    if switch == \"change_vertices\":\n",
    "        internal_change = change_vertices\n",
    "    elif switch == \"change_edges\":\n",
    "        internal_change = change_edges\n",
    "    else:\n",
    "        print(f\"Unknow mode {switch}. Select change_vertices or change_edges\")\n",
    "        return\n",
    "    \n",
    "    bestDistance = 0\n",
    "    bestDistance += calcDistance(cycles[0], dist) \n",
    "    bestDistance += calcDistance(cycles[1], dist) \n",
    "#     print(f\"Initial distance: {bestDistance}\")\n",
    "    \n",
    "#     plotPartResult(np_dots, cycles)\n",
    "    \n",
    "    startTime = time()\n",
    "    done = False\n",
    "    while not done:\n",
    "        done = True\n",
    "        while True:\n",
    "            if random.random() > 0.5:\n",
    "                cycle = 0\n",
    "            else:\n",
    "                cycle = 1\n",
    "\n",
    "            if random.random() > 0.5:\n",
    "                edge1 = random.randint(0, 49)\n",
    "                edge2 = random.randint(edge1, 49)\n",
    "#                 print(edge1, edge2)\n",
    "                internal_change(cycles[cycle], edge1, edge2)\n",
    "            else:\n",
    "    #             change_vertices()\n",
    "                pass\n",
    "#             plotPartResult(np_dots, cycles)\n",
    "#             currentDistance = 0\n",
    "#             currentDistance += calcDistance(cycles[0], dist)\n",
    "#             currentDistance += calcDistance(cycles[1], dist)\n",
    "            if time() - startTime > duration:\n",
    "                break\n",
    "                done = False\n",
    "    \n",
    "#     plotPartResult(np_dots, cycles)\n",
    "#     plt.show()\n",
    "    \n",
    "    currentDistance = 0\n",
    "    currentDistance += calcDistance(cycles[0], dist)\n",
    "    currentDistance += calcDistance(cycles[1], dist)\n",
    "    return currentDistance"
   ]
  },
  {
   "cell_type": "code",
   "execution_count": 91,
   "metadata": {},
   "outputs": [],
   "source": [
    "N = 30"
   ]
  },
  {
   "cell_type": "code",
   "execution_count": 92,
   "metadata": {},
   "outputs": [
    {
     "name": "stderr",
     "output_type": "stream",
     "text": [
      "  0%|          | 0/100 [00:00<?, ?it/s]/usr/lib/python3/dist-packages/ipykernel_launcher.py:47: VisibleDeprecationWarning: Creating an ndarray from ragged nested sequences (which is a list-or-tuple of lists-or-tuples-or ndarrays with different lengths or shapes) is deprecated. If you meant to do this, you must specify 'dtype=object' when creating the ndarray\n",
      "100%|██████████| 100/100 [07:08<00:00,  4.28s/it]\n",
      "  0%|          | 0/100 [00:00<?, ?it/s]"
     ]
    },
    {
     "name": "stdout",
     "output_type": "stream",
     "text": [
      "Search- greedy_search Switch- change_edges Init_random- False Dataset- kroa; time_mean:4.280768418312073,  time_min:2.9263081550598145, time_max:7.55279278755188, min:22590.84479978217, max:29250.112967066358, mean:26460.73137746261\n"
     ]
    },
    {
     "name": "stderr",
     "output_type": "stream",
     "text": [
      "100%|██████████| 100/100 [34:24<00:00, 20.64s/it]\n",
      "  0%|          | 0/100 [00:00<?, ?it/s]/usr/lib/python3/dist-packages/ipykernel_launcher.py:47: VisibleDeprecationWarning: Creating an ndarray from ragged nested sequences (which is a list-or-tuple of lists-or-tuples-or ndarrays with different lengths or shapes) is deprecated. If you meant to do this, you must specify 'dtype=object' when creating the ndarray\n"
     ]
    },
    {
     "name": "stdout",
     "output_type": "stream",
     "text": [
      "Search- steep_search Switch- change_edges Init_random- False Dataset- kroa; time_mean:20.639808895587922,  time_min:14.689888715744019, time_max:34.027122497558594, min:23363.541242445208, max:28653.707607888486, mean:26130.944036348534\n"
     ]
    },
    {
     "name": "stderr",
     "output_type": "stream",
     "text": [
      "100%|██████████| 100/100 [04:02<00:00,  2.43s/it]\n",
      "  0%|          | 0/100 [00:00<?, ?it/s]"
     ]
    },
    {
     "name": "stdout",
     "output_type": "stream",
     "text": [
      "Search- greedy_search Switch- change_vertices Init_random- False Dataset- kroa; time_mean:2.424618058204651,  time_min:1.2386586666107178, time_max:5.804328680038452, min:25429.114907937415, max:32908.17981942334, mean:29738.161267438933\n"
     ]
    },
    {
     "name": "stderr",
     "output_type": "stream",
     "text": [
      "100%|██████████| 100/100 [23:08<00:00, 13.89s/it]\n",
      "  0%|          | 0/100 [00:00<?, ?it/s]/usr/lib/python3/dist-packages/ipykernel_launcher.py:47: VisibleDeprecationWarning: Creating an ndarray from ragged nested sequences (which is a list-or-tuple of lists-or-tuples-or ndarrays with different lengths or shapes) is deprecated. If you meant to do this, you must specify 'dtype=object' when creating the ndarray\n"
     ]
    },
    {
     "name": "stdout",
     "output_type": "stream",
     "text": [
      "Search- steep_search Switch- change_vertices Init_random- False Dataset- kroa; time_mean:13.885281643867494,  time_min:7.911967515945435, time_max:21.480985641479492, min:25102.350198047905, max:32582.559107815672, mean:29186.917343024747\n"
     ]
    },
    {
     "name": "stderr",
     "output_type": "stream",
     "text": [
      "100%|██████████| 100/100 [18:31<00:00, 11.11s/it]\n",
      "  0%|          | 0/100 [00:00<?, ?it/s]"
     ]
    },
    {
     "name": "stdout",
     "output_type": "stream",
     "text": [
      "Search- greedy_search Switch- change_edges Init_random- True Dataset- kroa; time_mean:11.111941540241242,  time_min:5.888412714004517, time_max:24.354299783706665, min:25757.86553515475, max:30745.281431593387, mean:27832.975740462876\n"
     ]
    },
    {
     "name": "stderr",
     "output_type": "stream",
     "text": [
      "100%|██████████| 100/100 [2:11:38<00:00, 78.98s/it] \n",
      "  0%|          | 0/100 [00:00<?, ?it/s]/usr/lib/python3/dist-packages/ipykernel_launcher.py:47: VisibleDeprecationWarning: Creating an ndarray from ragged nested sequences (which is a list-or-tuple of lists-or-tuples-or ndarrays with different lengths or shapes) is deprecated. If you meant to do this, you must specify 'dtype=object' when creating the ndarray\n"
     ]
    },
    {
     "name": "stdout",
     "output_type": "stream",
     "text": [
      "Search- steep_search Switch- change_edges Init_random- True Dataset- kroa; time_mean:78.98120940208435,  time_min:55.42431378364563, time_max:101.35856938362122, min:25412.14911209126, max:30980.027917750987, mean:27927.438650368524\n"
     ]
    },
    {
     "name": "stderr",
     "output_type": "stream",
     "text": [
      "100%|██████████| 100/100 [18:36<00:00, 11.17s/it]\n",
      "  0%|          | 0/100 [00:00<?, ?it/s]"
     ]
    },
    {
     "name": "stdout",
     "output_type": "stream",
     "text": [
      "Search- greedy_search Switch- change_vertices Init_random- True Dataset- kroa; time_mean:11.164401462078095,  time_min:6.65256667137146, time_max:20.421974420547485, min:32117.09695116987, max:54106.07270138266, mean:41186.07068856743\n"
     ]
    },
    {
     "name": "stderr",
     "output_type": "stream",
     "text": [
      "100%|██████████| 100/100 [2:15:34<00:00, 81.35s/it] \n",
      "  0%|          | 0/100 [00:00<?, ?it/s]/usr/lib/python3/dist-packages/ipykernel_launcher.py:47: VisibleDeprecationWarning: Creating an ndarray from ragged nested sequences (which is a list-or-tuple of lists-or-tuples-or ndarrays with different lengths or shapes) is deprecated. If you meant to do this, you must specify 'dtype=object' when creating the ndarray\n"
     ]
    },
    {
     "name": "stdout",
     "output_type": "stream",
     "text": [
      "Search- steep_search Switch- change_vertices Init_random- True Dataset- kroa; time_mean:81.34675744056702,  time_min:59.176809549331665, time_max:119.87658643722534, min:31692.889961049776, max:53839.05324538179, mean:42006.171417919446\n"
     ]
    },
    {
     "name": "stderr",
     "output_type": "stream",
     "text": [
      "100%|██████████| 100/100 [16:21<00:00,  9.82s/it]\n",
      "  0%|          | 0/100 [00:00<?, ?it/s]"
     ]
    },
    {
     "name": "stdout",
     "output_type": "stream",
     "text": [
      "Search- greedy_search Switch- change_edges Init_random- False Dataset- krob; time_mean:9.817365472316743,  time_min:6.901214599609375, time_max:17.38796615600586, min:26469.27535176387, max:31221.44446398176, mean:28694.80210771059\n"
     ]
    },
    {
     "name": "stderr",
     "output_type": "stream",
     "text": [
      "100%|██████████| 100/100 [2:07:31<00:00, 76.51s/it] \n",
      "  0%|          | 0/100 [00:00<?, ?it/s]"
     ]
    },
    {
     "name": "stdout",
     "output_type": "stream",
     "text": [
      "Search- steep_search Switch- change_edges Init_random- False Dataset- krob; time_mean:76.51173939943314,  time_min:54.5276997089386, time_max:107.07022166252136, min:25876.007048396947, max:29983.523543183404, mean:28340.944838349806\n"
     ]
    },
    {
     "name": "stderr",
     "output_type": "stream",
     "text": [
      "/usr/lib/python3/dist-packages/ipykernel_launcher.py:47: VisibleDeprecationWarning: Creating an ndarray from ragged nested sequences (which is a list-or-tuple of lists-or-tuples-or ndarrays with different lengths or shapes) is deprecated. If you meant to do this, you must specify 'dtype=object' when creating the ndarray\n",
      "100%|██████████| 100/100 [18:46<00:00, 11.27s/it]\n"
     ]
    },
    {
     "name": "stdout",
     "output_type": "stream",
     "text": [
      "Search- greedy_search Switch- change_vertices Init_random- False Dataset- krob; time_mean:11.266887738704682,  time_min:6.852602243423462, time_max:22.00816249847412, min:33127.07660103998, max:49132.21349158842, mean:41322.23993866614\n"
     ]
    },
    {
     "name": "stderr",
     "output_type": "stream",
     "text": [
      "100%|██████████| 100/100 [2:10:09<00:00, 78.09s/it] \n",
      "  0%|          | 0/100 [00:00<?, ?it/s]/usr/lib/python3/dist-packages/ipykernel_launcher.py:47: VisibleDeprecationWarning: Creating an ndarray from ragged nested sequences (which is a list-or-tuple of lists-or-tuples-or ndarrays with different lengths or shapes) is deprecated. If you meant to do this, you must specify 'dtype=object' when creating the ndarray\n"
     ]
    },
    {
     "name": "stdout",
     "output_type": "stream",
     "text": [
      "Search- steep_search Switch- change_vertices Init_random- False Dataset- krob; time_mean:78.09395537853241,  time_min:55.18137574195862, time_max:109.87416434288025, min:32666.80751616191, max:51554.82485180922, mean:41858.66745576601\n"
     ]
    },
    {
     "name": "stderr",
     "output_type": "stream",
     "text": [
      "100%|██████████| 100/100 [14:48<00:00,  8.88s/it]\n",
      "  0%|          | 0/100 [00:00<?, ?it/s]"
     ]
    },
    {
     "name": "stdout",
     "output_type": "stream",
     "text": [
      "Search- greedy_search Switch- change_edges Init_random- True Dataset- krob; time_mean:8.883990857601166,  time_min:6.682201623916626, time_max:14.618911981582642, min:25761.112154716735, max:30429.218803648437, mean:28490.491630682733\n"
     ]
    },
    {
     "name": "stderr",
     "output_type": "stream",
     "text": [
      "100%|██████████| 100/100 [1:56:46<00:00, 70.07s/it]\n",
      "  0%|          | 0/100 [00:00<?, ?it/s]/usr/lib/python3/dist-packages/ipykernel_launcher.py:47: VisibleDeprecationWarning: Creating an ndarray from ragged nested sequences (which is a list-or-tuple of lists-or-tuples-or ndarrays with different lengths or shapes) is deprecated. If you meant to do this, you must specify 'dtype=object' when creating the ndarray\n"
     ]
    },
    {
     "name": "stdout",
     "output_type": "stream",
     "text": [
      "Search- steep_search Switch- change_edges Init_random- True Dataset- krob; time_mean:70.0664570403099,  time_min:55.97969031333923, time_max:81.78015565872192, min:24917.48903478492, max:31000.15777861535, mean:28500.255718135486\n"
     ]
    },
    {
     "name": "stderr",
     "output_type": "stream",
     "text": [
      "100%|██████████| 100/100 [15:12<00:00,  9.13s/it]\n",
      "  0%|          | 0/100 [00:00<?, ?it/s]"
     ]
    },
    {
     "name": "stdout",
     "output_type": "stream",
     "text": [
      "Search- greedy_search Switch- change_vertices Init_random- True Dataset- krob; time_mean:9.129090530872345,  time_min:6.189558982849121, time_max:16.844975233078003, min:34434.457491729016, max:52149.95525596032, mean:41247.14636776042\n"
     ]
    },
    {
     "name": "stderr",
     "output_type": "stream",
     "text": [
      "100%|██████████| 100/100 [2:11:13<00:00, 78.73s/it] \n"
     ]
    },
    {
     "name": "stdout",
     "output_type": "stream",
     "text": [
      "Search- steep_search Switch- change_vertices Init_random- True Dataset- krob; time_mean:78.73284432411194,  time_min:61.86693859100342, time_max:109.3830394744873, min:36098.371998571456, max:55849.41008580506, mean:43534.74556160026\n"
     ]
    },
    {
     "data": {
      "image/png": "[encoded data removed]",
      "text/plain": [
       "<Figure size 432x288 with 1 Axes>"
      ]
     },
     "metadata": {},
     "output_type": "display_data"
    }
   ],
   "source": [
    "#MAIN - tu poskladac wyzej zaimplementowane funkcje w 8 roznych kombinacji algorytmow i sprawdzic ich czasy i wyplotowac skutecznosci\n",
    "\n",
    "dataset_choice = \"kroa\"\n",
    "init_random = False\n",
    "switch = \"change_edges\"\n",
    "search = greedy_search\n",
    "\n",
    "\n",
    "for dataset_choice in ['kroa', 'krob']:\n",
    "    if dataset_choice==\"kroa\":\n",
    "        dataset=np_kroa\n",
    "        dist=copy.deepcopy(dista)\n",
    "    else:\n",
    "        dataset=np_krob\n",
    "        dist=copy.deepcopy(distb)\n",
    "        \n",
    "    for init_random in [False, True]:\n",
    "        for switch in [\"change_edges\", \"change_vertices\"]:\n",
    "            for search in [greedy_search, steep_search]:\n",
    "                timeTable = []\n",
    "                distanceTable = []\n",
    "                cyclesTable = []\n",
    "                bestDistance = 0\n",
    "                for _ in tqdm(range(N)):\n",
    "                    startTime = time()\n",
    "                    cycles, bestDistance = search(dist, dataset, init_random = init_random, switch=switch)\n",
    "                    distanceTable.append(bestDistance)\n",
    "                    cyclesTable.append(cycles)\n",
    "                    timeTable.append(time() - startTime)\n",
    "                print(f\"Search- {search.__name__} Switch- {switch} Init_random- {init_random} Dataset- {dataset_choice}; time_mean:{np.mean(timeTable)},  time_min:{np.min(timeTable)}, time_max:{np.max(timeTable)}, min:{np.min(distanceTable)}, max:{np.max(distanceTable)}, mean:{np.mean(distanceTable)}\")\n",
    "\n",
    "\n",
    "                plt.clf()\n",
    "                plt.plot(dataset[:,0][cycles[0][0]], dataset[:,1][cycles[0][0]], \"o\", markersize=12)\n",
    "                plt.plot(dataset[:,0][cycles[1][0]], dataset[:,1][cycles[1][0]], \"o\", markersize=12)                \n",
    "                plt.plot(dataset[:,0][[*cycles[0],cycles[0][0]]], dataset[:,1][[*cycles[0],cycles[0][0]]], \"->\")\n",
    "                plt.plot(dataset[:,0][[*cycles[1],cycles[1][1]]], dataset[:,1][[*cycles[1],cycles[1][1]]], \"->\")\n",
    "                \n",
    "                plt.savefig(f'best_NN_{search.__name__}_random{init_random}_{switch}_{dataset_choice}.png')\n"
   ]
  },
  {
   "cell_type": "code",
   "execution_count": null,
   "metadata": {},
   "outputs": [],
   "source": [
    "Search- steep_sea\n",
    "#Search- greedy_search Switch- change_edges Init_random- False Dataset- kroa; time_mean:4.280768418312073,  time_min:2.9263081550598145, time_max:7.55279278755188, min:22590.84479978217, max:29250.112967066358, mean:26460.73137746261\n",
    "#Search- steep_search Switch- change_edges Init_random- False Dataset- kroa; time_mean:20.639808895587922,  time_min:14.689888715744019, time_max:34.027122497558594, min:23363.541242445208, max:28653.707607888486, mean:26130.944036348534\n",
    "#Search- greedy_search Switch- change_vertices Init_random- False Dataset- kroa; time_mean:2.424618058204651,  time_min:1.2386586666107178, time_max:5.804328680038452, min:25429.114907937415, max:32908.17981942334, mean:29738.161267438933\n",
    "#Search- steep_search Switch- change_vertices Init_random- False Dataset- kroa; time_mean:13.885281643867494,  time_min:7.911967515945435, time_max:21.480985641479492, min:25102.350198047905, max:32582.559107815672, mean:29186.917343024747\n",
    "#Search- greedy_search Switch- change_edges Init_random- True Dataset- kroa; time_mean:11.111941540241242,  time_min:5.888412714004517, time_max:24.354299783706665, min:25757.86553515475, max:30745.281431593387, mean:27832.975740462876\n",
    "#Search- steep_search Switch- change_edges Init_random- True Dataset- kroa; time_mean:78.98120940208435,  time_min:55.42431378364563, time_max:101.35856938362122, min:25412.14911209126, max:30980.027917750987, mean:27927.438650368524\n",
    "#Search- greedy_search Switch- change_vertices Init_random- True Dataset- kroa; time_mean:11.164401462078095,  time_min:6.65256667137146, time_max:20.421974420547485, min:32117.09695116987, max:54106.07270138266, mean:41186.07068856743\n",
    "#Search- steep_search Switch- change_vertices Init_random- True Dataset- kroa; time_mean:81.34675744056702,  time_min:59.176809549331665, time_max:119.87658643722534, min:31692.889961049776, max:53839.05324538179, mean:42006.171417919446\n",
    "#krob\n",
    "#Search- greedy_search Switch- change_edges Init_random- False Dataset- krob; time_mean:9.817365472316743,  time_min:6.901214599609375, time_max:17.38796615600586, min:26469.27535176387, max:31221.44446398176, mean:28694.80210771059\n",
    "#Search- steep_search Switch- change_edges Init_random- False Dataset- krob; time_mean:76.51173939943314,  time_min:54.5276997089386, time_max:107.07022166252136, min:25876.007048396947, max:29983.523543183404, mean:28340.944838349806\n",
    "#Search- greedy_search Switch- change_vertices Init_random- False Dataset- krob; time_mean:11.266887738704682,  time_min:6.852602243423462, time_max:22.00816249847412, min:33127.07660103998, max:49132.21349158842, mean:41322.23993866614"
   ]
  },
  {
   "cell_type": "code",
   "execution_count": null,
   "metadata": {},
   "outputs": [],
   "source": [
    "#MAIN - tu poskladac wyzej zaimplementowane funkcje w 8 roznych kombinacji algorytmow i sprawdzic ich czasy i wyplotowac skutecznosci\n",
    "\n",
    "dataset_choice = \"kroa\"\n",
    "init_random = False\n",
    "switch = \"change_edges\"\n",
    "search = random_wandering\n",
    "duration=\n",
    "\n",
    "for dataset_choice in ['kroa', 'krob']:\n",
    "    if dataset_choice==\"kroa\":\n",
    "        dataset=np_kroa\n",
    "        dist=copy.deepcopy(dista)\n",
    "    else:\n",
    "        dataset=np_krob\n",
    "        dist=copy.deepcopy(distb)\n",
    "        \n",
    "    for init_random in [False, True]:\n",
    "        timeTable = []\n",
    "        distanceTable = []\n",
    "        cyclesTable = []\n",
    "        bestDistance = 0\n",
    "        for _ in tqdm(range(N)):\n",
    "            startTime = time()\n",
    "            cycles, bestDistance = search(dist, dataset, init_random = init_random, switch=switch)\n",
    "            distanceTable.append(bestDistance)\n",
    "            cyclesTable.append(cycles)\n",
    "            timeTable.append(time() - startTime)\n",
    "        print(f\"Random_wandering- {search.__name__} Switch- {switch} Init_random- {init_random} Dataset- {dataset_choice}; time_mean:{np.mean(timeTable)},  time_min:{np.min(timeTable)}, time_max:{np.max(timeTable)}, min:{np.min(distanceTable)}, max:{np.max(distanceTable)}, mean:{np.mean(distanceTable)}\")\n",
    "\n",
    "\n",
    "        plt.clf()\n",
    "        plt.plot(dataset[:,0][cycles[0][0]], dataset[:,1][cycles[0][0]], \"o\", markersize=12)\n",
    "        plt.plot(dataset[:,0][cycles[1][0]], dataset[:,1][cycles[1][0]], \"o\", markersize=12)                \n",
    "        plt.plot(dataset[:,0][[*cycles[0],cycles[0][0]]], dataset[:,1][[*cycles[0],cycles[0][0]]], \"->\")\n",
    "        plt.plot(dataset[:,0][[*cycles[1],cycles[1][1]]], dataset[:,1][[*cycles[1],cycles[1][1]]], \"->\")\n",
    "\n",
    "        plt.savefig(f'Random_wanderingbest_NN_{search.__name__}_random{init_random}_{switch}_{dataset_choice}.png')\n"
   ]
  }
 ],
 "metadata": {
  "kernelspec": {
   "display_name": "Python 3",
   "language": "python",
   "name": "python3"
  },
  "language_info": {
   "codemirror_mode": {
    "name": "ipython",
    "version": 3
   },
   "file_extension": ".py",
   "mimetype": "text/x-python",
   "name": "python",
   "nbconvert_exporter": "python",
   "pygments_lexer": "ipython3",
   "version": "3.6.9"
  }
 },
 "nbformat": 4,
 "nbformat_minor": 2
}
