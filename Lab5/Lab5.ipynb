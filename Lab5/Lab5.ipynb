{
 "cells": [
  {
   "cell_type": "code",
   "execution_count": 1,
   "id": "3f5160cc",
   "metadata": {},
   "outputs": [],
   "source": [
    "#imports\n",
    "from scipy.spatial import distance_matrix\n",
    "from random import randrange\n",
    "import copy\n",
    "import matplotlib.pyplot as plt\n",
    "import imageio\n",
    "import imageio\n",
    "import random\n",
    "from time import time\n",
    "from tqdm import tqdm"
   ]
  },
  {
   "cell_type": "code",
   "execution_count": 119,
   "id": "3136d981",
   "metadata": {},
   "outputs": [],
   "source": [
    "#loading datasets \n",
    "import numpy as np\n",
    "kroa={}\n",
    "krob={}\n",
    "np_kroa=[]\n",
    "np_krob=[]\n",
    "with open('kroa200.txt') as f:\n",
    "    lines = f.readlines()\n",
    "    for line in lines[6:-1]:\n",
    "        x=list(map(int,line.strip().split(' ')))\n",
    "        #print(x)\n",
    "        kroa[x[0]]=(x[1],x[2])\n",
    "        np_kroa.append((x[1],x[2]))\n",
    "np_kroa=np.array(np_kroa)\n",
    "with open('krob200.txt') as f:\n",
    "    lines = f.readlines()\n",
    "    for line in lines[6:-1]:\n",
    "        x=list(map(int,line.strip().split(' ')))\n",
    "        #print(x)\n",
    "        krob[x[0]]=(x[1],x[2])\n",
    "        np_krob.append((x[1],x[2]))\n",
    "\n",
    "np_kroa=np.array(np_kroa)\n",
    "np_krob=np.array(np_krob)\n",
    "\n",
    "#calculating distance matrix - https://docs.scipy.org/doc/scipy/reference/generated/scipy.spatial.distance_matrix.html\n",
    "dista=distance_matrix(np_kroa,np_kroa)\n",
    "distb=distance_matrix(np_krob,np_krob)"
   ]
  },
  {
   "cell_type": "code",
   "execution_count": 120,
   "id": "382791cd",
   "metadata": {},
   "outputs": [],
   "source": [
    "#plotting functions\n",
    "def plotResult(np_dots, cycles):\n",
    "    plt.clf()\n",
    "    plt.plot(dataset[:,0][cycles[0][0]], dataset[:,1][cycles[0][0]], \"o\", markersize=12)\n",
    "    plt.plot(dataset[:,0][cycles[1][0]], dataset[:,1][cycles[1][0]], \"o\", markersize=12)\n",
    "    plt.plot(dataset[:,0][[*cycles[0],cycles[0][0]]], dataset[:,1][[*cycles[0],cycles[0][0]]], \"->\")\n",
    "    plt.plot(dataset[:,0][[*cycles[1],cycles[1][1]]], dataset[:,1][[*cycles[1],cycles[1][1]]], \"->\")\n",
    "    \n",
    "def plotPartResult(np_dots, cycles,i):\n",
    "    plt.plot(np_dots[:,0][cycles[0][0]], np_dots[:,1][cycles[0][0]], \"o\", markersize=12)\n",
    "    plt.plot(np_dots[:,0][cycles[1][0]], np_dots[:,1][cycles[1][0]], \"o\", markersize=12)\n",
    "    plt.plot(np_dots[:,0][cycles[0]], np_dots[:,1][cycles[0]], \"->\")\n",
    "    plt.plot(np_dots[:,0][cycles[1]], np_dots[:,1][cycles[1]], \"->\")\n",
    "    plt.plot(np_dots[:,0], np_dots[:,1], \".\")\n",
    "    plt.savefig(f'plots/{i}.png')\n",
    "    plt.show()    \n",
    "def calcDistance(currentCycle, dist):\n",
    "    distance = 0\n",
    "    for x,y in zip(currentCycle, [*currentCycle[1:], currentCycle[0]]):\n",
    "        distance += dist[x][y]\n",
    "    return distance "
   ]
  },
  {
   "cell_type": "code",
   "execution_count": 121,
   "id": "ace9565e",
   "metadata": {},
   "outputs": [],
   "source": [
    "# 3rd variable - Generate neighbour solution\n",
    "#changes edges internally\n",
    "def change_edges(cycles, edge1, edge2, internally=False): # dummy internally\n",
    "    cI= 0 if len(np.where(cycles[0] == edge1)[0])!=0 else 1 \n",
    "#     print(cycles[cI])\n",
    "    inA=np.where(cycles[cI] == edge1)[0][0]\n",
    "    inB=np.where(cycles[cI] == edge2)[0][0]\n",
    "    inA += 1\n",
    "    inB += 1\n",
    "    cycle = cycles[cI]\n",
    "    cycle[inA: inB] = np.flip(cycle[inA: inB])\n",
    "    return cycles"
   ]
  },
  {
   "cell_type": "code",
   "execution_count": 122,
   "id": "78bec111",
   "metadata": {},
   "outputs": [],
   "source": [
    "#changes vertex internally or externaly between cycles\n",
    "def change_vertices(cycles, a, b, internally=True):\n",
    "    if internally:\n",
    "#         print(len(np.where(cycles[0] == a)))\n",
    "#         print(np.where(cycles[0] == a))\n",
    "        cI= 0 if len(np.where(cycles[0] == a)[0])!=0 else 1 \n",
    "        inA=np.where(cycles[cI] == a)[0][0]\n",
    "        inB=np.where(cycles[cI] == b)[0][0]\n",
    "        tmp=cycles[cI][inA]\n",
    "        cycles[cI][inA]=b\n",
    "        cycles[cI][inB]=tmp\n",
    "        #print(cycles[0][inB], cycles[0][inA])\n",
    "    else:\n",
    "        cI= 0 if len(np.where(cycles[0] == a)[0])!=0 else 1 \n",
    "        cI2 = 1-cI\n",
    "        inA=np.where(cycles[cI] == a)[0][0]\n",
    "        inB=np.where(cycles[cI2] == b)[0][0]\n",
    "        tmp=cycles[cI][inA]\n",
    "        cycles[cI][inA]=b\n",
    "        cycles[cI2][inB]=tmp\n",
    "        #pass\n",
    "    #print(cycles)\n",
    "    return cycles\n",
    "    #if aIndex in cycles[0]\n",
    "    #raise NotImplementedError"
   ]
  },
  {
   "cell_type": "code",
   "execution_count": 134,
   "id": "8879a179",
   "metadata": {},
   "outputs": [],
   "source": [
    "# 1st variable - Start cycle - with random assignments\n",
    "def start_cycle_random():\n",
    "    cycles={}\n",
    "    cycles[0]=np.random.choice(200,100,replace=False)\n",
    "    cycles[1]=np.array([i for i in np.arange(0,200,1) if i not in cycles[0]])\n",
    "    np.random.shuffle(cycles[1])\n",
    "    return cycles"
   ]
  },
  {
   "cell_type": "code",
   "execution_count": 125,
   "id": "8c51727f",
   "metadata": {},
   "outputs": [],
   "source": [
    "# 1st variable - Start cycle - with nearest neighbour method\n",
    "def start_cycle_heuristic(dataset_choice):\n",
    "    results=[]\n",
    "    min_result=np.inf\n",
    "    max_result=0\n",
    "    if dataset_choice==\"kroa\":\n",
    "        dataset=np_kroa\n",
    "        dic=kroa\n",
    "        dist=copy.deepcopy(dista)\n",
    "        dist_stable=copy.deepcopy(dista)\n",
    "    else:\n",
    "        dataset=np_krob\n",
    "        dic=krob\n",
    "        dist=copy.deepcopy(distb)\n",
    "        dist_stable=copy.deepcopy(distb)\n",
    "\n",
    "\n",
    "    #zmiana dystansu przekątnej na nieskonczonosc\n",
    "    np.fill_diagonal(dist, np.inf)\n",
    "\n",
    "    cycles={}\n",
    "    cycles[0]=[randrange(200)]\n",
    "    cycles[1]=[(np.argsort(dist[cycles[0][0]])[-2])]\n",
    "\n",
    "    for b in range(2):\n",
    "        dist[:,int(cycles[b][0])]=np.inf\n",
    "\n",
    "    chosenCycle=1\n",
    "    for i in range(0,198):\n",
    "        chosenCycle = int((chosenCycle + 1)%2)\n",
    "        candidates=[]\n",
    "        for z,index in enumerate(cycles[chosenCycle]):\n",
    "            candidates.append((np.argmin(dist[index]),np.min(dist[index]),z))\n",
    "        candidates=np.array(candidates)\n",
    "        x=np.argmin(candidates[:,1])\n",
    "        cycles[chosenCycle]=np.insert(cycles[chosenCycle],int(candidates[x,2]),int(candidates[x,0]))\n",
    "        dist[:,int(candidates[x,0])]=np.inf\n",
    "    \n",
    "    #print(f\"cycle[0]: {calcDistance(cycles[0], dist_stable)}\")\n",
    "    #print(f\"cycle[1]: {calcDistance(cycles[1], dist_stable)}\")\n",
    "    \n",
    "    #SAVING RESULTS \n",
    "    results.append(calcDistance(cycles[0],dist_stable)+calcDistance(cycles[1],dist_stable))\n",
    "    if results[-1]>max_result:\n",
    "        max_result=results[-1]\n",
    "    if results[-1]<min_result:\n",
    "        min_result=results[-1]\n",
    "#         plt.clf()\n",
    "#         plt.plot(dataset[:,0][cycles[0][0]], dataset[:,1][cycles[0][0]], \"o\", markersize=12)\n",
    "#         plt.plot(dataset[:,0][cycles[1][0]], dataset[:,1][cycles[1][0]], \"o\", markersize=12)\n",
    "#         plt.plot(dataset[:,0][cycles[0]], dataset[:,1][cycles[0]], \"->\")\n",
    "#         plt.plot(dataset[:,0][cycles[1]], dataset[:,1][cycles[1]], \"->\")\n",
    "#         plt.savefig(f'best_NN_{dataset_choice}.png')\n",
    "    return cycles"
   ]
  },
  {
   "cell_type": "code",
   "execution_count": 126,
   "id": "231f2f13",
   "metadata": {},
   "outputs": [],
   "source": [
    "# 2nd variable - Find more optimal solution\n",
    "# switch parameter defines how u find neighbour solutions (is it change_vertices or change_edges func)\n",
    "def greedy_search(dist, np_dots, init_random = False, switch=\"change_edges\", cycles=None):\n",
    "    #specify cycles initialization.\n",
    "    if cycles is None:\n",
    "        if init_random:\n",
    "            cycles = start_cycle_random()\n",
    "        else:\n",
    "            cycles = start_cycle_heuristic()\n",
    "    #print(cycles)\n",
    "    \n",
    "    if switch == \"change_vertices\":\n",
    "        internal_change = change_vertices\n",
    "    elif switch == \"change_edges\":\n",
    "        internal_change = change_edges\n",
    "    else:\n",
    "        print(f\"Unknow mode {switch}. Select change_vertices or change_edges\")\n",
    "        return\n",
    "    \n",
    "    \n",
    "    \n",
    "    bestDistance = 0\n",
    "    #print(cycles[0])\n",
    "    bestDistance += calcDistance(cycles[0], dist) \n",
    "    bestDistance += calcDistance(cycles[1], dist) \n",
    "    #print(f\"Initial distance: {bestDistance}\")\n",
    "    \n",
    "    #plotPartResult(np_dots, cycles)\n",
    "    \n",
    "    \n",
    "    done = False\n",
    "    while not done:\n",
    "        done = True\n",
    "        #-------------calculating possible moves\n",
    "        possible_moves = []\n",
    "        \n",
    "        mesh = np.array(np.meshgrid(cycles[0], cycles[1]))\n",
    "        combinations = mesh.T.reshape(-1, 2)\n",
    "        for x in combinations:\n",
    "            possible_moves.append([\"external\", x])\n",
    "\n",
    "        mesh = np.array(np.meshgrid(cycles[0], cycles[0]))\n",
    "        mesh = np.concatenate((mesh,np.array(np.meshgrid(cycles[1], cycles[1]))),axis=0)\n",
    "        combinations = mesh.T.reshape(-1, 2)\n",
    "        for x in combinations:\n",
    "            possible_moves.append([\"internal\", x])\n",
    "        \n",
    "        possible_moves = np.array(possible_moves)\n",
    "        i = np.random.choice(range(len(possible_moves)),len(possible_moves),replace=False)\n",
    "        possible_moves = possible_moves[i]\n",
    "        \n",
    "\n",
    "        for move, edges in possible_moves:\n",
    "#             print(move, edges)\n",
    "            cyclesCopy = copy.deepcopy(cycles)\n",
    "            edge1 = edges[0]\n",
    "            edge2 = edges[1]\n",
    "            \n",
    "#             print(edge1, edge2)\n",
    "            if move == \"internal\":\n",
    "                cyclesCopy = internal_change(cyclesCopy, edge1, edge2, internally=True)\n",
    "            else:\n",
    "                cyclesCopy = change_vertices(cyclesCopy, edge1, edge2, False)\n",
    "#             plotPartResult(np_dots, cycles)\n",
    "            currentDistance = 0\n",
    "            currentDistance += calcDistance(cyclesCopy[0], dist)\n",
    "            currentDistance += calcDistance(cyclesCopy[1], dist)\n",
    "            if currentDistance < bestDistance:\n",
    "                #print(f\"New best distance: {currentDistance}, changed {edge1} with {edge2} on {move}\")\n",
    "                cycles = cyclesCopy\n",
    "                bestDistance = currentDistance\n",
    "                done = False\n",
    "                break\n",
    "    \n",
    "#     plotPartResult(np_dots, cycles)\n",
    "#     plt.show()\n",
    "    return cycles, bestDistance\n",
    "    "
   ]
  },
  {
   "cell_type": "markdown",
   "id": "d95484e9",
   "metadata": {},
   "source": [
    "## Genetic"
   ]
  },
  {
   "cell_type": "code",
   "execution_count": 10,
   "id": "c6a94781",
   "metadata": {},
   "outputs": [
    {
     "name": "stderr",
     "output_type": "stream",
     "text": [
      "  0%|          | 0/20 [00:00<?, ?it/s]/home/mikolaj/.local/lib/python3.6/site-packages/ipykernel_launcher.py:47: VisibleDeprecationWarning: Creating an ndarray from ragged nested sequences (which is a list-or-tuple of lists-or-tuples-or ndarrays with different lengths or shapes) is deprecated. If you meant to do this, you must specify 'dtype=object' when creating the ndarray\n",
      "100%|██████████| 20/20 [56:17<00:00, 168.89s/it]\n"
     ]
    }
   ],
   "source": [
    "#TestPopulation\n",
    "testpopulation=[]\n",
    "dataset=np_kroa\n",
    "dist=copy.deepcopy(dista)\n",
    "for i in tqdm(range(0,20)):\n",
    "        testpopulation.append(greedy_search(dist, dataset, init_random = True, switch=\"change_edges\"))"
   ]
  },
  {
   "cell_type": "code",
   "execution_count": 116,
   "id": "a9ccddc3",
   "metadata": {},
   "outputs": [],
   "source": [
    "# 1st variable - Start cycle - with nearest neighbour method\n",
    "def rebuild_cycle_heuristic(cycles,dataset_choice):\n",
    "    results=[]\n",
    "    min_result=np.inf\n",
    "    max_result=0\n",
    "    if dataset_choice==\"kroa\":\n",
    "        dataset=np_kroa\n",
    "        dic=kroa\n",
    "        dist=copy.deepcopy(dista)\n",
    "        dist_stable=copy.deepcopy(dista)\n",
    "    else:\n",
    "        dataset=np_krob\n",
    "        dic=krob\n",
    "        dist=copy.deepcopy(distb)\n",
    "        dist_stable=copy.deepcopy(distb)\n",
    "\n",
    "\n",
    "    #zmiana dystansu przekątnej na nieskonczonosc\n",
    "    np.fill_diagonal(dist, np.inf)\n",
    "\n",
    "#     cycles={}\n",
    "#     cycles[0]=[randrange(100)]\n",
    "#     cycles[1]=[(np.argsort(dist[cycles[0][0]])[-2])]\n",
    "\n",
    "    for b in range(2):\n",
    "        for d in range(len(cycles[b])):\n",
    "            dist[:,int(cycles[b][d])]=np.inf\n",
    "\n",
    "    chosenCycle=1\n",
    "    #taken=len(cycles[0])+len(cycles[1])\n",
    "    while len(cycles[0])+len(cycles[1])<200:\n",
    "        chosenCycle = int((chosenCycle + 1)%2)\n",
    "        if(len(cycles[chosenCycle])<100):\n",
    "            candidates=[]\n",
    "            for z,index in enumerate(cycles[chosenCycle]):\n",
    "                candidates.append((np.argmin(dist[index]),np.min(dist[index]),z))\n",
    "            candidates=np.array(candidates)\n",
    "            x=np.argmin(candidates[:,1])\n",
    "            cycles[chosenCycle]=np.insert(cycles[chosenCycle],int(candidates[x,2]),int(candidates[x,0]))\n",
    "            dist[:,int(candidates[x,0])]=np.inf\n",
    "\n",
    "#     #SAVING RESULTS \n",
    "#     results.append(calcDistance(cycles[0],dist_stable)+calcDistance(cycles[1],dist_stable))\n",
    "#     if results[-1]>max_result:\n",
    "#         max_result=results[-1]\n",
    "#     if results[-1]<min_result:\n",
    "#         min_result=results[-1]\n",
    "\n",
    "    return cycles"
   ]
  },
  {
   "cell_type": "code",
   "execution_count": 132,
   "id": "14b1bfb2",
   "metadata": {},
   "outputs": [],
   "source": [
    "def evo(dataset_choice, durationSec=10,do_ls=False): \n",
    "    if dataset_choice==\"kroa\":\n",
    "        dataset=np_kroa\n",
    "        dic=kroa\n",
    "        dist=copy.deepcopy(dista)\n",
    "        dist_stable=copy.deepcopy(dista)\n",
    "    else:\n",
    "        dataset=np_krob\n",
    "        dic=krob\n",
    "        dist=copy.deepcopy(distb)\n",
    "        dist_stable=copy.deepcopy(distb)    \n",
    "\n",
    "    bestBestDist = np.inf\n",
    "    startTime = time()\n",
    "    \n",
    "    population=[]\n",
    "    \n",
    "    for i in range(0,20):\n",
    "        #Population zawiera dwuelementowe elementy (cycles,bestDist)\n",
    "        population.append(greedy_search(dist, dataset, init_random = True, switch=\"change_edges\"))\n",
    "    #population=copy.deepcopy(testpopulation)\n",
    "    \n",
    "    notnow=0\n",
    "    while (time() - startTime < durationSec):\n",
    "        div=0\n",
    "        chosen=np.random.choice(len(population),2,replace=False)\n",
    "        parent1=population[chosen[0]][0]\n",
    "        keys1, values1 = zip(*parent1.items())\n",
    "        values1=np.array(values1)\n",
    "        values1=values1.ravel()\n",
    "        parent2=population[chosen[1]][0]\n",
    "        #print(values1)\n",
    "        keys2, values2 = zip(*parent2.items())\n",
    "        values2=np.array(values2)\n",
    "        values2=values2.ravel()\n",
    "        child=copy.deepcopy(parent1)\n",
    "        #print(child)\n",
    "        population_mix=1\n",
    "        for i_in,i in enumerate(values1):\n",
    "            #print(i)\n",
    "            for j_in,j in enumerate(values2):\n",
    "                if i==j:\n",
    "                    #print(\"AAA\")\n",
    "                    #print()\n",
    "#                     print(\"==\")\n",
    "#                     print(values1[(i_in-1+len(values1))%len(values1)],values1[i_in],values1[(i_in+1+len(values1))%len(values1)])\n",
    "#                     print(values2[(i_in-1+len(values2))%len(values2)],values2[i_in],values2[(i_in+1+len(values2))%len(values2)])\n",
    "#                     print(\"==\")\n",
    "                    if not values1[(i_in-1+len(values1))%len(values1)]==values2[(j_in-1+len(values2)%len(values2))] and not \\\n",
    "                    values1[(i_in+1+len(values1))%len(values1)]==values2[(j_in+1+len(values2))%len(values2)]==0:\n",
    "                        div+=1\n",
    "                        #print(\"AAAA\")\n",
    "                        if values1[i_in] in child[0]:\n",
    "                            child[0]=child[0][child[0] != values1[i_in]]#child[0][.remove(values1[i_in])\n",
    "                        else:\n",
    "                            child[1]=child[1][child[1] != values1[i_in]]\n",
    "                        population_mix=0\n",
    "        if population_mix:\n",
    "            #print(\"AAAAAAAAAAAAAAAAA\")\n",
    "            notnow+=1\n",
    "            if notnow%25==0:\n",
    "                #print(\"BBBBBBBBBBBBBBBBBBBB\")\n",
    "                population[np.argmax(np_population[:,1])]=greedy_search(dist, dataset, init_random = True, switch=\"change_edges\")\n",
    "        new_cycles=rebuild_cycle_heuristic(child,dataset_choice)\n",
    "        #print(len(new_cycles[0]),len(new_cycles[1]))\n",
    "        if do_ls:\n",
    "            new_cycles=greedy_search(dist,dataset,cycles=new_cycles)[0]\n",
    "            #print(new_cycles)\n",
    "\n",
    "        #print(new_cycles)\n",
    "        np_population=np.array(population)\n",
    "        childDist=calcDistance(new_cycles[0],dist)+calcDistance(new_cycles[1],dist)\n",
    "        #print(childDist,np.max(np_population[:,1]))\n",
    "        if childDist<np.max(np_population[:,1]) and childDist not in np_population[:,1]:\n",
    "#             print(population)\n",
    "#             print(\"AA\")\n",
    "            population[np.argmax(np_population[:,1])]=(child,childDist)\n",
    "#             print(population)\n",
    "        #print(np.min(np.array(population)[:,1]))\n",
    "        #print(np.mean(np.array(population)[:,1]))\n",
    "        #return new_cycles\n",
    "                       #USUN Z CHILD TEN WIERZCHOŁEK\n",
    "           #wylosuj 2 rozwiazania z population\n",
    "           #Ewoluuj - wywal wszystkie krawedzie ktore sa w 1 a nie ma w 2 (wierzcholki bez krawedzi usuwamy)\n",
    "           #Usun tylko wierzcholki do ktorych nie dochodza zadne krawedzie\n",
    "           #Odbuduj zgodnie z metodą z ILS2\n",
    "           #Jezeli nie ma takiego bestDist w population[:,1] i jest krótszy od najdluzszego to zamien go z nim miejscami\n",
    "           \n",
    "    \n",
    "    #print(population)\n",
    "    return np.array(population)[np.argmin(np.array(population)[:,1])]#,np.min(np.array(population)[:,1]\n",
    "    #return najmniejszy dist z population i te cykle"
   ]
  },
  {
   "cell_type": "code",
   "execution_count": 133,
   "id": "964dcab3",
   "metadata": {},
   "outputs": [
    {
     "name": "stderr",
     "output_type": "stream",
     "text": [
      "  0%|          | 0/6 [00:00<?, ?it/s]\n"
     ]
    },
    {
     "ename": "TypeError",
     "evalue": "start_cycle_random() missing 1 required positional argument: 'dataset_choice'",
     "output_type": "error",
     "traceback": [
      "\u001b[0;31m-----------------------------------------------------------------\u001b[0m",
      "\u001b[0;31mTypeError\u001b[0m                       Traceback (most recent call last)",
      "\u001b[0;32m<ipython-input-133-08fa2fd24e0a>\u001b[0m in \u001b[0;36m<module>\u001b[0;34m\u001b[0m\n\u001b[1;32m     14\u001b[0m         \u001b[0mdistanceTable\u001b[0m \u001b[0;34m=\u001b[0m \u001b[0;34m[\u001b[0m\u001b[0;34m]\u001b[0m\u001b[0;34m\u001b[0m\u001b[0;34m\u001b[0m\u001b[0m\n\u001b[1;32m     15\u001b[0m         \u001b[0;32mfor\u001b[0m \u001b[0mi\u001b[0m \u001b[0;32min\u001b[0m \u001b[0mtqdm\u001b[0m\u001b[0;34m(\u001b[0m\u001b[0mrange\u001b[0m\u001b[0;34m(\u001b[0m\u001b[0;36m6\u001b[0m\u001b[0;34m)\u001b[0m\u001b[0;34m)\u001b[0m\u001b[0;34m:\u001b[0m\u001b[0;34m\u001b[0m\u001b[0;34m\u001b[0m\u001b[0m\n\u001b[0;32m---> 16\u001b[0;31m             \u001b[0mcycles\u001b[0m\u001b[0;34m,\u001b[0m\u001b[0mbestDist\u001b[0m\u001b[0;34m=\u001b[0m\u001b[0mevo\u001b[0m\u001b[0;34m(\u001b[0m\u001b[0mdataset_choice\u001b[0m\u001b[0;34m=\u001b[0m\u001b[0mdataset_choice\u001b[0m\u001b[0;34m,\u001b[0m \u001b[0mdurationSec\u001b[0m\u001b[0;34m=\u001b[0m\u001b[0;36m2500\u001b[0m\u001b[0;34m,\u001b[0m\u001b[0mdo_ls\u001b[0m\u001b[0;34m=\u001b[0m\u001b[0mDOLS\u001b[0m\u001b[0;34m)\u001b[0m\u001b[0;34m\u001b[0m\u001b[0;34m\u001b[0m\u001b[0m\n\u001b[0m\u001b[1;32m     17\u001b[0m             \u001b[0mcyclesTable\u001b[0m\u001b[0;34m.\u001b[0m\u001b[0mappend\u001b[0m\u001b[0;34m(\u001b[0m\u001b[0mcycles\u001b[0m\u001b[0;34m)\u001b[0m\u001b[0;34m\u001b[0m\u001b[0;34m\u001b[0m\u001b[0m\n\u001b[1;32m     18\u001b[0m             \u001b[0mdistanceTable\u001b[0m\u001b[0;34m.\u001b[0m\u001b[0mappend\u001b[0m\u001b[0;34m(\u001b[0m\u001b[0mbestDist\u001b[0m\u001b[0;34m)\u001b[0m\u001b[0;34m\u001b[0m\u001b[0;34m\u001b[0m\u001b[0m\n",
      "\u001b[0;32m<ipython-input-132-4a966b4d3109>\u001b[0m in \u001b[0;36mevo\u001b[0;34m(dataset_choice, durationSec, do_ls)\u001b[0m\n\u001b[1;32m     18\u001b[0m     \u001b[0;32mfor\u001b[0m \u001b[0mi\u001b[0m \u001b[0;32min\u001b[0m \u001b[0mrange\u001b[0m\u001b[0;34m(\u001b[0m\u001b[0;36m0\u001b[0m\u001b[0;34m,\u001b[0m\u001b[0;36m20\u001b[0m\u001b[0;34m)\u001b[0m\u001b[0;34m:\u001b[0m\u001b[0;34m\u001b[0m\u001b[0;34m\u001b[0m\u001b[0m\n\u001b[1;32m     19\u001b[0m         \u001b[0;31m#Population zawiera dwuelementowe elementy (cycles,bestDist)\u001b[0m\u001b[0;34m\u001b[0m\u001b[0;34m\u001b[0m\u001b[0;34m\u001b[0m\u001b[0m\n\u001b[0;32m---> 20\u001b[0;31m         \u001b[0mpopulation\u001b[0m\u001b[0;34m.\u001b[0m\u001b[0mappend\u001b[0m\u001b[0;34m(\u001b[0m\u001b[0mgreedy_search\u001b[0m\u001b[0;34m(\u001b[0m\u001b[0mdist\u001b[0m\u001b[0;34m,\u001b[0m \u001b[0mdataset\u001b[0m\u001b[0;34m,\u001b[0m \u001b[0minit_random\u001b[0m \u001b[0;34m=\u001b[0m \u001b[0;32mTrue\u001b[0m\u001b[0;34m,\u001b[0m \u001b[0mswitch\u001b[0m\u001b[0;34m=\u001b[0m\u001b[0;34m\"change_edges\"\u001b[0m\u001b[0;34m)\u001b[0m\u001b[0;34m)\u001b[0m\u001b[0;34m\u001b[0m\u001b[0;34m\u001b[0m\u001b[0m\n\u001b[0m\u001b[1;32m     21\u001b[0m     \u001b[0;31m#population=copy.deepcopy(testpopulation)\u001b[0m\u001b[0;34m\u001b[0m\u001b[0;34m\u001b[0m\u001b[0;34m\u001b[0m\u001b[0m\n\u001b[1;32m     22\u001b[0m \u001b[0;34m\u001b[0m\u001b[0m\n",
      "\u001b[0;32m<ipython-input-126-2976aba87486>\u001b[0m in \u001b[0;36mgreedy_search\u001b[0;34m(dist, np_dots, init_random, switch, cycles)\u001b[0m\n\u001b[1;32m      5\u001b[0m     \u001b[0;32mif\u001b[0m \u001b[0mcycles\u001b[0m \u001b[0;32mis\u001b[0m \u001b[0;32mNone\u001b[0m\u001b[0;34m:\u001b[0m\u001b[0;34m\u001b[0m\u001b[0;34m\u001b[0m\u001b[0m\n\u001b[1;32m      6\u001b[0m         \u001b[0;32mif\u001b[0m \u001b[0minit_random\u001b[0m\u001b[0;34m:\u001b[0m\u001b[0;34m\u001b[0m\u001b[0;34m\u001b[0m\u001b[0m\n\u001b[0;32m----> 7\u001b[0;31m             \u001b[0mcycles\u001b[0m \u001b[0;34m=\u001b[0m \u001b[0mstart_cycle_random\u001b[0m\u001b[0;34m(\u001b[0m\u001b[0;34m)\u001b[0m\u001b[0;34m\u001b[0m\u001b[0;34m\u001b[0m\u001b[0m\n\u001b[0m\u001b[1;32m      8\u001b[0m         \u001b[0;32melse\u001b[0m\u001b[0;34m:\u001b[0m\u001b[0;34m\u001b[0m\u001b[0;34m\u001b[0m\u001b[0m\n\u001b[1;32m      9\u001b[0m             \u001b[0mcycles\u001b[0m \u001b[0;34m=\u001b[0m \u001b[0mstart_cycle_heuristic\u001b[0m\u001b[0;34m(\u001b[0m\u001b[0;34m)\u001b[0m\u001b[0;34m\u001b[0m\u001b[0;34m\u001b[0m\u001b[0m\n",
      "\u001b[0;31mTypeError\u001b[0m: start_cycle_random() missing 1 required positional argument: 'dataset_choice'"
     ]
    }
   ],
   "source": [
    "for dataset_choice in [\"kroa\",\"krob\"]:\n",
    "    if dataset_choice==\"kroa\":\n",
    "        dataset=np_kroa\n",
    "        dic=kroa\n",
    "        dist=copy.deepcopy(dista)\n",
    "        dist_stable=copy.deepcopy(dista)\n",
    "    else:\n",
    "        dataset=np_krob\n",
    "        dic=krob\n",
    "        dist=copy.deepcopy(distb)\n",
    "        dist_stable=copy.deepcopy(distb)    \n",
    "    for DOLS in [True,False]:\n",
    "        cyclesTable = []\n",
    "        distanceTable = []\n",
    "        for i in tqdm(range(6)):\n",
    "            cycles,bestDist=evo(dataset_choice=dataset_choice, durationSec=2500,do_ls=DOLS)\n",
    "            cyclesTable.append(cycles)\n",
    "            distanceTable.append(bestDist)\n",
    "        cycles = cyclesTable[np.argmin(distanceTable)]\n",
    "        plt.clf()\n",
    "        plt.plot(dataset[:,0][cycles[0][0]], dataset[:,1][cycles[0][0]], \"o\", markersize=12)\n",
    "        plt.plot(dataset[:,0][cycles[1][0]], dataset[:,1][cycles[1][0]], \"o\", markersize=12)                \n",
    "        plt.plot(dataset[:,0][[*cycles[0],cycles[0][0]]], dataset[:,1][[*cycles[0],cycles[0][0]]], \"->\")\n",
    "        plt.plot(dataset[:,0][[*cycles[1],cycles[1][1]]], dataset[:,1][[*cycles[1],cycles[1][1]]], \"->\")\n",
    "        plt.savefig(f\"Genetic_LS-{DOLS}_{dataset_choice}.png\")\n",
    "        plt.show()\n",
    "        with open(f\"Genetic_LS-{DOLS}_{dataset_choice}.txt\", \"w\") as f:\n",
    "            f.write(f\"min:{np.min(distanceTable)}, max:{np.max(distanceTable)}, mean:{np.mean(distanceTable)}\")"
   ]
  },
  {
   "cell_type": "code",
   "execution_count": 115,
   "id": "dcba1531",
   "metadata": {},
   "outputs": [
    {
     "name": "stdout",
     "output_type": "stream",
     "text": [
      "100 100\n"
     ]
    },
    {
     "name": "stderr",
     "output_type": "stream",
     "text": [
      "/home/mikolaj/.local/lib/python3.6/site-packages/ipykernel_launcher.py:48: VisibleDeprecationWarning: Creating an ndarray from ragged nested sequences (which is a list-or-tuple of lists-or-tuples-or ndarrays with different lengths or shapes) is deprecated. If you meant to do this, you must specify 'dtype=object' when creating the ndarray\n"
     ]
    },
    {
     "ename": "KeyboardInterrupt",
     "evalue": "",
     "output_type": "error",
     "traceback": [
      "\u001b[0;31m-----------------------------------------------------------------\u001b[0m",
      "\u001b[0;31mKeyboardInterrupt\u001b[0m               Traceback (most recent call last)",
      "\u001b[0;32m<ipython-input-115-18fde83c3574>\u001b[0m in \u001b[0;36m<module>\u001b[0;34m\u001b[0m\n\u001b[0;32m----> 1\u001b[0;31m \u001b[0mcycles\u001b[0m\u001b[0;34m,\u001b[0m\u001b[0mbestDist\u001b[0m\u001b[0;34m=\u001b[0m\u001b[0mevo\u001b[0m\u001b[0;34m(\u001b[0m\u001b[0mdataset_choice\u001b[0m\u001b[0;34m=\u001b[0m\u001b[0;34m\"kroa\"\u001b[0m\u001b[0;34m,\u001b[0m \u001b[0mdurationSec\u001b[0m\u001b[0;34m=\u001b[0m\u001b[0;36m30\u001b[0m\u001b[0;34m,\u001b[0m \u001b[0mdo_ls\u001b[0m\u001b[0;34m=\u001b[0m\u001b[0;32mTrue\u001b[0m\u001b[0;34m)\u001b[0m\u001b[0;34m\u001b[0m\u001b[0;34m\u001b[0m\u001b[0m\n\u001b[0m\u001b[1;32m      2\u001b[0m \u001b[0mplotResult\u001b[0m\u001b[0;34m(\u001b[0m\u001b[0mdataset\u001b[0m\u001b[0;34m,\u001b[0m\u001b[0mcycles\u001b[0m\u001b[0;34m)\u001b[0m\u001b[0;34m\u001b[0m\u001b[0;34m\u001b[0m\u001b[0m\n",
      "\u001b[0;32m<ipython-input-109-3f14de3ca56c>\u001b[0m in \u001b[0;36mevo\u001b[0;34m(dataset_choice, durationSec, do_ls)\u001b[0m\n\u001b[1;32m     65\u001b[0m         \u001b[0mprint\u001b[0m\u001b[0;34m(\u001b[0m\u001b[0mlen\u001b[0m\u001b[0;34m(\u001b[0m\u001b[0mnew_cycles\u001b[0m\u001b[0;34m[\u001b[0m\u001b[0;36m0\u001b[0m\u001b[0;34m]\u001b[0m\u001b[0;34m)\u001b[0m\u001b[0;34m,\u001b[0m\u001b[0mlen\u001b[0m\u001b[0;34m(\u001b[0m\u001b[0mnew_cycles\u001b[0m\u001b[0;34m[\u001b[0m\u001b[0;36m1\u001b[0m\u001b[0;34m]\u001b[0m\u001b[0;34m)\u001b[0m\u001b[0;34m)\u001b[0m\u001b[0;34m\u001b[0m\u001b[0;34m\u001b[0m\u001b[0m\n\u001b[1;32m     66\u001b[0m         \u001b[0;32mif\u001b[0m \u001b[0mdo_ls\u001b[0m\u001b[0;34m:\u001b[0m\u001b[0;34m\u001b[0m\u001b[0;34m\u001b[0m\u001b[0m\n\u001b[0;32m---> 67\u001b[0;31m             \u001b[0mnew_cycles\u001b[0m\u001b[0;34m=\u001b[0m\u001b[0mgreedy_search\u001b[0m\u001b[0;34m(\u001b[0m\u001b[0mdist\u001b[0m\u001b[0;34m,\u001b[0m\u001b[0mdataset\u001b[0m\u001b[0;34m,\u001b[0m\u001b[0mcycles\u001b[0m\u001b[0;34m=\u001b[0m\u001b[0mnew_cycles\u001b[0m\u001b[0;34m)\u001b[0m\u001b[0;34m[\u001b[0m\u001b[0;36m0\u001b[0m\u001b[0;34m]\u001b[0m\u001b[0;34m\u001b[0m\u001b[0;34m\u001b[0m\u001b[0m\n\u001b[0m\u001b[1;32m     68\u001b[0m             \u001b[0;31m#print(new_cycles)\u001b[0m\u001b[0;34m\u001b[0m\u001b[0;34m\u001b[0m\u001b[0;34m\u001b[0m\u001b[0m\n\u001b[1;32m     69\u001b[0m \u001b[0;34m\u001b[0m\u001b[0m\n",
      "\u001b[0;32m<ipython-input-76-2976aba87486>\u001b[0m in \u001b[0;36mgreedy_search\u001b[0;34m(dist, np_dots, init_random, switch, cycles)\u001b[0m\n\u001b[1;32m     46\u001b[0m             \u001b[0mpossible_moves\u001b[0m\u001b[0;34m.\u001b[0m\u001b[0mappend\u001b[0m\u001b[0;34m(\u001b[0m\u001b[0;34m[\u001b[0m\u001b[0;34m\"internal\"\u001b[0m\u001b[0;34m,\u001b[0m \u001b[0mx\u001b[0m\u001b[0;34m]\u001b[0m\u001b[0;34m)\u001b[0m\u001b[0;34m\u001b[0m\u001b[0;34m\u001b[0m\u001b[0m\n\u001b[1;32m     47\u001b[0m \u001b[0;34m\u001b[0m\u001b[0m\n\u001b[0;32m---> 48\u001b[0;31m         \u001b[0mpossible_moves\u001b[0m \u001b[0;34m=\u001b[0m \u001b[0mnp\u001b[0m\u001b[0;34m.\u001b[0m\u001b[0marray\u001b[0m\u001b[0;34m(\u001b[0m\u001b[0mpossible_moves\u001b[0m\u001b[0;34m)\u001b[0m\u001b[0;34m\u001b[0m\u001b[0;34m\u001b[0m\u001b[0m\n\u001b[0m\u001b[1;32m     49\u001b[0m         \u001b[0mi\u001b[0m \u001b[0;34m=\u001b[0m \u001b[0mnp\u001b[0m\u001b[0;34m.\u001b[0m\u001b[0mrandom\u001b[0m\u001b[0;34m.\u001b[0m\u001b[0mchoice\u001b[0m\u001b[0;34m(\u001b[0m\u001b[0mrange\u001b[0m\u001b[0;34m(\u001b[0m\u001b[0mlen\u001b[0m\u001b[0;34m(\u001b[0m\u001b[0mpossible_moves\u001b[0m\u001b[0;34m)\u001b[0m\u001b[0;34m)\u001b[0m\u001b[0;34m,\u001b[0m\u001b[0mlen\u001b[0m\u001b[0;34m(\u001b[0m\u001b[0mpossible_moves\u001b[0m\u001b[0;34m)\u001b[0m\u001b[0;34m,\u001b[0m\u001b[0mreplace\u001b[0m\u001b[0;34m=\u001b[0m\u001b[0;32mFalse\u001b[0m\u001b[0;34m)\u001b[0m\u001b[0;34m\u001b[0m\u001b[0;34m\u001b[0m\u001b[0m\n\u001b[1;32m     50\u001b[0m         \u001b[0mpossible_moves\u001b[0m \u001b[0;34m=\u001b[0m \u001b[0mpossible_moves\u001b[0m\u001b[0;34m[\u001b[0m\u001b[0mi\u001b[0m\u001b[0;34m]\u001b[0m\u001b[0;34m\u001b[0m\u001b[0;34m\u001b[0m\u001b[0m\n",
      "\u001b[0;31mKeyboardInterrupt\u001b[0m: "
     ]
    }
   ],
   "source": [
    "cycles,bestDist=evo(dataset_choice=\"kroa\", durationSec=30, do_ls=True)\n",
    "plotResult(dataset,cycles)"
   ]
  },
  {
   "cell_type": "code",
   "execution_count": 14,
   "id": "792db7c8",
   "metadata": {},
   "outputs": [
    {
     "data": {
      "text/plain": [
       "array([ 18,  65, 178,  36,   8,  81,  77,  25, 135,  60, 183,  28, 109,\n",
       "        17,  48, 189, 148,  98,  13, 105,  92, 162, 146,  11, 120, 173,\n",
       "       158, 110,  14,  78, 159,  66, 119, 185, 111, 154,  16,  24, 142,\n",
       "        89,  33, 102,  97, 199, 147,  87, 113, 128, 145,   7,  74,  53,\n",
       "       150, 186,   5, 108, 106, 156,  46,  30,  64,  79,  76, 157, 192,\n",
       "       127, 166,  29,  67, 168,  22, 172, 149, 138,  70, 177, 195,  85,\n",
       "        75,  69, 101,  20, 153,  88,  40,  58,  72,   2,  68, 188, 130,\n",
       "       179, 155,  99,  32,  80,  96,  44, 196,  91, 140, 170,  27,  37,\n",
       "        55, 151,   4, 104,  42, 136, 132, 175, 112, 194, 181,  93,  94,\n",
       "        90, 143, 139, 163,  34,   1, 180, 124, 160,  59, 100,   3, 191,\n",
       "       107, 141,  73,  56,  35, 174,   9, 118, 103, 164, 165,  95, 125,\n",
       "        86,  51,  10,  83,  47, 152,  43,  62, 187, 115, 169, 121, 193,\n",
       "        50,  15, 117, 123, 137, 198,   6,  31,  23, 171,  45,  39, 131,\n",
       "        52, 116, 114,   0,  84, 144, 190,  26, 197, 122,  12, 176, 161,\n",
       "        63,  19,  54,  41, 134, 126, 182,  21, 133,  82,  61, 184, 167,\n",
       "        49,  71, 129,  38,  57])"
      ]
     },
     "execution_count": 14,
     "metadata": {},
     "output_type": "execute_result"
    }
   ],
   "source": [
    "#print(testpopulation)\n",
    "keys1, values1 = zip(*testpopulation[0][0].items())\n",
    "values1=np.array(values1)\n",
    "values1.ravel()"
   ]
  },
  {
   "cell_type": "code",
   "execution_count": 124,
   "id": "c30d2ddb",
   "metadata": {},
   "outputs": [],
   "source": [
    "# print(testpopulation)"
   ]
  },
  {
   "cell_type": "code",
   "execution_count": 18,
   "id": "11c1bcbc",
   "metadata": {},
   "outputs": [
    {
     "name": "stdout",
     "output_type": "stream",
     "text": [
      "[39005.68805544493 37050.01013759442 39041.59139933274 36471.41805764832\n",
      " 39740.48568086652 39533.66306542681 38206.83638510897 39174.416320511526\n",
      " 38516.630715735264 39340.70273164852 39955.299273758734\n",
      " 37902.135304559895 38505.89493511321 39145.00878723907 38159.378775386445\n",
      " 39254.00071138321 38594.27041821007 38717.00029133816 37504.05965075742\n",
      " 40227.42476246583] [39005.68805544493 37050.01013759442 39041.59139933274 36471.41805764832\n",
      " 39740.48568086652 39533.66306542681 38206.83638510897 39174.416320511526\n",
      " 38516.630715735264 39340.70273164852 39955.299273758734\n",
      " 37902.135304559895 38505.89493511321 39145.00878723907 38159.378775386445\n",
      " 39254.00071138321 38594.27041821007 38717.00029133816 37504.05965075742\n",
      " 40227.42476246583]\n"
     ]
    }
   ],
   "source": [
    "print(np.array(testpopulation)[:,1],np.array(testpopulation)[:,1])"
   ]
  },
  {
   "cell_type": "code",
   "execution_count": 21,
   "id": "5375c02e",
   "metadata": {},
   "outputs": [],
   "source": [
    "np_population=np.array(testpopulation)"
   ]
  },
  {
   "cell_type": "code",
   "execution_count": 23,
   "id": "75305131",
   "metadata": {},
   "outputs": [],
   "source": [
    "childDist=36671.3863720199 "
   ]
  },
  {
   "cell_type": "code",
   "execution_count": 25,
   "id": "a745386a",
   "metadata": {},
   "outputs": [
    {
     "data": {
      "text/plain": [
       "True"
      ]
     },
     "execution_count": 25,
     "metadata": {},
     "output_type": "execute_result"
    }
   ],
   "source": [
    "childDist<np.max(np_population[:,1]) and childDist not in np_population[:,1]"
   ]
  },
  {
   "cell_type": "code",
   "execution_count": 60,
   "id": "78dbdc0e",
   "metadata": {},
   "outputs": [
    {
     "data": {
      "text/plain": [
       "{0: array([  6, 198,  25, 171,  45, 120, 173, 158,  23,  31, 135,  51,  86,\n",
       "        125,  95, 103, 164, 165,  10,  47,  83, 169, 121, 115,  65, 152,\n",
       "         43, 187, 193,  50,  62, 178,  15, 117, 192,  42, 136, 104,  24,\n",
       "         89,  33,  57, 140, 170, 199, 147,   4,  85, 138,  88,  72,   2,\n",
       "         58,  40, 166, 127,  59, 100,   3, 162,  92, 105,  18, 155, 196,\n",
       "         96,  80,  44,  32,  99,  73,  56, 179, 130, 188,  68, 141, 107,\n",
       "        191,  13,  35, 174,   9, 118,  91,  98, 148, 189,  48,  17, 109,\n",
       "         28, 183,  36, 123,  81,  77,   8, 137,  60]),\n",
       " 1: array([ 94,  75, 101,  69, 143,  29,  67, 157,  76,  79,  66,  30, 134,\n",
       "         19,  64, 176,  26, 144, 116, 114, 110,  52,   0,  11, 146,  39,\n",
       "        131,  84, 190, 197, 122,  14,  12,  78, 159, 161,  63,  54,  41,\n",
       "        185, 126, 111, 119,  46, 156, 154, 133,   7,  21, 182,  74, 106,\n",
       "        108,  53,   5, 186, 150, 160, 124, 180,   1,  34, 168, 153,  20,\n",
       "        139, 163,  22,  49,  38, 128, 145,  16, 142, 102, 113,  97,  87,\n",
       "         27,  37,  55, 151, 177, 195,  70, 129,  71,  82,  61, 184, 167,\n",
       "        172, 149,  90,  93, 181, 194, 112, 132, 175])}"
      ]
     },
     "execution_count": 60,
     "metadata": {},
     "output_type": "execute_result"
    }
   ],
   "source": [
    "start_cycle_heuristic()"
   ]
  },
  {
   "cell_type": "code",
   "execution_count": null,
   "id": "d9d78698",
   "metadata": {},
   "outputs": [],
   "source": []
  }
 ],
 "metadata": {
  "kernelspec": {
   "display_name": "Python 3",
   "language": "python",
   "name": "python3"
  },
  "language_info": {
   "codemirror_mode": {
    "name": "ipython",
    "version": 3
   },
   "file_extension": ".py",
   "mimetype": "text/x-python",
   "name": "python",
   "nbconvert_exporter": "python",
   "pygments_lexer": "ipython3",
   "version": "3.6.9"
  }
 },
 "nbformat": 4,
 "nbformat_minor": 5
}
